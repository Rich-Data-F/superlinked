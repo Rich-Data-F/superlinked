{
 "cells": [
  {
   "cell_type": "markdown",
   "metadata": {
    "id": "cex_gts5z8A3"
   },
   "source": [
    "# Semantic Search in arXiv Papers\n",
    "\n",
    "This notebook shows how to retrieve data from the arXiv API and implement semantic search and recency weighting with Superlinked. More specifically, the notebook will include the following steps:\n",
    "\n",
    "Preparation\n",
    "\n",
    "- Retrieving, processing and exploring the data\n",
    "\n",
    "Setting up our vector computer\n",
    "\n",
    "-  Creating a schema\n",
    "-  Creating vector embedding spaces\n",
    "-  Indexing & parsing\n",
    "-  Setting up & filling an in-memory data store\n",
    "\n",
    "Searching\n",
    "\n",
    "- Queries\n",
    "- Weighting"
   ]
  },
  {
   "cell_type": "markdown",
   "metadata": {
    "id": "WiSIGpXhGqOq"
   },
   "source": [
    "## Preparation"
   ]
  },
  {
   "cell_type": "code",
   "execution_count": 1,
   "metadata": {
    "cellView": "form",
    "id": "L37bYnS7wpIH"
   },
   "outputs": [],
   "source": [
    "%%capture\n",
    "%%PIP COMMAND%%\n",
    "%pip install lxml bs4"
   ]
  },
  {
   "cell_type": "code",
   "execution_count": 2,
   "metadata": {},
   "outputs": [
    {
     "name": "stdout",
     "output_type": "stream",
     "text": [
      "Requirement already satisfied: altair in c:\\users\\richard b\\appdata\\local\\programs\\python\\python311\\lib\\site-packages (4.2.2)\n",
      "Requirement already satisfied: entrypoints in c:\\users\\richard b\\appdata\\local\\programs\\python\\python311\\lib\\site-packages (from altair) (0.4)\n",
      "Requirement already satisfied: jinja2 in c:\\users\\richard b\\appdata\\local\\programs\\python\\python311\\lib\\site-packages (from altair) (3.1.2)\n",
      "Requirement already satisfied: jsonschema>=3.0 in c:\\users\\richard b\\appdata\\local\\programs\\python\\python311\\lib\\site-packages (from altair) (4.22.0)\n",
      "Requirement already satisfied: numpy in c:\\users\\richard b\\appdata\\local\\programs\\python\\python311\\lib\\site-packages (from altair) (1.26.4)\n",
      "Requirement already satisfied: pandas>=0.18 in c:\\users\\richard b\\appdata\\local\\programs\\python\\python311\\lib\\site-packages (from altair) (2.0.3)\n",
      "Requirement already satisfied: toolz in c:\\users\\richard b\\appdata\\local\\programs\\python\\python311\\lib\\site-packages (from altair) (0.12.0)\n",
      "Requirement already satisfied: attrs>=22.2.0 in c:\\users\\richard b\\appdata\\local\\programs\\python\\python311\\lib\\site-packages (from jsonschema>=3.0->altair) (23.1.0)\n",
      "Requirement already satisfied: jsonschema-specifications>=2023.03.6 in c:\\users\\richard b\\appdata\\local\\programs\\python\\python311\\lib\\site-packages (from jsonschema>=3.0->altair) (2023.12.1)\n",
      "Requirement already satisfied: referencing>=0.28.4 in c:\\users\\richard b\\appdata\\local\\programs\\python\\python311\\lib\\site-packages (from jsonschema>=3.0->altair) (0.35.1)\n",
      "Requirement already satisfied: rpds-py>=0.7.1 in c:\\users\\richard b\\appdata\\local\\programs\\python\\python311\\lib\\site-packages (from jsonschema>=3.0->altair) (0.18.1)\n",
      "Requirement already satisfied: python-dateutil>=2.8.2 in c:\\users\\richard b\\appdata\\roaming\\python\\python311\\site-packages (from pandas>=0.18->altair) (2.8.2)\n",
      "Requirement already satisfied: pytz>=2020.1 in c:\\users\\richard b\\appdata\\local\\programs\\python\\python311\\lib\\site-packages (from pandas>=0.18->altair) (2023.3)\n",
      "Requirement already satisfied: tzdata>=2022.1 in c:\\users\\richard b\\appdata\\local\\programs\\python\\python311\\lib\\site-packages (from pandas>=0.18->altair) (2023.3)\n",
      "Requirement already satisfied: MarkupSafe>=2.0 in c:\\users\\richard b\\appdata\\local\\programs\\python\\python311\\lib\\site-packages (from jinja2->altair) (2.1.2)\n",
      "Requirement already satisfied: six>=1.5 in c:\\users\\richard b\\appdata\\roaming\\python\\python311\\site-packages (from python-dateutil>=2.8.2->pandas>=0.18->altair) (1.16.0)\n"
     ]
    }
   ],
   "source": [
    "!pip install altair"
   ]
  },
  {
   "cell_type": "code",
   "execution_count": 3,
   "metadata": {},
   "outputs": [
    {
     "name": "stdout",
     "output_type": "stream",
     "text": [
      "Requirement already satisfied: pip in c:\\users\\richard b\\appdata\\local\\programs\\python\\python311\\lib\\site-packages (24.1.2)\n",
      "Note: you may need to restart the kernel to use updated packages.\n"
     ]
    }
   ],
   "source": [
    "%pip install --upgrade pip"
   ]
  },
  {
   "cell_type": "code",
   "execution_count": 5,
   "metadata": {},
   "outputs": [
    {
     "name": "stdout",
     "output_type": "stream",
     "text": [
      "Python 3.11.0\n"
     ]
    }
   ],
   "source": [
    "!python --version"
   ]
  },
  {
   "cell_type": "markdown",
   "metadata": {
    "id": "dpOj5QkXlDcs"
   },
   "source": [
    "### Setting up a basic logger"
   ]
  },
  {
   "cell_type": "code",
   "execution_count": null,
   "metadata": {},
   "outputs": [
    {
     "name": "stdout",
     "output_type": "stream",
     "text": [
      "absl-py==1.4.0\n",
      "alabaster @ file:///home/ktietz/src/ci/alabaster_1611921544520/work\n",
      "altair==5.3.0\n",
      "anaconda-client==1.11.1\n",
      "anaconda-navigator==2.4.0\n",
      "anaconda-project @ file:///C:/Windows/TEMP/abs_91fu4tfkih/croots/recipe/anaconda-project_1660339890874/work\n",
      "anyio @ file:///C:/ci/anyio_1644481856696/work/dist\n",
      "appdirs==1.4.4\n",
      "argon2-cffi @ file:///opt/conda/conda-bld/argon2-cffi_1645000214183/work\n",
      "argon2-cffi-bindings @ file:///C:/ci/argon2-cffi-bindings_1644569876605/work\n",
      "arrow @ file:///C:/b/abs_cal7u12ktb/croot/arrow_1676588147908/work\n",
      "astroid @ file:///C:/b/abs_d4lg3_taxn/croot/astroid_1676904351456/work\n",
      "astropy @ file:///C:/ci/astropy_1657719642921/work\n",
      "asttokens @ file:///opt/conda/conda-bld/asttokens_1646925590279/work\n",
      "astunparse==1.6.3\n",
      "atomicwrites==1.4.0\n",
      "attrs @ file:///C:/b/abs_09s3y775ra/croot/attrs_1668696195628/work\n",
      "Automat @ file:///tmp/build/80754af9/automat_1600298431173/work\n",
      "autopep8 @ file:///opt/conda/conda-bld/autopep8_1650463822033/work\n",
      "Babel @ file:///C:/b/abs_a2shv_3tqi/croot/babel_1671782804377/work\n",
      "backcall @ file:///home/ktietz/src/ci/backcall_1611930011877/work\n",
      "backports.functools-lru-cache @ file:///tmp/build/80754af9/backports.functools_lru_cache_1618170165463/work\n",
      "backports.tempfile @ file:///home/linux1/recipes/ci/backports.tempfile_1610991236607/work\n",
      "backports.weakref==1.0.post1\n",
      "bcrypt @ file:///C:/Windows/Temp/abs_36kl66t_aw/croots/recipe/bcrypt_1659554334050/work\n",
      "beautifulsoup4 @ file:///C:/ci/beautifulsoup4_1650293028159/work\n",
      "binaryornot @ file:///tmp/build/80754af9/binaryornot_1617751525010/work\n",
      "black @ file:///C:/ci/black_1660221726201/work\n",
      "bleach @ file:///opt/conda/conda-bld/bleach_1641577558959/work\n",
      "bokeh @ file:///C:/Windows/TEMP/abs_4a259bc2-ed05-4a1f-808e-ac712cc0900cddqp8sp7/croots/recipe/bokeh_1658136660686/work\n",
      "boltons @ file:///C:/b/abs_707eo7c09t/croot/boltons_1677628723117/work\n",
      "Bottleneck @ file:///C:/Windows/Temp/abs_3198ca53-903d-42fd-87b4-03e6d03a8381yfwsuve8/croots/recipe/bottleneck_1657175565403/work\n",
      "brotlipy==0.7.0\n",
      "cachetools==5.3.0\n",
      "certifi @ file:///C:/b/abs_85o_6fm0se/croot/certifi_1671487778835/work/certifi\n",
      "cffi @ file:///C:/b/abs_49n3v2hyhr/croot/cffi_1670423218144/work\n",
      "chardet @ file:///C:/ci_310/chardet_1642114080098/work\n",
      "charset-normalizer @ file:///tmp/build/80754af9/charset-normalizer_1630003229654/work\n",
      "click @ file:///C:/ci/click_1646056762388/work\n",
      "cloudpickle @ file:///tmp/build/80754af9/cloudpickle_1632508026186/work\n",
      "clyent==1.2.2\n",
      "colorama @ file:///C:/b/abs_a9ozq0l032/croot/colorama_1672387194846/work\n",
      "colorcet @ file:///C:/b/abs_46vyu0rpdl/croot/colorcet_1668084513237/work\n",
      "comm @ file:///C:/b/abs_1419earm7u/croot/comm_1671231131638/work\n",
      "conda==23.3.1\n",
      "conda-build==3.23.3\n",
      "conda-content-trust @ file:///C:/Windows/TEMP/abs_4589313d-fc62-4ccc-81c0-b801b4449e833j1ajrwu/croots/recipe/conda-content-trust_1658126379362/work\n",
      "conda-pack @ file:///tmp/build/80754af9/conda-pack_1611163042455/work\n",
      "conda-package-handling @ file:///C:/b/abs_fcga8w0uem/croot/conda-package-handling_1672865024290/work\n",
      "conda-repo-cli==1.0.27\n",
      "conda-token @ file:///Users/paulyim/miniconda3/envs/c3i/conda-bld/conda-token_1662660369760/work\n",
      "conda-verify==3.4.2\n",
      "conda_package_streaming @ file:///C:/b/abs_0e5n5hdal3/croot/conda-package-streaming_1670508162902/work\n",
      "constantly==15.1.0\n",
      "contourpy @ file:///C:/b/abs_d5rpy288vc/croots/recipe/contourpy_1663827418189/work\n",
      "cookiecutter @ file:///opt/conda/conda-bld/cookiecutter_1649151442564/work\n",
      "cryptography @ file:///C:/b/abs_8ecplyc3n2/croot/cryptography_1677533105000/work\n",
      "cssselect==1.1.0\n",
      "cycler @ file:///tmp/build/80754af9/cycler_1637851556182/work\n",
      "cytoolz @ file:///C:/b/abs_61m9vzb4qh/croot/cytoolz_1667465938275/work\n",
      "daal4py==2023.0.2\n",
      "dask @ file:///C:/ci/dask-core_1658497112560/work\n",
      "datashader @ file:///C:/b/abs_e80f3d7ac0/croot/datashader_1676023254070/work\n",
      "datashape==0.5.4\n",
      "debugpy @ file:///C:/ci_310/debugpy_1642079916595/work\n",
      "decorator @ file:///opt/conda/conda-bld/decorator_1643638310831/work\n",
      "defusedxml @ file:///tmp/build/80754af9/defusedxml_1615228127516/work\n",
      "diff-match-patch @ file:///Users/ktietz/demo/mc3/conda-bld/diff-match-patch_1630511840874/work\n",
      "dill @ file:///C:/b/abs_42h_07z1yj/croot/dill_1667919550096/work\n",
      "distributed @ file:///C:/ci/distributed_1658523963030/work\n",
      "docstring-to-markdown @ file:///C:/b/abs_cf10j8nr4q/croot/docstring-to-markdown_1673447652942/work\n",
      "docutils @ file:///C:/Windows/TEMP/abs_24e5e278-4d1c-47eb-97b9-f761d871f482dy2vg450/croots/recipe/docutils_1657175444608/work\n",
      "entrypoints @ file:///C:/ci/entrypoints_1649926676279/work\n",
      "et-xmlfile==1.1.0\n",
      "executing @ file:///opt/conda/conda-bld/executing_1646925071911/work\n",
      "fastjsonschema @ file:///C:/Users/BUILDE~1/AppData/Local/Temp/abs_ebruxzvd08/croots/recipe/python-fastjsonschema_1661376484940/work\n",
      "filelock @ file:///C:/b/abs_c7yrhs9uz2/croot/filelock_1672387617533/work\n",
      "flake8 @ file:///C:/b/abs_9f6_n1jlpc/croot/flake8_1674581816810/work\n",
      "Flask @ file:///C:/b/abs_ef16l83sif/croot/flask_1671217367534/work\n",
      "flatbuffers==23.3.3\n",
      "flit_core @ file:///opt/conda/conda-bld/flit-core_1644941570762/work/source/flit_core\n",
      "fonttools==4.25.0\n",
      "fsspec @ file:///C:/b/abs_5bjz6v0w_f/croot/fsspec_1670336608940/work\n",
      "future @ file:///C:/b/abs_3dcibf18zi/croot/future_1677599891380/work\n",
      "gast==0.4.0\n",
      "gensim @ file:///C:/b/abs_a5vat69tv8/croot/gensim_1674853640591/work\n",
      "glob2 @ file:///home/linux1/recipes/ci/glob2_1610991677669/work\n",
      "google-auth==2.16.3\n",
      "google-auth-oauthlib==0.4.6\n",
      "google-pasta==0.2.0\n",
      "greenlet @ file:///C:/b/abs_47lk_w2ajq/croot/greenlet_1670513248400/work\n",
      "grpcio==1.51.3\n",
      "h5py @ file:///C:/ci/h5py_1659089830381/work\n",
      "HeapDict @ file:///Users/ktietz/demo/mc3/conda-bld/heapdict_1630598515714/work\n",
      "holoviews @ file:///C:/b/abs_bbf97_0kcd/croot/holoviews_1676372911083/work\n",
      "huggingface-hub @ file:///C:/b/abs_8d8wo2z8c6/croot/huggingface_hub_1667490298905/work\n",
      "hvplot @ file:///C:/b/abs_13un17_4x_/croot/hvplot_1670508919193/work\n",
      "hyperlink @ file:///tmp/build/80754af9/hyperlink_1610130746837/work\n",
      "idna @ file:///C:/b/abs_bdhbebrioa/croot/idna_1666125572046/work\n",
      "imagecodecs @ file:///C:/b/abs_f0cr12h73p/croot/imagecodecs_1677576746499/work\n",
      "imageio @ file:///C:/b/abs_27kq2gy1us/croot/imageio_1677879918708/work\n",
      "imagesize @ file:///C:/Windows/TEMP/abs_3cecd249-3fc4-4bfc-b80b-bb227b0d701en12vqzot/croots/recipe/imagesize_1657179501304/work\n",
      "imbalanced-learn @ file:///C:/b/abs_1911ryuksz/croot/imbalanced-learn_1677191585237/work\n",
      "importlib-metadata @ file:///C:/ci/importlib-metadata_1648544469310/work\n",
      "incremental @ file:///tmp/build/80754af9/incremental_1636629750599/work\n",
      "inflection==0.5.1\n",
      "iniconfig @ file:///home/linux1/recipes/ci/iniconfig_1610983019677/work\n",
      "intake @ file:///C:/b/abs_42yyb2lhwx/croot/intake_1676619887779/work\n",
      "intervaltree @ file:///Users/ktietz/demo/mc3/conda-bld/intervaltree_1630511889664/work\n",
      "ipykernel @ file:///C:/b/abs_b4f07tbsyd/croot/ipykernel_1672767104060/work\n",
      "ipython @ file:///C:/b/abs_d3h279dv3h/croot/ipython_1676582236558/work\n",
      "ipython-genutils @ file:///tmp/build/80754af9/ipython_genutils_1606773439826/work\n",
      "ipywidgets @ file:///tmp/build/80754af9/ipywidgets_1634143127070/work\n",
      "isort @ file:///tmp/build/80754af9/isort_1628603791788/work\n",
      "itemadapter @ file:///tmp/build/80754af9/itemadapter_1626442940632/work\n",
      "itemloaders @ file:///opt/conda/conda-bld/itemloaders_1646805235997/work\n",
      "itsdangerous @ file:///tmp/build/80754af9/itsdangerous_1621432558163/work\n",
      "jax==0.4.6\n",
      "jedi @ file:///C:/ci/jedi_1644315428305/work\n",
      "jellyfish @ file:///C:/ci/jellyfish_1647962737334/work\n",
      "Jinja2 @ file:///C:/b/abs_7cdis66kl9/croot/jinja2_1666908141852/work\n",
      "jinja2-time @ file:///opt/conda/conda-bld/jinja2-time_1649251842261/work\n",
      "jmespath @ file:///Users/ktietz/demo/mc3/conda-bld/jmespath_1630583964805/work\n",
      "joblib @ file:///C:/b/abs_e60_bwl1v6/croot/joblib_1666298845728/work\n",
      "json5 @ file:///tmp/build/80754af9/json5_1624432770122/work\n",
      "jsonpatch @ file:///tmp/build/80754af9/jsonpatch_1615747632069/work\n",
      "jsonpointer==2.1\n",
      "jsonschema @ file:///C:/b/abs_6ccs97j_l8/croot/jsonschema_1676558690963/work\n",
      "jupyter @ file:///C:/Windows/TEMP/abs_56xfdi__li/croots/recipe/jupyter_1659349053177/work\n",
      "jupyter-console @ file:///C:/b/abs_68ttzd5p9c/croot/jupyter_console_1677674667636/work\n",
      "jupyter-contrib-core==0.4.2\n",
      "jupyter-contrib-nbextensions==0.7.0\n",
      "jupyter-highlight-selected-word==0.2.0\n",
      "jupyter-server @ file:///C:/b/abs_1cfi3__jl8/croot/jupyter_server_1671707636383/work\n",
      "jupyter_client @ file:///C:/ci/jupyter_client_1661834530766/work\n",
      "jupyter_core @ file:///C:/b/abs_bd7elvu3w2/croot/jupyter_core_1676538600510/work\n",
      "jupyter_nbextensions_configurator==0.6.4\n",
      "jupyterlab @ file:///C:/b/abs_513jt6yy74/croot/jupyterlab_1675354138043/work\n",
      "jupyterlab-pygments @ file:///tmp/build/80754af9/jupyterlab_pygments_1601490720602/work\n",
      "jupyterlab-widgets @ file:///tmp/build/80754af9/jupyterlab_widgets_1609884341231/work\n",
      "jupyterlab_server @ file:///C:/b/abs_d1z_g1swc8/croot/jupyterlab_server_1677153204814/work\n",
      "jupyterthemes==0.20.0\n",
      "keras==2.12.0\n",
      "keyring @ file:///C:/ci_310/keyring_1642165564669/work\n",
      "kiwisolver @ file:///C:/b/abs_88mdhvtahm/croot/kiwisolver_1672387921783/work\n",
      "lazy-object-proxy @ file:///C:/ci_310/lazy-object-proxy_1642083437654/work\n",
      "lesscpy==0.15.1\n",
      "libarchive-c @ file:///tmp/build/80754af9/python-libarchive-c_1617780486945/work\n",
      "libclang==16.0.0\n",
      "llvmlite==0.39.1\n",
      "locket @ file:///C:/ci/locket_1652904090946/work\n",
      "lxml @ file:///C:/ci/lxml_1657527492694/work\n",
      "lz4 @ file:///C:/ci_310/lz4_1643300078932/work\n",
      "Markdown @ file:///C:/b/abs_98lv_ucina/croot/markdown_1671541919225/work\n",
      "MarkupSafe @ file:///C:/ci/markupsafe_1654508036328/work\n",
      "matplotlib @ file:///C:/b/abs_b2d7uv90hg/croot/matplotlib-suite_1677674332463/work\n",
      "matplotlib-inline @ file:///C:/ci/matplotlib-inline_1661934094726/work\n",
      "mccabe @ file:///opt/conda/conda-bld/mccabe_1644221741721/work\n",
      "mediapipe==0.9.2.1\n",
      "menuinst @ file:///C:/Users/BUILDE~1/AppData/Local/Temp/abs_455sf5o0ct/croots/recipe/menuinst_1661805970842/work\n",
      "mistune @ file:///C:/ci_310/mistune_1642084168466/work\n",
      "mkl-fft==1.3.1\n",
      "mkl-random @ file:///C:/ci_310/mkl_random_1643050563308/work\n",
      "mkl-service==2.4.0\n",
      "mock @ file:///tmp/build/80754af9/mock_1607622725907/work\n",
      "mpmath==1.2.1\n",
      "msgpack @ file:///C:/ci/msgpack-python_1652348582618/work\n",
      "multipledispatch @ file:///C:/ci_310/multipledispatch_1642084438481/work\n",
      "munkres==1.1.4\n",
      "mypy-extensions==0.4.3\n",
      "navigator-updater==0.3.0\n",
      "nbclassic @ file:///C:/b/abs_d0_ze5q0j2/croot/nbclassic_1676902914817/work\n",
      "nbclient @ file:///C:/ci/nbclient_1650308592199/work\n",
      "nbconvert @ file:///C:/b/abs_4av3q4okro/croot/nbconvert_1668450658054/work\n",
      "nbformat @ file:///C:/b/abs_85_3g7dkt4/croot/nbformat_1670352343720/work\n",
      "nest-asyncio @ file:///C:/b/abs_3a_4jsjlqu/croot/nest-asyncio_1672387322800/work\n",
      "networkx @ file:///C:/ci/networkx_1657716953747/work\n",
      "nltk @ file:///opt/conda/conda-bld/nltk_1645628263994/work\n",
      "notebook @ file:///C:/b/abs_ca13hqvuzw/croot/notebook_1668179888546/work\n",
      "notebook_shim @ file:///C:/b/abs_ebfczttg6x/croot/notebook-shim_1668160590914/work\n",
      "numba @ file:///C:/b/abs_e53pp2e4k7/croot/numba_1670258349527/work\n",
      "numexpr @ file:///C:/b/abs_a7kbak88hk/croot/numexpr_1668713882979/work\n",
      "numpy @ file:///C:/b/abs_datssh7cer/croot/numpy_and_numpy_base_1672336199388/work\n",
      "numpydoc @ file:///C:/b/abs_cfdd4zxbga/croot/numpydoc_1668085912100/work\n",
      "oauthlib==3.2.2\n",
      "opencv-contrib-python==4.7.0.72\n",
      "openpyxl==3.0.10\n",
      "opt-einsum==3.3.0\n",
      "packaging @ file:///C:/b/abs_cfsup8ur87/croot/packaging_1671697442297/work\n",
      "pandas @ file:///C:/b/abs_b9kefbuby2/croot/pandas_1677835593760/work\n",
      "pandocfilters @ file:///opt/conda/conda-bld/pandocfilters_1643405455980/work\n",
      "panel @ file:///C:/b/abs_55ujq2fpyh/croot/panel_1676379705003/work\n",
      "param @ file:///C:/b/abs_d799n8xz_7/croot/param_1671697759755/work\n",
      "paramiko @ file:///opt/conda/conda-bld/paramiko_1640109032755/work\n",
      "parsel @ file:///C:/ci/parsel_1646722035970/work\n",
      "parso @ file:///opt/conda/conda-bld/parso_1641458642106/work\n",
      "partd @ file:///opt/conda/conda-bld/partd_1647245470509/work\n",
      "pathlib @ file:///Users/ktietz/demo/mc3/conda-bld/pathlib_1629713961906/work\n",
      "pathspec @ file:///C:/b/abs_9cu5_2yb3i/croot/pathspec_1674681579249/work\n",
      "patsy==0.5.3\n",
      "pep8==1.7.1\n",
      "pexpect @ file:///tmp/build/80754af9/pexpect_1605563209008/work\n",
      "pickleshare @ file:///tmp/build/80754af9/pickleshare_1606932040724/work\n",
      "Pillow==9.4.0\n",
      "pkginfo @ file:///C:/b/abs_d51wye6ned/croot/pkginfo_1666725041585/work\n",
      "platformdirs @ file:///C:/b/abs_73cc5cz_1u/croots/recipe/platformdirs_1662711386458/work\n",
      "plotly @ file:///C:/ci/plotly_1658160673416/work\n",
      "pluggy @ file:///C:/ci/pluggy_1648042746254/work\n",
      "ply==3.11\n",
      "pooch @ file:///tmp/build/80754af9/pooch_1623324770023/work\n",
      "poyo @ file:///tmp/build/80754af9/poyo_1617751526755/work\n",
      "prometheus-client @ file:///C:/Windows/TEMP/abs_ab9nx8qb08/croots/recipe/prometheus_client_1659455104602/work\n",
      "prompt-toolkit @ file:///C:/b/abs_6coz5_9f2s/croot/prompt-toolkit_1672387908312/work\n",
      "Protego @ file:///tmp/build/80754af9/protego_1598657180827/work\n",
      "protobuf==3.20.3\n",
      "psutil @ file:///C:/Windows/Temp/abs_b2c2fd7f-9fd5-4756-95ea-8aed74d0039flsd9qufz/croots/recipe/psutil_1656431277748/work\n",
      "ptyprocess @ file:///tmp/build/80754af9/ptyprocess_1609355006118/work/dist/ptyprocess-0.7.0-py2.py3-none-any.whl\n",
      "pure-eval @ file:///opt/conda/conda-bld/pure_eval_1646925070566/work\n",
      "py @ file:///opt/conda/conda-bld/py_1644396412707/work\n",
      "pyasn1 @ file:///Users/ktietz/demo/mc3/conda-bld/pyasn1_1629708007385/work\n",
      "pyasn1-modules==0.2.8\n",
      "pycodestyle @ file:///C:/b/abs_d77nxvklcq/croot/pycodestyle_1674267231034/work\n",
      "pycosat @ file:///C:/b/abs_4b1rrw8pn9/croot/pycosat_1666807711599/work\n",
      "pycparser @ file:///tmp/build/80754af9/pycparser_1636541352034/work\n",
      "pyct @ file:///C:/b/abs_92z17k7ig2/croot/pyct_1675450330889/work\n",
      "pycurl==7.45.1\n",
      "PyDispatcher==2.0.5\n",
      "pydocstyle @ file:///C:/b/abs_6dz687_5i3/croot/pydocstyle_1675221688656/work\n",
      "pyerfa @ file:///C:/ci_310/pyerfa_1642088497201/work\n",
      "pyflakes @ file:///C:/b/abs_6dve6e13zh/croot/pyflakes_1674165143327/work\n",
      "Pygments @ file:///opt/conda/conda-bld/pygments_1644249106324/work\n",
      "PyHamcrest @ file:///tmp/build/80754af9/pyhamcrest_1615748656804/work\n",
      "PyJWT @ file:///C:/ci/pyjwt_1657529477795/work\n",
      "pylint @ file:///C:/b/abs_83sq99jc8i/croot/pylint_1676919922167/work\n",
      "pylint-venv @ file:///C:/b/abs_bf0lepsbij/croot/pylint-venv_1673990138593/work\n",
      "pyls-spyder==0.4.0\n",
      "PyNaCl @ file:///C:/Windows/Temp/abs_d5c3ajcm87/croots/recipe/pynacl_1659620667490/work\n",
      "pyodbc @ file:///C:/Windows/Temp/abs_61e3jz3u05/croots/recipe/pyodbc_1659513801402/work\n",
      "pyOpenSSL @ file:///C:/b/abs_552w85x1jz/croot/pyopenssl_1677607703691/work\n",
      "pyparsing @ file:///C:/Users/BUILDE~1/AppData/Local/Temp/abs_7f_7lba6rl/croots/recipe/pyparsing_1661452540662/work\n",
      "PyQt5==5.15.7\n",
      "PyQt5-sip @ file:///C:/Windows/Temp/abs_d7gmd2jg8i/croots/recipe/pyqt-split_1659273064801/work/pyqt_sip\n",
      "PyQtWebEngine==5.15.4\n",
      "pyrsistent @ file:///C:/ci_310/pyrsistent_1642117077485/work\n",
      "PySocks @ file:///C:/ci_310/pysocks_1642089375450/work\n",
      "pytest==7.1.2\n",
      "python-dateutil @ file:///tmp/build/80754af9/python-dateutil_1626374649649/work\n",
      "python-lsp-black @ file:///C:/Users/BUILDE~1/AppData/Local/Temp/abs_dddk9lhpp1/croots/recipe/python-lsp-black_1661852041405/work\n",
      "python-lsp-jsonrpc==1.0.0\n",
      "python-lsp-server @ file:///C:/b/abs_e44khh1wya/croot/python-lsp-server_1677296772730/work\n",
      "python-slugify @ file:///tmp/build/80754af9/python-slugify_1620405669636/work\n",
      "python-snappy @ file:///C:/b/abs_61b1fmzxcn/croot/python-snappy_1670943932513/work\n",
      "pytoolconfig @ file:///C:/b/abs_18sf9z_iwl/croot/pytoolconfig_1676315065270/work\n",
      "pytz @ file:///C:/b/abs_22fofvpn1x/croot/pytz_1671698059864/work\n",
      "pyviz-comms @ file:///tmp/build/80754af9/pyviz_comms_1623747165329/work\n",
      "PyWavelets @ file:///C:/b/abs_a8r4b1511a/croot/pywavelets_1670425185881/work\n",
      "pywin32==305.1\n",
      "pywin32-ctypes @ file:///C:/ci_310/pywin32-ctypes_1642657835512/work\n",
      "pywinpty @ file:///C:/b/abs_73vshmevwq/croot/pywinpty_1677609966356/work/target/wheels/pywinpty-2.0.10-cp310-none-win_amd64.whl\n",
      "PyYAML @ file:///C:/b/abs_d0g7dqt2xw/croot/pyyaml_1670514768165/work\n",
      "pyzmq @ file:///C:/ci/pyzmq_1657616000714/work\n",
      "QDarkStyle @ file:///tmp/build/80754af9/qdarkstyle_1617386714626/work\n",
      "qstylizer @ file:///C:/b/abs_ef86cgllby/croot/qstylizer_1674008538857/work/dist/qstylizer-0.2.2-py2.py3-none-any.whl\n",
      "QtAwesome @ file:///C:/b/abs_c5evilj98g/croot/qtawesome_1674008690220/work\n",
      "qtconsole @ file:///C:/b/abs_5bap7f8n0t/croot/qtconsole_1674008444833/work\n",
      "QtPy @ file:///C:/ci/qtpy_1662015130233/work\n",
      "queuelib==1.5.0\n",
      "regex @ file:///C:/ci/regex_1658258299320/work\n",
      "requests @ file:///C:/ci/requests_1657735340829/work\n",
      "requests-file @ file:///Users/ktietz/demo/mc3/conda-bld/requests-file_1629455781986/work\n",
      "requests-oauthlib==1.3.1\n",
      "rope @ file:///C:/b/abs_55g_tm_6ff/croot/rope_1676675029164/work\n",
      "rsa==4.9\n",
      "Rtree @ file:///C:/b/abs_e116ltblik/croot/rtree_1675157871717/work\n",
      "ruamel-yaml-conda @ file:///C:/b/abs_6ejaexx82s/croot/ruamel_yaml_1667489767827/work\n",
      "ruamel.yaml @ file:///C:/b/abs_30ee5qbthd/croot/ruamel.yaml_1666304562000/work\n",
      "ruamel.yaml.clib @ file:///C:/b/abs_aarblxbilo/croot/ruamel.yaml.clib_1666302270884/work\n",
      "scikit-image @ file:///C:/b/abs_63r0vmx78u/croot/scikit-image_1669241746873/work\n",
      "scikit-learn @ file:///C:/b/abs_7ck_bnw91r/croot/scikit-learn_1676911676133/work\n",
      "scikit-learn-intelex==20230228.214818\n",
      "scipy==1.10.0\n",
      "Scrapy @ file:///C:/b/abs_9fn69i_d86/croot/scrapy_1677738199744/work\n",
      "seaborn @ file:///C:/b/abs_68ltdkoyoo/croot/seaborn_1673479199997/work\n",
      "Send2Trash @ file:///tmp/build/80754af9/send2trash_1632406701022/work\n",
      "service-identity @ file:///Users/ktietz/demo/mc3/conda-bld/service_identity_1629460757137/work\n",
      "sip @ file:///C:/Windows/Temp/abs_b8fxd17m2u/croots/recipe/sip_1659012372737/work\n",
      "six @ file:///tmp/build/80754af9/six_1644875935023/work\n",
      "smart-open @ file:///C:/ci/smart_open_1651235038100/work\n",
      "sniffio @ file:///C:/ci_310/sniffio_1642092172680/work\n",
      "snowballstemmer @ file:///tmp/build/80754af9/snowballstemmer_1637937080595/work\n",
      "sortedcontainers @ file:///tmp/build/80754af9/sortedcontainers_1623949099177/work\n",
      "soupsieve @ file:///C:/b/abs_fasraqxhlv/croot/soupsieve_1666296394662/work\n",
      "Sphinx @ file:///C:/ci/sphinx_1657617157451/work\n",
      "sphinxcontrib-applehelp @ file:///home/ktietz/src/ci/sphinxcontrib-applehelp_1611920841464/work\n",
      "sphinxcontrib-devhelp @ file:///home/ktietz/src/ci/sphinxcontrib-devhelp_1611920923094/work\n",
      "sphinxcontrib-htmlhelp @ file:///tmp/build/80754af9/sphinxcontrib-htmlhelp_1623945626792/work\n",
      "sphinxcontrib-jsmath @ file:///home/ktietz/src/ci/sphinxcontrib-jsmath_1611920942228/work\n",
      "sphinxcontrib-qthelp @ file:///home/ktietz/src/ci/sphinxcontrib-qthelp_1611921055322/work\n",
      "sphinxcontrib-serializinghtml @ file:///tmp/build/80754af9/sphinxcontrib-serializinghtml_1624451540180/work\n",
      "spyder @ file:///C:/b/abs_93s9xkw3pn/croot/spyder_1677776163871/work\n",
      "spyder-kernels @ file:///C:/b/abs_feh4xo1mrn/croot/spyder-kernels_1673292245176/work\n",
      "SQLAlchemy @ file:///C:/Windows/Temp/abs_f8661157-660b-49bb-a790-69ab9f3b8f7c8a8s2psb/croots/recipe/sqlalchemy_1657867864564/work\n",
      "stack-data @ file:///opt/conda/conda-bld/stack_data_1646927590127/work\n",
      "statsmodels @ file:///C:/b/abs_bdqo3zaryj/croot/statsmodels_1676646249859/work\n",
      "sympy @ file:///C:/b/abs_95fbf1z7n6/croot/sympy_1668202411612/work\n",
      "tables==3.7.0\n",
      "tabulate @ file:///C:/ci/tabulate_1657600805799/work\n",
      "TBB==0.2\n",
      "tblib @ file:///Users/ktietz/demo/mc3/conda-bld/tblib_1629402031467/work\n",
      "tenacity @ file:///C:/Windows/TEMP/abs_980d07a6-8e21-4174-9c17-7296219678ads7dhdov_/croots/recipe/tenacity_1657899108023/work\n",
      "tensorboard==2.12.0\n",
      "tensorboard-data-server==0.7.0\n",
      "tensorboard-plugin-wit==1.8.1\n",
      "tensorflow==2.12.0\n",
      "tensorflow-estimator==2.12.0\n",
      "tensorflow-intel==2.12.0\n",
      "tensorflow-io-gcs-filesystem==0.31.0\n",
      "termcolor==2.2.0\n",
      "terminado @ file:///C:/b/abs_25nakickad/croot/terminado_1671751845491/work\n",
      "text-unidecode @ file:///Users/ktietz/demo/mc3/conda-bld/text-unidecode_1629401354553/work\n",
      "textdistance @ file:///tmp/build/80754af9/textdistance_1612461398012/work\n",
      "threadpoolctl @ file:///Users/ktietz/demo/mc3/conda-bld/threadpoolctl_1629802263681/work\n",
      "three-merge @ file:///tmp/build/80754af9/three-merge_1607553261110/work\n",
      "tifffile @ file:///tmp/build/80754af9/tifffile_1627275862826/work\n",
      "tinycss2 @ file:///C:/b/abs_52w5vfuaax/croot/tinycss2_1668168823131/work\n",
      "tldextract @ file:///opt/conda/conda-bld/tldextract_1646638314385/work\n",
      "tokenizers @ file:///C:/ci/tokenizers_1651821358528/work\n",
      "toml @ file:///tmp/build/80754af9/toml_1616166611790/work\n",
      "tomli @ file:///C:/Windows/TEMP/abs_ac109f85-a7b3-4b4d-bcfd-52622eceddf0hy332ojo/croots/recipe/tomli_1657175513137/work\n",
      "tomlkit @ file:///C:/Windows/TEMP/abs_3296qo9v6b/croots/recipe/tomlkit_1658946894808/work\n",
      "toolz @ file:///C:/b/abs_cfvk6rc40d/croot/toolz_1667464080130/work\n",
      "torch==1.12.1\n",
      "tornado @ file:///C:/ci_310/tornado_1642093111997/work\n",
      "tqdm @ file:///C:/b/abs_0axbz66qik/croots/recipe/tqdm_1664392691071/work\n",
      "traitlets @ file:///C:/b/abs_e5m_xjjl94/croot/traitlets_1671143896266/work\n",
      "transformers @ file:///C:/b/abs_8byf5_j714/croot/transformers_1667919454001/work\n",
      "Twisted @ file:///C:/Windows/Temp/abs_ccblv2rzfa/croots/recipe/twisted_1659592764512/work\n",
      "twisted-iocpsupport @ file:///C:/ci/twisted-iocpsupport_1646817083730/work\n",
      "typing_extensions @ file:///C:/b/abs_89eui86zuq/croot/typing_extensions_1669923792806/work\n",
      "ujson @ file:///C:/ci/ujson_1657525893897/work\n",
      "Unidecode @ file:///tmp/build/80754af9/unidecode_1614712377438/work\n",
      "urllib3 @ file:///C:/b/abs_9bcwxczrvm/croot/urllib3_1673575521331/work\n",
      "w3lib @ file:///Users/ktietz/demo/mc3/conda-bld/w3lib_1629359764703/work\n",
      "watchdog @ file:///C:/ci_310/watchdog_1642113443984/work\n",
      "wcwidth @ file:///Users/ktietz/demo/mc3/conda-bld/wcwidth_1629357192024/work\n",
      "webencodings==0.5.1\n",
      "websocket-client @ file:///C:/ci_310/websocket-client_1642093970919/work\n",
      "Werkzeug @ file:///C:/b/abs_17q5kgb8bo/croot/werkzeug_1671216014857/work\n",
      "whatthepatch @ file:///C:/Users/BUILDE~1/AppData/Local/Temp/abs_e7bihs8grh/croots/recipe/whatthepatch_1661796085215/work\n",
      "widgetsnbextension @ file:///C:/ci/widgetsnbextension_1645009839917/work\n",
      "win-inet-pton @ file:///C:/ci_310/win_inet_pton_1642658466512/work\n",
      "wincertstore==0.2\n",
      "wrapt @ file:///C:/Windows/Temp/abs_7c3dd407-1390-477a-b542-fd15df6a24085_diwiza/croots/recipe/wrapt_1657814452175/work\n",
      "xarray @ file:///C:/b/abs_2fi_umrauo/croot/xarray_1668776806973/work\n",
      "xlwings @ file:///C:/b/abs_1ejhh6s00l/croot/xlwings_1677024180629/work\n",
      "yapf @ file:///tmp/build/80754af9/yapf_1615749224965/work\n",
      "zict==2.1.0\n",
      "zipp @ file:///C:/b/abs_b9jfdr908q/croot/zipp_1672387552360/work\n",
      "zope.interface @ file:///C:/ci_310/zope.interface_1642113633904/work\n",
      "zstandard==0.19.0\n"
     ]
    }
   ],
   "source": [
    "!pip freeze"
   ]
  },
  {
   "cell_type": "code",
   "execution_count": 8,
   "metadata": {
    "id": "hy-6J9jNlGsF"
   },
   "outputs": [],
   "source": [
    "import altair as alt\n",
    "import logging\n",
    "import numpy as np\n",
    "import pandas as pd\n",
    "import requests\n",
    "\n",
    "from bs4 import BeautifulSoup\n",
    "from dateutil import parser\n",
    "from datetime import datetime, timedelta, timezone\n",
    "from urllib.parse import urlencode\n",
    "from superlinked.evaluation.charts.recency_plotter import RecencyPlotter\n",
    "from superlinked.framework.common.dag.context import CONTEXT_COMMON, CONTEXT_COMMON_NOW\n",
    "from superlinked.framework.common.dag.period_time import PeriodTime\n",
    "from superlinked.framework.common.parser.dataframe_parser import DataFrameParser\n",
    "from superlinked.framework.common.schema.id_schema_object import IdField\n",
    "from superlinked.framework.common.schema.schema import schema\n",
    "from superlinked.framework.common.schema.schema_object import String, Timestamp\n",
    "from superlinked.framework.dsl.executor.in_memory.in_memory_executor import InMemoryExecutor, InMemoryApp\n",
    "from superlinked.framework.dsl.index.index import Index\n",
    "from superlinked.framework.dsl.query.result import Result\n",
    "from superlinked.framework.dsl.query.query import Query\n",
    "from superlinked.framework.dsl.query.param import Param\n",
    "from superlinked.framework.dsl.source.in_memory_source import InMemorySource\n",
    "from superlinked.framework.dsl.space.text_similarity_space import TextSimilaritySpace\n",
    "from superlinked.framework.dsl.space.recency_space import RecencySpace\n",
    "\n",
    "alt.renderers.enable(\"mimetype\")\n",
    "\n",
    "# Creating and configuring our logger\n",
    "logging.basicConfig(filename=\"std.log\", format=\"%(asctime)s %(message)s\", filemode=\"w\")\n",
    "logger = logging.getLogger()\n",
    "\n",
    "# Set the logger threshold to DEBUG if you encounter errors\n",
    "logger.setLevel(logging.INFO)"
   ]
  },
  {
   "cell_type": "markdown",
   "metadata": {
    "id": "Z2w5Upt10mee"
   },
   "source": [
    "## Fetching & processing data from the arXiv API"
   ]
  },
  {
   "cell_type": "code",
   "execution_count": 9,
   "metadata": {
    "colab": {
     "base_uri": "https://localhost:8080/"
    },
    "id": "ZRfQX_ZqxHkL",
    "outputId": "e2cc1182-6026-42d7-9fa1-c4bfeed6e3d1"
   },
   "outputs": [],
   "source": [
    "def query_arxiv(\n",
    "    query=\"%22large%20language%20models%22\",\n",
    "    max_results=1000,\n",
    "    order_by=\"lastUpdatedDate\",\n",
    "    order=\"descending\",\n",
    "):\n",
    "    \"\"\"\n",
    "    Basic function for querying the api that lets us specify the most important parameters.\n",
    "\n",
    "    query: URL encoded string to search for in paper titles and abstracts\n",
    "    max_results: maximum amount of results returned by the api\n",
    "    order_by: variable to order the results by\n",
    "    order: descending or ascending based on the order_by parameter\n",
    "    \"\"\"\n",
    "    params = {\n",
    "        \"search_query\": f\"all:{query}\",\n",
    "        \"start\": 0,\n",
    "        \"max_results\": max_results,\n",
    "        \"sortBy\": order_by,\n",
    "        \"sortOrder\": order,\n",
    "    }\n",
    "    url = f\"http://export.arxiv.org/api/query?{urlencode(params)}\"\n",
    "    try:\n",
    "        response = requests.get(url)\n",
    "        response.raise_for_status()\n",
    "        logging.info(f\"Length of response text: {len(response.text)}\")\n",
    "        soup = BeautifulSoup(response.text, \"xml\")\n",
    "        data = []\n",
    "\n",
    "        for entry in soup.find_all(\"entry\"):\n",
    "            data_entry = {tag.name: tag.text.strip() for tag in entry.find_all()}\n",
    "            if \"id\" in data_entry:  # Ensure there is an 'id' field\n",
    "                data.append(data_entry)\n",
    "\n",
    "        logging.info(f\"{len(data)} entries found\")\n",
    "        return pd.DataFrame(data)\n",
    "\n",
    "    except requests.exceptions.RequestException as e:\n",
    "        logging.error(f\"Error during request: {e}\")\n",
    "    except Exception as e:\n",
    "        logging.error(f\"Unexpected error: {e}\")\n",
    "\n",
    "    return pd.DataFrame()  # Return an empty DataFrame if there was an error"
   ]
  },
  {
   "cell_type": "code",
   "execution_count": 10,
   "metadata": {
    "colab": {
     "base_uri": "https://localhost:8080/"
    },
    "id": "Wb-mWmLMyInP",
    "outputId": "f4eb7ff9-5945-4448-a6cf-bd95536afd29"
   },
   "outputs": [],
   "source": [
    "# We are using URL encodings here: %22 means \"\" and %20 stands for a space\n",
    "df = query_arxiv(query=\"%22retrieval%20augmented%20generation%22\")"
   ]
  },
  {
   "cell_type": "code",
   "execution_count": 11,
   "metadata": {
    "colab": {
     "base_uri": "https://localhost:8080/"
    },
    "id": "IoypUei1LFB_",
    "outputId": "b505e877-1c7f-4cbe-cf6a-9388485bc5b3"
   },
   "outputs": [
    {
     "data": {
      "text/plain": [
       "637"
      ]
     },
     "execution_count": 11,
     "metadata": {},
     "output_type": "execute_result"
    }
   ],
   "source": [
    "# Notice that we set the maximum to 1000 but the api returned less results, meaning\n",
    "# that the number of paper titles and abstracts including our search query is below 1000\n",
    "len(df)"
   ]
  },
  {
   "cell_type": "markdown",
   "metadata": {
    "id": "fcpFnnVMB6-t"
   },
   "source": [
    "## Exploring & preparing the data"
   ]
  },
  {
   "cell_type": "code",
   "execution_count": 12,
   "metadata": {
    "colab": {
     "base_uri": "https://localhost:8080/"
    },
    "id": "2mVcTkuGMqne",
    "outputId": "1eb89539-5dba-4dc9-f1ff-d72a3afce358"
   },
   "outputs": [
    {
     "data": {
      "text/plain": [
       "Index(['id', 'updated', 'published', 'title', 'summary', 'author', 'name',\n",
       "       'link', 'primary_category', 'category', 'comment', 'journal_ref', 'doi',\n",
       "       'affiliation'],\n",
       "      dtype='object')"
      ]
     },
     "execution_count": 12,
     "metadata": {},
     "output_type": "execute_result"
    }
   ],
   "source": [
    "# Checking all columns\n",
    "df.columns"
   ]
  },
  {
   "cell_type": "code",
   "execution_count": 13,
   "metadata": {
    "id": "pgdIS8YFQyfC"
   },
   "outputs": [],
   "source": [
    "# Feel free to play around more with the data if you want,\n",
    "# but for this application, we will only need a few columns\n",
    "df = df[[\"id\", \"published\", \"title\", \"summary\"]].copy()"
   ]
  },
  {
   "cell_type": "code",
   "execution_count": 14,
   "metadata": {
    "colab": {
     "base_uri": "https://localhost:8080/",
     "height": 143
    },
    "id": "N2OzJhECyjoV",
    "outputId": "018b0c93-94b3-4a1b-8f60-5cb6ba53265a"
   },
   "outputs": [
    {
     "data": {
      "text/html": [
       "<div>\n",
       "<style scoped>\n",
       "    .dataframe tbody tr th:only-of-type {\n",
       "        vertical-align: middle;\n",
       "    }\n",
       "\n",
       "    .dataframe tbody tr th {\n",
       "        vertical-align: top;\n",
       "    }\n",
       "\n",
       "    .dataframe thead th {\n",
       "        text-align: right;\n",
       "    }\n",
       "</style>\n",
       "<table border=\"1\" class=\"dataframe\">\n",
       "  <thead>\n",
       "    <tr style=\"text-align: right;\">\n",
       "      <th></th>\n",
       "      <th>id</th>\n",
       "      <th>published</th>\n",
       "      <th>title</th>\n",
       "      <th>summary</th>\n",
       "    </tr>\n",
       "  </thead>\n",
       "  <tbody>\n",
       "    <tr>\n",
       "      <th>0</th>\n",
       "      <td>http://arxiv.org/abs/2407.15831v1</td>\n",
       "      <td>2024-07-22T17:50:31Z</td>\n",
       "      <td>NV-Retriever: Improving text embedding models ...</td>\n",
       "      <td>Text embedding models have been popular for in...</td>\n",
       "    </tr>\n",
       "    <tr>\n",
       "      <th>1</th>\n",
       "      <td>http://arxiv.org/abs/2407.15748v1</td>\n",
       "      <td>2024-07-22T15:53:27Z</td>\n",
       "      <td>MoRSE: Bridging the Gap in Cybersecurity Exper...</td>\n",
       "      <td>In this paper, we introduce MoRSE (Mixture of ...</td>\n",
       "    </tr>\n",
       "    <tr>\n",
       "      <th>2</th>\n",
       "      <td>http://arxiv.org/abs/2407.15734v1</td>\n",
       "      <td>2024-07-22T15:37:41Z</td>\n",
       "      <td>TaskGen: A Task-Based, Memory-Infused Agentic ...</td>\n",
       "      <td>TaskGen is an open-sourced agentic framework w...</td>\n",
       "    </tr>\n",
       "  </tbody>\n",
       "</table>\n",
       "</div>"
      ],
      "text/plain": [
       "                                  id             published  \\\n",
       "0  http://arxiv.org/abs/2407.15831v1  2024-07-22T17:50:31Z   \n",
       "1  http://arxiv.org/abs/2407.15748v1  2024-07-22T15:53:27Z   \n",
       "2  http://arxiv.org/abs/2407.15734v1  2024-07-22T15:37:41Z   \n",
       "\n",
       "                                               title  \\\n",
       "0  NV-Retriever: Improving text embedding models ...   \n",
       "1  MoRSE: Bridging the Gap in Cybersecurity Exper...   \n",
       "2  TaskGen: A Task-Based, Memory-Infused Agentic ...   \n",
       "\n",
       "                                             summary  \n",
       "0  Text embedding models have been popular for in...  \n",
       "1  In this paper, we introduce MoRSE (Mixture of ...  \n",
       "2  TaskGen is an open-sourced agentic framework w...  "
      ]
     },
     "execution_count": 14,
     "metadata": {},
     "output_type": "execute_result"
    }
   ],
   "source": [
    "df.head(3)"
   ]
  },
  {
   "cell_type": "code",
   "execution_count": 15,
   "metadata": {
    "id": "33tIGa1JHLjL"
   },
   "outputs": [],
   "source": [
    "# Renaming the columns to have more intuitive names\n",
    "df = df.reset_index().rename(\n",
    "    columns={\"id\": \"url\", \"index\": \"id\", \"summary\": \"abstract\"}\n",
    ")"
   ]
  },
  {
   "cell_type": "code",
   "execution_count": 16,
   "metadata": {
    "id": "ZVXctsqmHf51"
   },
   "outputs": [],
   "source": [
    "# The api returns the datetimes as a string, which we first parse\n",
    "# in the datetime format and then convert them to timestamps\n",
    "df[\"published_timestamp\"] = [\n",
    "    int(parser.parse(date).replace(tzinfo=timezone.utc).timestamp())\n",
    "    for date in df.published\n",
    "]"
   ]
  },
  {
   "cell_type": "code",
   "execution_count": 17,
   "metadata": {},
   "outputs": [
    {
     "data": {
      "text/html": [
       "<div>\n",
       "<style scoped>\n",
       "    .dataframe tbody tr th:only-of-type {\n",
       "        vertical-align: middle;\n",
       "    }\n",
       "\n",
       "    .dataframe tbody tr th {\n",
       "        vertical-align: top;\n",
       "    }\n",
       "\n",
       "    .dataframe thead th {\n",
       "        text-align: right;\n",
       "    }\n",
       "</style>\n",
       "<table border=\"1\" class=\"dataframe\">\n",
       "  <thead>\n",
       "    <tr style=\"text-align: right;\">\n",
       "      <th></th>\n",
       "      <th>id</th>\n",
       "      <th>url</th>\n",
       "      <th>published</th>\n",
       "      <th>title</th>\n",
       "      <th>abstract</th>\n",
       "      <th>published_timestamp</th>\n",
       "    </tr>\n",
       "  </thead>\n",
       "  <tbody>\n",
       "    <tr>\n",
       "      <th>0</th>\n",
       "      <td>0</td>\n",
       "      <td>http://arxiv.org/abs/2407.15831v1</td>\n",
       "      <td>2024-07-22T17:50:31Z</td>\n",
       "      <td>NV-Retriever: Improving text embedding models ...</td>\n",
       "      <td>Text embedding models have been popular for in...</td>\n",
       "      <td>1721670631</td>\n",
       "    </tr>\n",
       "    <tr>\n",
       "      <th>1</th>\n",
       "      <td>1</td>\n",
       "      <td>http://arxiv.org/abs/2407.15748v1</td>\n",
       "      <td>2024-07-22T15:53:27Z</td>\n",
       "      <td>MoRSE: Bridging the Gap in Cybersecurity Exper...</td>\n",
       "      <td>In this paper, we introduce MoRSE (Mixture of ...</td>\n",
       "      <td>1721663607</td>\n",
       "    </tr>\n",
       "    <tr>\n",
       "      <th>2</th>\n",
       "      <td>2</td>\n",
       "      <td>http://arxiv.org/abs/2407.15734v1</td>\n",
       "      <td>2024-07-22T15:37:41Z</td>\n",
       "      <td>TaskGen: A Task-Based, Memory-Infused Agentic ...</td>\n",
       "      <td>TaskGen is an open-sourced agentic framework w...</td>\n",
       "      <td>1721662661</td>\n",
       "    </tr>\n",
       "    <tr>\n",
       "      <th>3</th>\n",
       "      <td>3</td>\n",
       "      <td>http://arxiv.org/abs/2407.15621v1</td>\n",
       "      <td>2024-07-22T13:29:56Z</td>\n",
       "      <td>RadioRAG: Factual Large Language Models for En...</td>\n",
       "      <td>Large language models (LLMs) have advanced the...</td>\n",
       "      <td>1721654996</td>\n",
       "    </tr>\n",
       "    <tr>\n",
       "      <th>4</th>\n",
       "      <td>4</td>\n",
       "      <td>http://arxiv.org/abs/2407.15569v1</td>\n",
       "      <td>2024-07-22T11:55:14Z</td>\n",
       "      <td>An Empirical Study of Retrieval Augmented Gene...</td>\n",
       "      <td>Since the launch of ChatGPT at the end of 2022...</td>\n",
       "      <td>1721649314</td>\n",
       "    </tr>\n",
       "  </tbody>\n",
       "</table>\n",
       "</div>"
      ],
      "text/plain": [
       "   id                                url             published  \\\n",
       "0   0  http://arxiv.org/abs/2407.15831v1  2024-07-22T17:50:31Z   \n",
       "1   1  http://arxiv.org/abs/2407.15748v1  2024-07-22T15:53:27Z   \n",
       "2   2  http://arxiv.org/abs/2407.15734v1  2024-07-22T15:37:41Z   \n",
       "3   3  http://arxiv.org/abs/2407.15621v1  2024-07-22T13:29:56Z   \n",
       "4   4  http://arxiv.org/abs/2407.15569v1  2024-07-22T11:55:14Z   \n",
       "\n",
       "                                               title  \\\n",
       "0  NV-Retriever: Improving text embedding models ...   \n",
       "1  MoRSE: Bridging the Gap in Cybersecurity Exper...   \n",
       "2  TaskGen: A Task-Based, Memory-Infused Agentic ...   \n",
       "3  RadioRAG: Factual Large Language Models for En...   \n",
       "4  An Empirical Study of Retrieval Augmented Gene...   \n",
       "\n",
       "                                            abstract  published_timestamp  \n",
       "0  Text embedding models have been popular for in...           1721670631  \n",
       "1  In this paper, we introduce MoRSE (Mixture of ...           1721663607  \n",
       "2  TaskGen is an open-sourced agentic framework w...           1721662661  \n",
       "3  Large language models (LLMs) have advanced the...           1721654996  \n",
       "4  Since the launch of ChatGPT at the end of 2022...           1721649314  "
      ]
     },
     "execution_count": 17,
     "metadata": {},
     "output_type": "execute_result"
    }
   ],
   "source": [
    "df.head()"
   ]
  },
  {
   "cell_type": "markdown",
   "metadata": {
    "id": "t7K1orr-SOM9"
   },
   "source": [
    "## Visualizing the timestamps"
   ]
  },
  {
   "cell_type": "code",
   "execution_count": 18,
   "metadata": {
    "colab": {
     "base_uri": "https://localhost:8080/",
     "height": 482
    },
    "id": "z3TgpiukKAyz",
    "outputId": "b27379e3-0bb9-49fb-c481-a3839b10e960"
   },
   "outputs": [
    {
     "data": {
      "application/vnd.vegalite.v4+json": {
       "$schema": "https://vega.github.io/schema/vega-lite/v4.17.0.json",
       "config": {
        "view": {
         "continuousHeight": 300,
         "continuousWidth": 400
        }
       },
       "data": {
        "name": "data-cde07add22aecade5ac400228ba45ca8"
       },
       "datasets": {
        "data-cde07add22aecade5ac400228ba45ca8": [
         {
          "year_of_publication": 2024
         },
         {
          "year_of_publication": 2024
         },
         {
          "year_of_publication": 2024
         },
         {
          "year_of_publication": 2024
         },
         {
          "year_of_publication": 2024
         },
         {
          "year_of_publication": 2024
         },
         {
          "year_of_publication": 2024
         },
         {
          "year_of_publication": 2024
         },
         {
          "year_of_publication": 2024
         },
         {
          "year_of_publication": 2024
         },
         {
          "year_of_publication": 2023
         },
         {
          "year_of_publication": 2022
         },
         {
          "year_of_publication": 2024
         },
         {
          "year_of_publication": 2024
         },
         {
          "year_of_publication": 2024
         },
         {
          "year_of_publication": 2024
         },
         {
          "year_of_publication": 2024
         },
         {
          "year_of_publication": 2024
         },
         {
          "year_of_publication": 2024
         },
         {
          "year_of_publication": 2024
         },
         {
          "year_of_publication": 2024
         },
         {
          "year_of_publication": 2024
         },
         {
          "year_of_publication": 2024
         },
         {
          "year_of_publication": 2024
         },
         {
          "year_of_publication": 2024
         },
         {
          "year_of_publication": 2024
         },
         {
          "year_of_publication": 2024
         },
         {
          "year_of_publication": 2024
         },
         {
          "year_of_publication": 2024
         },
         {
          "year_of_publication": 2024
         },
         {
          "year_of_publication": 2024
         },
         {
          "year_of_publication": 2024
         },
         {
          "year_of_publication": 2024
         },
         {
          "year_of_publication": 2024
         },
         {
          "year_of_publication": 2024
         },
         {
          "year_of_publication": 2024
         },
         {
          "year_of_publication": 2024
         },
         {
          "year_of_publication": 2024
         },
         {
          "year_of_publication": 2024
         },
         {
          "year_of_publication": 2024
         },
         {
          "year_of_publication": 2024
         },
         {
          "year_of_publication": 2024
         },
         {
          "year_of_publication": 2024
         },
         {
          "year_of_publication": 2024
         },
         {
          "year_of_publication": 2024
         },
         {
          "year_of_publication": 2024
         },
         {
          "year_of_publication": 2024
         },
         {
          "year_of_publication": 2024
         },
         {
          "year_of_publication": 2024
         },
         {
          "year_of_publication": 2024
         },
         {
          "year_of_publication": 2024
         },
         {
          "year_of_publication": 2023
         },
         {
          "year_of_publication": 2024
         },
         {
          "year_of_publication": 2024
         },
         {
          "year_of_publication": 2024
         },
         {
          "year_of_publication": 2024
         },
         {
          "year_of_publication": 2024
         },
         {
          "year_of_publication": 2024
         },
         {
          "year_of_publication": 2024
         },
         {
          "year_of_publication": 2024
         },
         {
          "year_of_publication": 2024
         },
         {
          "year_of_publication": 2024
         },
         {
          "year_of_publication": 2024
         },
         {
          "year_of_publication": 2024
         },
         {
          "year_of_publication": 2024
         },
         {
          "year_of_publication": 2024
         },
         {
          "year_of_publication": 2024
         },
         {
          "year_of_publication": 2024
         },
         {
          "year_of_publication": 2024
         },
         {
          "year_of_publication": 2024
         },
         {
          "year_of_publication": 2024
         },
         {
          "year_of_publication": 2024
         },
         {
          "year_of_publication": 2024
         },
         {
          "year_of_publication": 2024
         },
         {
          "year_of_publication": 2024
         },
         {
          "year_of_publication": 2024
         },
         {
          "year_of_publication": 2024
         },
         {
          "year_of_publication": 2024
         },
         {
          "year_of_publication": 2024
         },
         {
          "year_of_publication": 2024
         },
         {
          "year_of_publication": 2024
         },
         {
          "year_of_publication": 2024
         },
         {
          "year_of_publication": 2024
         },
         {
          "year_of_publication": 2024
         },
         {
          "year_of_publication": 2024
         },
         {
          "year_of_publication": 2024
         },
         {
          "year_of_publication": 2024
         },
         {
          "year_of_publication": 2024
         },
         {
          "year_of_publication": 2024
         },
         {
          "year_of_publication": 2024
         },
         {
          "year_of_publication": 2024
         },
         {
          "year_of_publication": 2024
         },
         {
          "year_of_publication": 2024
         },
         {
          "year_of_publication": 2024
         },
         {
          "year_of_publication": 2024
         },
         {
          "year_of_publication": 2024
         },
         {
          "year_of_publication": 2024
         },
         {
          "year_of_publication": 2024
         },
         {
          "year_of_publication": 2024
         },
         {
          "year_of_publication": 2024
         },
         {
          "year_of_publication": 2024
         },
         {
          "year_of_publication": 2024
         },
         {
          "year_of_publication": 2024
         },
         {
          "year_of_publication": 2024
         },
         {
          "year_of_publication": 2024
         },
         {
          "year_of_publication": 2024
         },
         {
          "year_of_publication": 2024
         },
         {
          "year_of_publication": 2024
         },
         {
          "year_of_publication": 2024
         },
         {
          "year_of_publication": 2024
         },
         {
          "year_of_publication": 2024
         },
         {
          "year_of_publication": 2024
         },
         {
          "year_of_publication": 2024
         },
         {
          "year_of_publication": 2024
         },
         {
          "year_of_publication": 2024
         },
         {
          "year_of_publication": 2024
         },
         {
          "year_of_publication": 2024
         },
         {
          "year_of_publication": 2024
         },
         {
          "year_of_publication": 2024
         },
         {
          "year_of_publication": 2024
         },
         {
          "year_of_publication": 2024
         },
         {
          "year_of_publication": 2023
         },
         {
          "year_of_publication": 2024
         },
         {
          "year_of_publication": 2024
         },
         {
          "year_of_publication": 2024
         },
         {
          "year_of_publication": 2024
         },
         {
          "year_of_publication": 2024
         },
         {
          "year_of_publication": 2024
         },
         {
          "year_of_publication": 2024
         },
         {
          "year_of_publication": 2024
         },
         {
          "year_of_publication": 2024
         },
         {
          "year_of_publication": 2024
         },
         {
          "year_of_publication": 2024
         },
         {
          "year_of_publication": 2024
         },
         {
          "year_of_publication": 2024
         },
         {
          "year_of_publication": 2024
         },
         {
          "year_of_publication": 2024
         },
         {
          "year_of_publication": 2024
         },
         {
          "year_of_publication": 2024
         },
         {
          "year_of_publication": 2024
         },
         {
          "year_of_publication": 2024
         },
         {
          "year_of_publication": 2024
         },
         {
          "year_of_publication": 2024
         },
         {
          "year_of_publication": 2024
         },
         {
          "year_of_publication": 2024
         },
         {
          "year_of_publication": 2024
         },
         {
          "year_of_publication": 2024
         },
         {
          "year_of_publication": 2024
         },
         {
          "year_of_publication": 2024
         },
         {
          "year_of_publication": 2024
         },
         {
          "year_of_publication": 2024
         },
         {
          "year_of_publication": 2024
         },
         {
          "year_of_publication": 2024
         },
         {
          "year_of_publication": 2024
         },
         {
          "year_of_publication": 2024
         },
         {
          "year_of_publication": 2024
         },
         {
          "year_of_publication": 2024
         },
         {
          "year_of_publication": 2024
         },
         {
          "year_of_publication": 2024
         },
         {
          "year_of_publication": 2024
         },
         {
          "year_of_publication": 2023
         },
         {
          "year_of_publication": 2024
         },
         {
          "year_of_publication": 2024
         },
         {
          "year_of_publication": 2024
         },
         {
          "year_of_publication": 2024
         },
         {
          "year_of_publication": 2024
         },
         {
          "year_of_publication": 2024
         },
         {
          "year_of_publication": 2024
         },
         {
          "year_of_publication": 2024
         },
         {
          "year_of_publication": 2024
         },
         {
          "year_of_publication": 2024
         },
         {
          "year_of_publication": 2024
         },
         {
          "year_of_publication": 2024
         },
         {
          "year_of_publication": 2024
         },
         {
          "year_of_publication": 2024
         },
         {
          "year_of_publication": 2024
         },
         {
          "year_of_publication": 2023
         },
         {
          "year_of_publication": 2024
         },
         {
          "year_of_publication": 2024
         },
         {
          "year_of_publication": 2024
         },
         {
          "year_of_publication": 2024
         },
         {
          "year_of_publication": 2024
         },
         {
          "year_of_publication": 2024
         },
         {
          "year_of_publication": 2024
         },
         {
          "year_of_publication": 2024
         },
         {
          "year_of_publication": 2024
         },
         {
          "year_of_publication": 2024
         },
         {
          "year_of_publication": 2024
         },
         {
          "year_of_publication": 2024
         },
         {
          "year_of_publication": 2024
         },
         {
          "year_of_publication": 2024
         },
         {
          "year_of_publication": 2024
         },
         {
          "year_of_publication": 2024
         },
         {
          "year_of_publication": 2024
         },
         {
          "year_of_publication": 2024
         },
         {
          "year_of_publication": 2024
         },
         {
          "year_of_publication": 2024
         },
         {
          "year_of_publication": 2024
         },
         {
          "year_of_publication": 2023
         },
         {
          "year_of_publication": 2024
         },
         {
          "year_of_publication": 2024
         },
         {
          "year_of_publication": 2024
         },
         {
          "year_of_publication": 2024
         },
         {
          "year_of_publication": 2024
         },
         {
          "year_of_publication": 2024
         },
         {
          "year_of_publication": 2024
         },
         {
          "year_of_publication": 2024
         },
         {
          "year_of_publication": 2024
         },
         {
          "year_of_publication": 2024
         },
         {
          "year_of_publication": 2024
         },
         {
          "year_of_publication": 2024
         },
         {
          "year_of_publication": 2023
         },
         {
          "year_of_publication": 2024
         },
         {
          "year_of_publication": 2024
         },
         {
          "year_of_publication": 2024
         },
         {
          "year_of_publication": 2024
         },
         {
          "year_of_publication": 2024
         },
         {
          "year_of_publication": 2024
         },
         {
          "year_of_publication": 2024
         },
         {
          "year_of_publication": 2024
         },
         {
          "year_of_publication": 2024
         },
         {
          "year_of_publication": 2024
         },
         {
          "year_of_publication": 2024
         },
         {
          "year_of_publication": 2023
         },
         {
          "year_of_publication": 2024
         },
         {
          "year_of_publication": 2024
         },
         {
          "year_of_publication": 2024
         },
         {
          "year_of_publication": 2024
         },
         {
          "year_of_publication": 2024
         },
         {
          "year_of_publication": 2024
         },
         {
          "year_of_publication": 2023
         },
         {
          "year_of_publication": 2024
         },
         {
          "year_of_publication": 2024
         },
         {
          "year_of_publication": 2024
         },
         {
          "year_of_publication": 2024
         },
         {
          "year_of_publication": 2024
         },
         {
          "year_of_publication": 2024
         },
         {
          "year_of_publication": 2024
         },
         {
          "year_of_publication": 2024
         },
         {
          "year_of_publication": 2024
         },
         {
          "year_of_publication": 2024
         },
         {
          "year_of_publication": 2024
         },
         {
          "year_of_publication": 2024
         },
         {
          "year_of_publication": 2024
         },
         {
          "year_of_publication": 2024
         },
         {
          "year_of_publication": 2024
         },
         {
          "year_of_publication": 2024
         },
         {
          "year_of_publication": 2024
         },
         {
          "year_of_publication": 2024
         },
         {
          "year_of_publication": 2024
         },
         {
          "year_of_publication": 2024
         },
         {
          "year_of_publication": 2024
         },
         {
          "year_of_publication": 2024
         },
         {
          "year_of_publication": 2023
         },
         {
          "year_of_publication": 2024
         },
         {
          "year_of_publication": 2024
         },
         {
          "year_of_publication": 2024
         },
         {
          "year_of_publication": 2024
         },
         {
          "year_of_publication": 2024
         },
         {
          "year_of_publication": 2024
         },
         {
          "year_of_publication": 2024
         },
         {
          "year_of_publication": 2024
         },
         {
          "year_of_publication": 2024
         },
         {
          "year_of_publication": 2024
         },
         {
          "year_of_publication": 2024
         },
         {
          "year_of_publication": 2024
         },
         {
          "year_of_publication": 2024
         },
         {
          "year_of_publication": 2024
         },
         {
          "year_of_publication": 2024
         },
         {
          "year_of_publication": 2024
         },
         {
          "year_of_publication": 2024
         },
         {
          "year_of_publication": 2024
         },
         {
          "year_of_publication": 2024
         },
         {
          "year_of_publication": 2024
         },
         {
          "year_of_publication": 2024
         },
         {
          "year_of_publication": 2024
         },
         {
          "year_of_publication": 2024
         },
         {
          "year_of_publication": 2024
         },
         {
          "year_of_publication": 2023
         },
         {
          "year_of_publication": 2024
         },
         {
          "year_of_publication": 2024
         },
         {
          "year_of_publication": 2024
         },
         {
          "year_of_publication": 2024
         },
         {
          "year_of_publication": 2024
         },
         {
          "year_of_publication": 2024
         },
         {
          "year_of_publication": 2024
         },
         {
          "year_of_publication": 2024
         },
         {
          "year_of_publication": 2024
         },
         {
          "year_of_publication": 2024
         },
         {
          "year_of_publication": 2024
         },
         {
          "year_of_publication": 2024
         },
         {
          "year_of_publication": 2024
         },
         {
          "year_of_publication": 2024
         },
         {
          "year_of_publication": 2024
         },
         {
          "year_of_publication": 2024
         },
         {
          "year_of_publication": 2024
         },
         {
          "year_of_publication": 2023
         },
         {
          "year_of_publication": 2024
         },
         {
          "year_of_publication": 2024
         },
         {
          "year_of_publication": 2024
         },
         {
          "year_of_publication": 2024
         },
         {
          "year_of_publication": 2024
         },
         {
          "year_of_publication": 2024
         },
         {
          "year_of_publication": 2024
         },
         {
          "year_of_publication": 2024
         },
         {
          "year_of_publication": 2024
         },
         {
          "year_of_publication": 2024
         },
         {
          "year_of_publication": 2024
         },
         {
          "year_of_publication": 2024
         },
         {
          "year_of_publication": 2024
         },
         {
          "year_of_publication": 2024
         },
         {
          "year_of_publication": 2024
         },
         {
          "year_of_publication": 2024
         },
         {
          "year_of_publication": 2024
         },
         {
          "year_of_publication": 2024
         },
         {
          "year_of_publication": 2024
         },
         {
          "year_of_publication": 2024
         },
         {
          "year_of_publication": 2024
         },
         {
          "year_of_publication": 2024
         },
         {
          "year_of_publication": 2024
         },
         {
          "year_of_publication": 2024
         },
         {
          "year_of_publication": 2024
         },
         {
          "year_of_publication": 2024
         },
         {
          "year_of_publication": 2024
         },
         {
          "year_of_publication": 2024
         },
         {
          "year_of_publication": 2024
         },
         {
          "year_of_publication": 2024
         },
         {
          "year_of_publication": 2024
         },
         {
          "year_of_publication": 2024
         },
         {
          "year_of_publication": 2024
         },
         {
          "year_of_publication": 2023
         },
         {
          "year_of_publication": 2024
         },
         {
          "year_of_publication": 2024
         },
         {
          "year_of_publication": 2023
         },
         {
          "year_of_publication": 2024
         },
         {
          "year_of_publication": 2023
         },
         {
          "year_of_publication": 2024
         },
         {
          "year_of_publication": 2024
         },
         {
          "year_of_publication": 2024
         },
         {
          "year_of_publication": 2024
         },
         {
          "year_of_publication": 2024
         },
         {
          "year_of_publication": 2023
         },
         {
          "year_of_publication": 2024
         },
         {
          "year_of_publication": 2024
         },
         {
          "year_of_publication": 2024
         },
         {
          "year_of_publication": 2024
         },
         {
          "year_of_publication": 2024
         },
         {
          "year_of_publication": 2024
         },
         {
          "year_of_publication": 2024
         },
         {
          "year_of_publication": 2024
         },
         {
          "year_of_publication": 2024
         },
         {
          "year_of_publication": 2024
         },
         {
          "year_of_publication": 2024
         },
         {
          "year_of_publication": 2024
         },
         {
          "year_of_publication": 2024
         },
         {
          "year_of_publication": 2024
         },
         {
          "year_of_publication": 2024
         },
         {
          "year_of_publication": 2024
         },
         {
          "year_of_publication": 2024
         },
         {
          "year_of_publication": 2024
         },
         {
          "year_of_publication": 2024
         },
         {
          "year_of_publication": 2024
         },
         {
          "year_of_publication": 2024
         },
         {
          "year_of_publication": 2024
         },
         {
          "year_of_publication": 2024
         },
         {
          "year_of_publication": 2024
         },
         {
          "year_of_publication": 2024
         },
         {
          "year_of_publication": 2024
         },
         {
          "year_of_publication": 2024
         },
         {
          "year_of_publication": 2024
         },
         {
          "year_of_publication": 2024
         },
         {
          "year_of_publication": 2024
         },
         {
          "year_of_publication": 2024
         },
         {
          "year_of_publication": 2024
         },
         {
          "year_of_publication": 2024
         },
         {
          "year_of_publication": 2024
         },
         {
          "year_of_publication": 2024
         },
         {
          "year_of_publication": 2024
         },
         {
          "year_of_publication": 2024
         },
         {
          "year_of_publication": 2024
         },
         {
          "year_of_publication": 2024
         },
         {
          "year_of_publication": 2024
         },
         {
          "year_of_publication": 2024
         },
         {
          "year_of_publication": 2024
         },
         {
          "year_of_publication": 2024
         },
         {
          "year_of_publication": 2024
         },
         {
          "year_of_publication": 2024
         },
         {
          "year_of_publication": 2024
         },
         {
          "year_of_publication": 2024
         },
         {
          "year_of_publication": 2024
         },
         {
          "year_of_publication": 2024
         },
         {
          "year_of_publication": 2024
         },
         {
          "year_of_publication": 2024
         },
         {
          "year_of_publication": 2024
         },
         {
          "year_of_publication": 2024
         },
         {
          "year_of_publication": 2024
         },
         {
          "year_of_publication": 2024
         },
         {
          "year_of_publication": 2024
         },
         {
          "year_of_publication": 2024
         },
         {
          "year_of_publication": 2024
         },
         {
          "year_of_publication": 2024
         },
         {
          "year_of_publication": 2023
         },
         {
          "year_of_publication": 2024
         },
         {
          "year_of_publication": 2024
         },
         {
          "year_of_publication": 2024
         },
         {
          "year_of_publication": 2024
         },
         {
          "year_of_publication": 2024
         },
         {
          "year_of_publication": 2024
         },
         {
          "year_of_publication": 2023
         },
         {
          "year_of_publication": 2024
         },
         {
          "year_of_publication": 2024
         },
         {
          "year_of_publication": 2024
         },
         {
          "year_of_publication": 2023
         },
         {
          "year_of_publication": 2024
         },
         {
          "year_of_publication": 2024
         },
         {
          "year_of_publication": 2023
         },
         {
          "year_of_publication": 2024
         },
         {
          "year_of_publication": 2024
         },
         {
          "year_of_publication": 2024
         },
         {
          "year_of_publication": 2024
         },
         {
          "year_of_publication": 2024
         },
         {
          "year_of_publication": 2024
         },
         {
          "year_of_publication": 2024
         },
         {
          "year_of_publication": 2024
         },
         {
          "year_of_publication": 2024
         },
         {
          "year_of_publication": 2024
         },
         {
          "year_of_publication": 2024
         },
         {
          "year_of_publication": 2023
         },
         {
          "year_of_publication": 2024
         },
         {
          "year_of_publication": 2024
         },
         {
          "year_of_publication": 2023
         },
         {
          "year_of_publication": 2024
         },
         {
          "year_of_publication": 2024
         },
         {
          "year_of_publication": 2024
         },
         {
          "year_of_publication": 2023
         },
         {
          "year_of_publication": 2024
         },
         {
          "year_of_publication": 2024
         },
         {
          "year_of_publication": 2024
         },
         {
          "year_of_publication": 2024
         },
         {
          "year_of_publication": 2024
         },
         {
          "year_of_publication": 2024
         },
         {
          "year_of_publication": 2023
         },
         {
          "year_of_publication": 2024
         },
         {
          "year_of_publication": 2024
         },
         {
          "year_of_publication": 2024
         },
         {
          "year_of_publication": 2024
         },
         {
          "year_of_publication": 2024
         },
         {
          "year_of_publication": 2024
         },
         {
          "year_of_publication": 2024
         },
         {
          "year_of_publication": 2024
         },
         {
          "year_of_publication": 2023
         },
         {
          "year_of_publication": 2023
         },
         {
          "year_of_publication": 2024
         },
         {
          "year_of_publication": 2024
         },
         {
          "year_of_publication": 2024
         },
         {
          "year_of_publication": 2024
         },
         {
          "year_of_publication": 2024
         },
         {
          "year_of_publication": 2024
         },
         {
          "year_of_publication": 2024
         },
         {
          "year_of_publication": 2024
         },
         {
          "year_of_publication": 2024
         },
         {
          "year_of_publication": 2024
         },
         {
          "year_of_publication": 2023
         },
         {
          "year_of_publication": 2024
         },
         {
          "year_of_publication": 2024
         },
         {
          "year_of_publication": 2024
         },
         {
          "year_of_publication": 2024
         },
         {
          "year_of_publication": 2024
         },
         {
          "year_of_publication": 2024
         },
         {
          "year_of_publication": 2024
         },
         {
          "year_of_publication": 2024
         },
         {
          "year_of_publication": 2024
         },
         {
          "year_of_publication": 2024
         },
         {
          "year_of_publication": 2024
         },
         {
          "year_of_publication": 2024
         },
         {
          "year_of_publication": 2024
         },
         {
          "year_of_publication": 2024
         },
         {
          "year_of_publication": 2024
         },
         {
          "year_of_publication": 2024
         },
         {
          "year_of_publication": 2023
         },
         {
          "year_of_publication": 2024
         },
         {
          "year_of_publication": 2024
         },
         {
          "year_of_publication": 2024
         },
         {
          "year_of_publication": 2024
         },
         {
          "year_of_publication": 2023
         },
         {
          "year_of_publication": 2024
         },
         {
          "year_of_publication": 2024
         },
         {
          "year_of_publication": 2024
         },
         {
          "year_of_publication": 2024
         },
         {
          "year_of_publication": 2024
         },
         {
          "year_of_publication": 2024
         },
         {
          "year_of_publication": 2024
         },
         {
          "year_of_publication": 2024
         },
         {
          "year_of_publication": 2024
         },
         {
          "year_of_publication": 2024
         },
         {
          "year_of_publication": 2024
         },
         {
          "year_of_publication": 2024
         },
         {
          "year_of_publication": 2023
         },
         {
          "year_of_publication": 2023
         },
         {
          "year_of_publication": 2024
         },
         {
          "year_of_publication": 2024
         },
         {
          "year_of_publication": 2024
         },
         {
          "year_of_publication": 2024
         },
         {
          "year_of_publication": 2024
         },
         {
          "year_of_publication": 2024
         },
         {
          "year_of_publication": 2024
         },
         {
          "year_of_publication": 2023
         },
         {
          "year_of_publication": 2023
         },
         {
          "year_of_publication": 2024
         },
         {
          "year_of_publication": 2024
         },
         {
          "year_of_publication": 2024
         },
         {
          "year_of_publication": 2024
         },
         {
          "year_of_publication": 2024
         },
         {
          "year_of_publication": 2024
         },
         {
          "year_of_publication": 2023
         },
         {
          "year_of_publication": 2024
         },
         {
          "year_of_publication": 2024
         },
         {
          "year_of_publication": 2024
         },
         {
          "year_of_publication": 2024
         },
         {
          "year_of_publication": 2024
         },
         {
          "year_of_publication": 2024
         },
         {
          "year_of_publication": 2024
         },
         {
          "year_of_publication": 2024
         },
         {
          "year_of_publication": 2024
         },
         {
          "year_of_publication": 2024
         },
         {
          "year_of_publication": 2024
         },
         {
          "year_of_publication": 2024
         },
         {
          "year_of_publication": 2024
         },
         {
          "year_of_publication": 2024
         },
         {
          "year_of_publication": 2023
         },
         {
          "year_of_publication": 2024
         },
         {
          "year_of_publication": 2024
         },
         {
          "year_of_publication": 2024
         },
         {
          "year_of_publication": 2024
         },
         {
          "year_of_publication": 2024
         },
         {
          "year_of_publication": 2024
         },
         {
          "year_of_publication": 2024
         },
         {
          "year_of_publication": 2024
         },
         {
          "year_of_publication": 2024
         },
         {
          "year_of_publication": 2024
         },
         {
          "year_of_publication": 2024
         },
         {
          "year_of_publication": 2024
         },
         {
          "year_of_publication": 2023
         },
         {
          "year_of_publication": 2023
         },
         {
          "year_of_publication": 2024
         },
         {
          "year_of_publication": 2024
         },
         {
          "year_of_publication": 2024
         },
         {
          "year_of_publication": 2024
         },
         {
          "year_of_publication": 2024
         },
         {
          "year_of_publication": 2024
         },
         {
          "year_of_publication": 2024
         },
         {
          "year_of_publication": 2024
         },
         {
          "year_of_publication": 2024
         },
         {
          "year_of_publication": 2024
         },
         {
          "year_of_publication": 2023
         },
         {
          "year_of_publication": 2024
         },
         {
          "year_of_publication": 2024
         },
         {
          "year_of_publication": 2024
         },
         {
          "year_of_publication": 2024
         },
         {
          "year_of_publication": 2024
         },
         {
          "year_of_publication": 2024
         },
         {
          "year_of_publication": 2024
         },
         {
          "year_of_publication": 2024
         },
         {
          "year_of_publication": 2023
         },
         {
          "year_of_publication": 2024
         },
         {
          "year_of_publication": 2024
         },
         {
          "year_of_publication": 2023
         },
         {
          "year_of_publication": 2023
         },
         {
          "year_of_publication": 2023
         },
         {
          "year_of_publication": 2023
         },
         {
          "year_of_publication": 2023
         },
         {
          "year_of_publication": 2023
         },
         {
          "year_of_publication": 2023
         },
         {
          "year_of_publication": 2023
         },
         {
          "year_of_publication": 2023
         },
         {
          "year_of_publication": 2023
         },
         {
          "year_of_publication": 2023
         },
         {
          "year_of_publication": 2023
         },
         {
          "year_of_publication": 2023
         },
         {
          "year_of_publication": 2023
         },
         {
          "year_of_publication": 2023
         },
         {
          "year_of_publication": 2023
         },
         {
          "year_of_publication": 2023
         },
         {
          "year_of_publication": 2023
         },
         {
          "year_of_publication": 2023
         },
         {
          "year_of_publication": 2023
         },
         {
          "year_of_publication": 2023
         },
         {
          "year_of_publication": 2023
         },
         {
          "year_of_publication": 2023
         },
         {
          "year_of_publication": 2023
         },
         {
          "year_of_publication": 2023
         },
         {
          "year_of_publication": 2023
         },
         {
          "year_of_publication": 2023
         },
         {
          "year_of_publication": 2023
         },
         {
          "year_of_publication": 2023
         },
         {
          "year_of_publication": 2023
         },
         {
          "year_of_publication": 2023
         },
         {
          "year_of_publication": 2023
         },
         {
          "year_of_publication": 2023
         },
         {
          "year_of_publication": 2023
         },
         {
          "year_of_publication": 2023
         },
         {
          "year_of_publication": 2023
         },
         {
          "year_of_publication": 2023
         },
         {
          "year_of_publication": 2023
         },
         {
          "year_of_publication": 2023
         },
         {
          "year_of_publication": 2023
         },
         {
          "year_of_publication": 2023
         },
         {
          "year_of_publication": 2023
         },
         {
          "year_of_publication": 2023
         },
         {
          "year_of_publication": 2023
         },
         {
          "year_of_publication": 2023
         },
         {
          "year_of_publication": 2023
         },
         {
          "year_of_publication": 2023
         },
         {
          "year_of_publication": 2023
         },
         {
          "year_of_publication": 2023
         },
         {
          "year_of_publication": 2023
         },
         {
          "year_of_publication": 2023
         },
         {
          "year_of_publication": 2023
         },
         {
          "year_of_publication": 2023
         },
         {
          "year_of_publication": 2022
         },
         {
          "year_of_publication": 2022
         },
         {
          "year_of_publication": 2022
         },
         {
          "year_of_publication": 2022
         },
         {
          "year_of_publication": 2022
         },
         {
          "year_of_publication": 2022
         },
         {
          "year_of_publication": 2022
         },
         {
          "year_of_publication": 2021
         },
         {
          "year_of_publication": 2022
         },
         {
          "year_of_publication": 2022
         },
         {
          "year_of_publication": 2021
         },
         {
          "year_of_publication": 2021
         },
         {
          "year_of_publication": 2021
         },
         {
          "year_of_publication": 2021
         },
         {
          "year_of_publication": 2020
         },
         {
          "year_of_publication": 2021
         },
         {
          "year_of_publication": 2020
         },
         {
          "year_of_publication": 2021
         }
        ]
       },
       "encoding": {
        "x": {
         "field": "year_of_publication",
         "title": "Year of publication",
         "type": "nominal"
        },
        "y": {
         "aggregate": "count",
         "title": "Count of articles",
         "type": "quantitative"
        }
       },
       "height": 400,
       "mark": "bar",
       "width": 400
      },
      "text/plain": [
       "<VegaLite 4 object>\n",
       "\n",
       "If you see this message, it means the renderer has not been properly enabled\n",
       "for the frontend that you are using. For more information, see\n",
       "https://altair-viz.github.io/user_guide/troubleshooting.html\n"
      ]
     },
     "execution_count": 18,
     "metadata": {},
     "output_type": "execute_result"
    }
   ],
   "source": [
    "# some quick transformations and an altair histogram\n",
    "years_to_plot: pd.DataFrame = pd.DataFrame(\n",
    "    {\n",
    "        \"year_of_publication\": [\n",
    "            int(datetime.fromtimestamp(ts).year) for ts in df[\"published_timestamp\"]\n",
    "        ]\n",
    "    }\n",
    ")\n",
    "alt.Chart(years_to_plot).mark_bar().encode(\n",
    "    alt.X(\"year_of_publication:N\", title=\"Year of publication\"),\n",
    "    y=alt.Y(\"count()\", title=\"Count of articles\"),\n",
    ").properties(width=400, height=400)"
   ]
  },
  {
   "cell_type": "markdown",
   "metadata": {
    "id": "6hc37uxd0ydT"
   },
   "source": [
    "## Setting up Superlinked"
   ]
  },
  {
   "cell_type": "code",
   "execution_count": 19,
   "metadata": {
    "id": "p8CKnD5U1Fdn"
   },
   "outputs": [],
   "source": [
    "# Setting up the schema according to our inputs\n",
    "@schema\n",
    "class PapersSchema:\n",
    "    url: String\n",
    "    title: String\n",
    "    abstract: String\n",
    "    published_timestamp: Timestamp\n",
    "    id: IdField\n",
    "\n",
    "\n",
    "papers = PapersSchema()"
   ]
  },
  {
   "cell_type": "code",
   "execution_count": 20,
   "metadata": {
    "colab": {
     "base_uri": "https://localhost:8080/"
    },
    "id": "66UBkgzA_NTI",
    "outputId": "326099dd-eda7-465b-8c8f-92827d31b207"
   },
   "outputs": [
    {
     "data": {
      "application/vnd.jupyter.widget-view+json": {
       "model_id": "5717f537587f45218f9ca6f7cb21109f",
       "version_major": 2,
       "version_minor": 0
      },
      "text/plain": [
       ".gitattributes:   0%|          | 0.00/1.23k [00:00<?, ?B/s]"
      ]
     },
     "metadata": {},
     "output_type": "display_data"
    },
    {
     "data": {
      "application/vnd.jupyter.widget-view+json": {
       "model_id": "c64c5bebee3342078fef4f32bab87bbd",
       "version_major": 2,
       "version_minor": 0
      },
      "text/plain": [
       "1_Pooling/config.json:   0%|          | 0.00/190 [00:00<?, ?B/s]"
      ]
     },
     "metadata": {},
     "output_type": "display_data"
    },
    {
     "data": {
      "application/vnd.jupyter.widget-view+json": {
       "model_id": "43cb78251b964305b5a6469c9f768c2b",
       "version_major": 2,
       "version_minor": 0
      },
      "text/plain": [
       "README.md:   0%|          | 0.00/10.6k [00:00<?, ?B/s]"
      ]
     },
     "metadata": {},
     "output_type": "display_data"
    },
    {
     "data": {
      "application/vnd.jupyter.widget-view+json": {
       "model_id": "4310ac5d1e5c4d2bb9dbe164e8461bde",
       "version_major": 2,
       "version_minor": 0
      },
      "text/plain": [
       "config.json:   0%|          | 0.00/571 [00:00<?, ?B/s]"
      ]
     },
     "metadata": {},
     "output_type": "display_data"
    },
    {
     "data": {
      "application/vnd.jupyter.widget-view+json": {
       "model_id": "58180571bcab4379bba4de8cf7703125",
       "version_major": 2,
       "version_minor": 0
      },
      "text/plain": [
       "config_sentence_transformers.json:   0%|          | 0.00/116 [00:00<?, ?B/s]"
      ]
     },
     "metadata": {},
     "output_type": "display_data"
    },
    {
     "data": {
      "application/vnd.jupyter.widget-view+json": {
       "model_id": "ccb812c650dd43de91c6915ba8a8384e",
       "version_major": 2,
       "version_minor": 0
      },
      "text/plain": [
       "data_config.json:   0%|          | 0.00/39.3k [00:00<?, ?B/s]"
      ]
     },
     "metadata": {},
     "output_type": "display_data"
    },
    {
     "data": {
      "application/vnd.jupyter.widget-view+json": {
       "model_id": "e54a08671a6048e8a98a57e8bb00c785",
       "version_major": 2,
       "version_minor": 0
      },
      "text/plain": [
       "model.safetensors:   0%|          | 0.00/438M [00:00<?, ?B/s]"
      ]
     },
     "metadata": {},
     "output_type": "display_data"
    },
    {
     "data": {
      "application/vnd.jupyter.widget-view+json": {
       "model_id": "d19650923d8d4ff3b5a226ce117669f1",
       "version_major": 2,
       "version_minor": 0
      },
      "text/plain": [
       "pytorch_model.bin:   0%|          | 0.00/438M [00:00<?, ?B/s]"
      ]
     },
     "metadata": {},
     "output_type": "display_data"
    },
    {
     "data": {
      "application/vnd.jupyter.widget-view+json": {
       "model_id": "533b899ca1364a3998c95361dcc3ad99",
       "version_major": 2,
       "version_minor": 0
      },
      "text/plain": [
       "sentence_bert_config.json:   0%|          | 0.00/53.0 [00:00<?, ?B/s]"
      ]
     },
     "metadata": {},
     "output_type": "display_data"
    },
    {
     "data": {
      "application/vnd.jupyter.widget-view+json": {
       "model_id": "52e587560aad445a975551dcf8d7978e",
       "version_major": 2,
       "version_minor": 0
      },
      "text/plain": [
       "special_tokens_map.json:   0%|          | 0.00/239 [00:00<?, ?B/s]"
      ]
     },
     "metadata": {},
     "output_type": "display_data"
    },
    {
     "data": {
      "application/vnd.jupyter.widget-view+json": {
       "model_id": "b396a719ddff4e239dd931d510ac92c5",
       "version_major": 2,
       "version_minor": 0
      },
      "text/plain": [
       "tokenizer.json:   0%|          | 0.00/466k [00:00<?, ?B/s]"
      ]
     },
     "metadata": {},
     "output_type": "display_data"
    },
    {
     "data": {
      "application/vnd.jupyter.widget-view+json": {
       "model_id": "de49dbfa1dae4ac2847fbe674df689a9",
       "version_major": 2,
       "version_minor": 0
      },
      "text/plain": [
       "tokenizer_config.json:   0%|          | 0.00/363 [00:00<?, ?B/s]"
      ]
     },
     "metadata": {},
     "output_type": "display_data"
    },
    {
     "data": {
      "application/vnd.jupyter.widget-view+json": {
       "model_id": "26ae704200684d0ebfb8f9b30a1fc3fc",
       "version_major": 2,
       "version_minor": 0
      },
      "text/plain": [
       "train_script.py:   0%|          | 0.00/13.1k [00:00<?, ?B/s]"
      ]
     },
     "metadata": {},
     "output_type": "display_data"
    },
    {
     "data": {
      "application/vnd.jupyter.widget-view+json": {
       "model_id": "4ed9fa7b1c894f38853180735b2c4c53",
       "version_major": 2,
       "version_minor": 0
      },
      "text/plain": [
       "vocab.txt:   0%|          | 0.00/232k [00:00<?, ?B/s]"
      ]
     },
     "metadata": {},
     "output_type": "display_data"
    },
    {
     "data": {
      "application/vnd.jupyter.widget-view+json": {
       "model_id": "553f3e9dbc654e54856117b2c432460a",
       "version_major": 2,
       "version_minor": 0
      },
      "text/plain": [
       "modules.json:   0%|          | 0.00/349 [00:00<?, ?B/s]"
      ]
     },
     "metadata": {},
     "output_type": "display_data"
    }
   ],
   "source": [
    "YEAR_IN_DAYS = 365\n",
    "\n",
    "# Textual characteristics are embedded using a sentence-transformers model\n",
    "abstract_space = TextSimilaritySpace(\n",
    "    text=papers.abstract, model=\"sentence-transformers/all-mpnet-base-v2\"\n",
    ")\n",
    "title_space = TextSimilaritySpace(\n",
    "    text=papers.title, model=\"sentence-transformers/all-mpnet-base-v2\"\n",
    ")\n",
    "# Release date is encoded using Superlinked's recency embedding algorithm\n",
    "recency_space = RecencySpace(\n",
    "    timestamp=papers.published_timestamp,\n",
    "    period_time_list=[\n",
    "        PeriodTime(timedelta(days=0.5 * YEAR_IN_DAYS), weight=1),\n",
    "        PeriodTime(timedelta(days=10 * YEAR_IN_DAYS), weight=1),\n",
    "    ],\n",
    "    negative_filter=0.0,\n",
    ")"
   ]
  },
  {
   "cell_type": "code",
   "execution_count": 21,
   "metadata": {
    "id": "gC5GvTF5BInp"
   },
   "outputs": [],
   "source": [
    "# We create an index of our spaces\n",
    "papers_index = Index(spaces=[abstract_space, title_space, recency_space])"
   ]
  },
  {
   "cell_type": "code",
   "execution_count": 22,
   "metadata": {
    "id": "KTEfX3umMbOE"
   },
   "outputs": [],
   "source": [
    "dataframe_parser = DataFrameParser(\n",
    "    schema=papers,\n",
    "    mapping={\n",
    "        papers.published_timestamp: \"published_timestamp\",\n",
    "        papers.abstract: \"abstract\",\n",
    "    },\n",
    ")"
   ]
  },
  {
   "cell_type": "code",
   "execution_count": 23,
   "metadata": {
    "id": "JhR4He6iM66t"
   },
   "outputs": [],
   "source": [
    "# Setting a specific end date to ensure reproducibility of the notebook\n",
    "END_OF_APRIL_24_TS = int(datetime(2024, 4, 30, 23, 59).timestamp())\n",
    "EXECUTOR_DATA = {CONTEXT_COMMON: {CONTEXT_COMMON_NOW: END_OF_APRIL_24_TS}}\n",
    "\n",
    "source: InMemorySource = InMemorySource(papers, parser=dataframe_parser)\n",
    "executor: InMemoryExecutor = InMemoryExecutor(\n",
    "    sources=[source], indices=[papers_index], context_data=EXECUTOR_DATA\n",
    ")\n",
    "app: InMemoryApp = executor.run()"
   ]
  },
  {
   "cell_type": "code",
   "execution_count": 24,
   "metadata": {
    "colab": {
     "base_uri": "https://localhost:8080/",
     "height": 81,
     "referenced_widgets": [
      "bdc083ab11764324ab7f3db4a3765124",
      "edc763138dba4dafa73279559b679f4a",
      "6366608dcfb84ebcb44d7aed3ce47d56",
      "5661fc3716434478934868316140f7de",
      "007b995972204638844ad5a850fba445",
      "8adf7e6bac894ed89e50308f406b5e7f",
      "bd0ee229f1c64563bc705a9551a63fad",
      "4a3b64bdb77345dcbc707004fdfb8990",
      "0a660dc927a2405f9657455cd03a50bb",
      "123855bdc58e4dd4834b1d5a6473e119",
      "37d771c6764b49bc938887ce44518eb2",
      "c1cac8514f9940168d5761817b7c73f8",
      "8839022fb63444508bbeb9c98c0f5a37",
      "a55aa427dede4e5981b07d00ccb82b77",
      "9bc228be77ad43738b9c136adb273d18",
      "e7a98fa0f9824d398e70d2f4d17d2e1c",
      "6a9ddfde9ab74eafa03c9e2c3d9d5246",
      "7d9cfc0eeaf540a8b98d297a7021040c",
      "2310566a0db54b1eaae86f14b860f756",
      "5c0858df785c4e32ad3cfd5993c094fb",
      "d3251abd8cee40bbbfb883bbd4e987b2",
      "3c6cc08a94a94eceb1cee42f05f3e607"
     ]
    },
    "id": "sX3ainXkNzYO",
    "outputId": "a5639107-21c8-4f10-a5ed-8c2b2224b5ff"
   },
   "outputs": [
    {
     "data": {
      "application/vnd.jupyter.widget-view+json": {
       "model_id": "f285e2ebb06c4c5a9636cf4ba631f0ed",
       "version_major": 2,
       "version_minor": 0
      },
      "text/plain": [
       "Batches:   0%|          | 0/20 [00:00<?, ?it/s]"
      ]
     },
     "metadata": {},
     "output_type": "display_data"
    },
    {
     "data": {
      "application/vnd.jupyter.widget-view+json": {
       "model_id": "eb094ce34a9f4756b5ae98b5e38700f5",
       "version_major": 2,
       "version_minor": 0
      },
      "text/plain": [
       "Batches:   0%|          | 0/20 [00:00<?, ?it/s]"
      ]
     },
     "metadata": {},
     "output_type": "display_data"
    }
   ],
   "source": [
    "# IMPORTANT: if you're running this notebook in Google Colab and\n",
    "# this step is taking very long - you might be running an instance without a GPU\n",
    "source.put([df])"
   ]
  },
  {
   "cell_type": "markdown",
   "metadata": {
    "id": "nD0x9T_DOQIo"
   },
   "source": [
    "## Understanding recency"
   ]
  },
  {
   "cell_type": "code",
   "execution_count": 25,
   "metadata": {
    "colab": {
     "base_uri": "https://localhost:8080/",
     "height": 465
    },
    "id": "rTX88MsCN-x8",
    "outputId": "708328e9-3dcf-49de-ff09-32772384d8c2"
   },
   "outputs": [
    {
     "data": {
      "application/vnd.vegalite.v4+json": {
       "$schema": "https://vega.github.io/schema/vega-lite/v4.17.0.json",
       "config": {
        "view": {
         "continuousHeight": 300,
         "continuousWidth": 400
        }
       },
       "data": {
        "name": "data-3a99cb975e7e52d55043491930998da0"
       },
       "datasets": {
        "data-3a99cb975e7e52d55043491930998da0": [
         {
          "date": "2013-05-03T23:59:00",
          "score": 0
         },
         {
          "date": "2013-05-08T00:26:23.243243",
          "score": 0
         },
         {
          "date": "2013-05-12T00:53:46.486486",
          "score": 0
         },
         {
          "date": "2013-05-16T01:21:09.729730",
          "score": 0
         },
         {
          "date": "2013-05-20T01:48:32.972973",
          "score": 0
         },
         {
          "date": "2013-05-24T02:15:56.216216",
          "score": 0
         },
         {
          "date": "2013-05-28T02:43:19.459460",
          "score": 0
         },
         {
          "date": "2013-06-01T03:10:42.702703",
          "score": 0
         },
         {
          "date": "2013-06-05T03:38:05.945946",
          "score": 0
         },
         {
          "date": "2013-06-09T04:05:29.189189",
          "score": 0
         },
         {
          "date": "2013-06-13T04:32:52.432432",
          "score": 0
         },
         {
          "date": "2013-06-17T05:00:15.675676",
          "score": 0
         },
         {
          "date": "2013-06-21T05:27:38.918919",
          "score": 0
         },
         {
          "date": "2013-06-25T05:55:02.162162",
          "score": 0
         },
         {
          "date": "2013-06-29T06:22:25.405406",
          "score": 0
         },
         {
          "date": "2013-07-03T06:49:48.648649",
          "score": 0
         },
         {
          "date": "2013-07-07T07:17:11.891892",
          "score": 0
         },
         {
          "date": "2013-07-11T07:44:35.135135",
          "score": 0
         },
         {
          "date": "2013-07-15T08:11:58.378378",
          "score": 0
         },
         {
          "date": "2013-07-19T08:39:21.621622",
          "score": 0
         },
         {
          "date": "2013-07-23T09:06:44.864865",
          "score": 0
         },
         {
          "date": "2013-07-27T09:34:08.108108",
          "score": 0
         },
         {
          "date": "2013-07-31T10:01:31.351351",
          "score": 0
         },
         {
          "date": "2013-08-04T10:28:54.594594",
          "score": 0
         },
         {
          "date": "2013-08-08T10:56:17.837838",
          "score": 0
         },
         {
          "date": "2013-08-12T11:23:41.081081",
          "score": 0
         },
         {
          "date": "2013-08-16T11:51:04.324324",
          "score": 0
         },
         {
          "date": "2013-08-20T12:18:27.567568",
          "score": 0
         },
         {
          "date": "2013-08-24T12:45:50.810811",
          "score": 0
         },
         {
          "date": "2013-08-28T13:13:14.054054",
          "score": 0
         },
         {
          "date": "2013-09-01T13:40:37.297297",
          "score": 0
         },
         {
          "date": "2013-09-05T14:08:00.540540",
          "score": 0
         },
         {
          "date": "2013-09-09T14:35:23.783784",
          "score": 0
         },
         {
          "date": "2013-09-13T15:02:47.027027",
          "score": 0
         },
         {
          "date": "2013-09-17T15:30:10.270270",
          "score": 0
         },
         {
          "date": "2013-09-21T15:57:33.513514",
          "score": 0
         },
         {
          "date": "2013-09-25T16:24:56.756757",
          "score": 0
         },
         {
          "date": "2013-09-29T16:52:20",
          "score": 0
         },
         {
          "date": "2013-10-03T17:19:43.243243",
          "score": 0
         },
         {
          "date": "2013-10-07T17:47:06.486486",
          "score": 0
         },
         {
          "date": "2013-10-11T18:14:29.729730",
          "score": 0
         },
         {
          "date": "2013-10-15T18:41:52.972973",
          "score": 0
         },
         {
          "date": "2013-10-19T19:09:16.216216",
          "score": 0
         },
         {
          "date": "2013-10-23T19:36:39.459460",
          "score": 0
         },
         {
          "date": "2013-10-27T19:04:02.702703",
          "score": 0
         },
         {
          "date": "2013-10-31T19:31:25.945946",
          "score": 0
         },
         {
          "date": "2013-11-04T19:58:49.189189",
          "score": 0
         },
         {
          "date": "2013-11-08T20:26:12.432432",
          "score": 0
         },
         {
          "date": "2013-11-12T20:53:35.675676",
          "score": 0
         },
         {
          "date": "2013-11-16T21:20:58.918919",
          "score": 0
         },
         {
          "date": "2013-11-20T21:48:22.162162",
          "score": 0
         },
         {
          "date": "2013-11-24T22:15:45.405406",
          "score": 0
         },
         {
          "date": "2013-11-28T22:43:08.648649",
          "score": 0
         },
         {
          "date": "2013-12-02T23:10:31.891892",
          "score": 0
         },
         {
          "date": "2013-12-06T23:37:55.135135",
          "score": 0
         },
         {
          "date": "2013-12-11T00:05:18.378378",
          "score": 0
         },
         {
          "date": "2013-12-15T00:32:41.621622",
          "score": 0
         },
         {
          "date": "2013-12-19T01:00:04.864865",
          "score": 0
         },
         {
          "date": "2013-12-23T01:27:28.108108",
          "score": 0
         },
         {
          "date": "2013-12-27T01:54:51.351351",
          "score": 0
         },
         {
          "date": "2013-12-31T02:22:14.594594",
          "score": 0
         },
         {
          "date": "2014-01-04T02:49:37.837838",
          "score": 0
         },
         {
          "date": "2014-01-08T03:17:01.081081",
          "score": 0
         },
         {
          "date": "2014-01-12T03:44:24.324324",
          "score": 0
         },
         {
          "date": "2014-01-16T04:11:47.567568",
          "score": 0
         },
         {
          "date": "2014-01-20T04:39:10.810811",
          "score": 0
         },
         {
          "date": "2014-01-24T05:06:34.054054",
          "score": 0
         },
         {
          "date": "2014-01-28T05:33:57.297297",
          "score": 0
         },
         {
          "date": "2014-02-01T06:01:20.540540",
          "score": 0
         },
         {
          "date": "2014-02-05T06:28:43.783784",
          "score": 0
         },
         {
          "date": "2014-02-09T06:56:07.027027",
          "score": 0
         },
         {
          "date": "2014-02-13T07:23:30.270270",
          "score": 0
         },
         {
          "date": "2014-02-17T07:50:53.513514",
          "score": 0
         },
         {
          "date": "2014-02-21T08:18:16.756757",
          "score": 0
         },
         {
          "date": "2014-02-25T08:45:40",
          "score": 0
         },
         {
          "date": "2014-03-01T09:13:03.243243",
          "score": 0
         },
         {
          "date": "2014-03-05T09:40:26.486486",
          "score": 0
         },
         {
          "date": "2014-03-09T10:07:49.729730",
          "score": 0
         },
         {
          "date": "2014-03-13T10:35:12.972973",
          "score": 0
         },
         {
          "date": "2014-03-17T11:02:36.216216",
          "score": 0
         },
         {
          "date": "2014-03-21T11:29:59.459460",
          "score": 0
         },
         {
          "date": "2014-03-25T11:57:22.702703",
          "score": 0
         },
         {
          "date": "2014-03-29T12:24:45.945946",
          "score": 0
         },
         {
          "date": "2014-04-02T13:52:09.189189",
          "score": 0
         },
         {
          "date": "2014-04-06T14:19:32.432432",
          "score": 0
         },
         {
          "date": "2014-04-10T14:46:55.675676",
          "score": 0
         },
         {
          "date": "2014-04-14T15:14:18.918919",
          "score": 0
         },
         {
          "date": "2014-04-18T15:41:42.162162",
          "score": 0
         },
         {
          "date": "2014-04-22T16:09:05.405406",
          "score": 0
         },
         {
          "date": "2014-04-26T16:36:28.648649",
          "score": 0
         },
         {
          "date": "2014-04-30T17:03:51.891892",
          "score": 0
         },
         {
          "date": "2014-05-04T17:31:15.135135",
          "score": 0.00015723686695924842
         },
         {
          "date": "2014-05-08T17:58:38.378378",
          "score": 0.001022038940343533
         },
         {
          "date": "2014-05-12T18:26:01.621622",
          "score": 0.0018868379562677604
         },
         {
          "date": "2014-05-16T18:53:24.864865",
          "score": 0.002751631327646406
         },
         {
          "date": "2014-05-20T19:20:48.108108",
          "score": 0.0036164164674287714
         },
         {
          "date": "2014-05-24T19:48:11.351351",
          "score": 0.004481190788571248
         },
         {
          "date": "2014-05-28T20:15:34.594594",
          "score": 0.005345951704081265
         },
         {
          "date": "2014-06-01T20:42:57.837838",
          "score": 0.006210696626988963
         },
         {
          "date": "2014-06-05T21:10:21.081081",
          "score": 0.007075422970382226
         },
         {
          "date": "2014-06-09T21:37:44.324324",
          "score": 0.007940128147402617
         },
         {
          "date": "2014-06-13T22:05:07.567568",
          "score": 0.008804809571254195
         },
         {
          "date": "2014-06-17T22:32:30.810811",
          "score": 0.009669464655212661
         },
         {
          "date": "2014-06-21T22:59:54.054054",
          "score": 0.010534090812632495
         },
         {
          "date": "2014-06-25T23:27:17.297297",
          "score": 0.011398685456954712
         },
         {
          "date": "2014-06-29T23:54:40.540540",
          "score": 0.012263246001713973
         },
         {
          "date": "2014-07-04T00:22:03.783784",
          "score": 0.013127769860547995
         },
         {
          "date": "2014-07-08T00:49:27.027027",
          "score": 0.0139922544472034
         },
         {
          "date": "2014-07-12T01:16:50.270270",
          "score": 0.014856697175544357
         },
         {
          "date": "2014-07-16T01:44:13.513514",
          "score": 0.01572109545956091
         },
         {
          "date": "2014-07-20T02:11:36.756757",
          "score": 0.016585446713375238
         },
         {
          "date": "2014-07-24T02:39:00",
          "score": 0.017449748351250988
         },
         {
          "date": "2014-07-28T03:06:23.243243",
          "score": 0.018313997787599224
         },
         {
          "date": "2014-08-01T03:33:46.486486",
          "score": 0.019178192436988678
         },
         {
          "date": "2014-08-05T04:01:09.729730",
          "score": 0.020042329714150403
         },
         {
          "date": "2014-08-09T04:28:32.972973",
          "score": 0.020906407033988255
         },
         {
          "date": "2014-08-13T04:55:56.216216",
          "score": 0.021770421811584766
         },
         {
          "date": "2014-08-17T05:23:19.459460",
          "score": 0.022634371462209486
         },
         {
          "date": "2014-08-21T05:50:42.702703",
          "score": 0.02349825340132764
         },
         {
          "date": "2014-08-25T06:18:05.945946",
          "score": 0.02436206504460594
         },
         {
          "date": "2014-08-29T06:45:29.189189",
          "score": 0.025225803807922373
         },
         {
          "date": "2014-09-02T07:12:52.432432",
          "score": 0.02608946710737224
         },
         {
          "date": "2014-09-06T07:40:15.675676",
          "score": 0.026953052359276444
         },
         {
          "date": "2014-09-10T08:07:38.918919",
          "score": 0.02781655698019042
         },
         {
          "date": "2014-09-14T08:35:02.162162",
          "score": 0.028679978386910148
         },
         {
          "date": "2014-09-18T09:02:25.405406",
          "score": 0.029543313996480358
         },
         {
          "date": "2014-09-22T09:29:48.648649",
          "score": 0.03040656122620482
         },
         {
          "date": "2014-09-26T09:57:11.891892",
          "score": 0.03126971749364271
         },
         {
          "date": "2014-09-30T10:24:35.135135",
          "score": 0.0321327802166414
         },
         {
          "date": "2014-10-04T10:51:58.378378",
          "score": 0.03299574681330956
         },
         {
          "date": "2014-10-08T11:19:21.621622",
          "score": 0.03385861470206174
         },
         {
          "date": "2014-10-12T11:46:44.864865",
          "score": 0.03472138130159014
         },
         {
          "date": "2014-10-16T12:14:08.108108",
          "score": 0.03558404403090695
         },
         {
          "date": "2014-10-20T12:41:31.351351",
          "score": 0.0364466003093181
         },
         {
          "date": "2014-10-24T13:08:54.594594",
          "score": 0.03730904755646593
         },
         {
          "date": "2014-10-28T12:36:17.837838",
          "score": 0.03817138319230198
         },
         {
          "date": "2014-11-01T13:03:41.081081",
          "score": 0.039033604637122236
         },
         {
          "date": "2014-11-05T13:31:04.324324",
          "score": 0.039895709311561126
         },
         {
          "date": "2014-11-09T13:58:27.567568",
          "score": 0.04075769463660245
         },
         {
          "date": "2014-11-13T14:25:50.810811",
          "score": 0.04161955803358712
         },
         {
          "date": "2014-11-17T14:53:14.054054",
          "score": 0.04248129692422169
         },
         {
          "date": "2014-11-21T15:20:37.297297",
          "score": 0.04334290873058367
         },
         {
          "date": "2014-11-25T15:48:00.540540",
          "score": 0.04420439087513193
         },
         {
          "date": "2014-11-29T16:15:23.783784",
          "score": 0.045065740780712515
         },
         {
          "date": "2014-12-03T16:42:47.027027",
          "score": 0.04592695587056719
         },
         {
          "date": "2014-12-07T17:10:10.270270",
          "score": 0.046788033568341526
         },
         {
          "date": "2014-12-11T17:37:33.513514",
          "score": 0.04764897129809151
         },
         {
          "date": "2014-12-15T18:04:56.756757",
          "score": 0.04850976648429193
         },
         {
          "date": "2014-12-19T18:32:20",
          "score": 0.049370416551844556
         },
         {
          "date": "2014-12-23T18:59:43.243243",
          "score": 0.05023091892608418
         },
         {
          "date": "2014-12-27T19:27:06.486486",
          "score": 0.05109127103278879
         },
         {
          "date": "2014-12-31T19:54:29.729730",
          "score": 0.05195147029818532
         },
         {
          "date": "2015-01-04T20:21:52.972973",
          "score": 0.052811514148957524
         },
         {
          "date": "2015-01-08T20:49:16.216216",
          "score": 0.05367140001225424
         },
         {
          "date": "2015-01-12T21:16:39.459460",
          "score": 0.05453112531569751
         },
         {
          "date": "2015-01-16T21:44:02.702703",
          "score": 0.055390687487389095
         },
         {
          "date": "2015-01-20T22:11:25.945946",
          "score": 0.05625008395591876
         },
         {
          "date": "2015-01-24T22:38:49.189189",
          "score": 0.05710931215037256
         },
         {
          "date": "2015-01-28T23:06:12.432432",
          "score": 0.05796836950033917
         },
         {
          "date": "2015-02-01T23:33:35.675676",
          "score": 0.05882725343591872
         },
         {
          "date": "2015-02-06T00:00:58.918919",
          "score": 0.05968596138773083
         },
         {
          "date": "2015-02-10T00:28:22.162162",
          "score": 0.06054449078692043
         },
         {
          "date": "2015-02-14T00:55:45.405406",
          "score": 0.06140283906516689
         },
         {
          "date": "2015-02-18T01:23:08.648649",
          "score": 0.06226100365469434
         },
         {
          "date": "2015-02-22T01:50:31.891892",
          "score": 0.0631189819882663
         },
         {
          "date": "2015-02-26T02:17:55.135135",
          "score": 0.06397677149922026
         },
         {
          "date": "2015-03-02T02:45:18.378378",
          "score": 0.06483436962143993
         },
         {
          "date": "2015-03-06T03:12:41.621622",
          "score": 0.06569177378939975
         },
         {
          "date": "2015-03-10T03:40:04.864865",
          "score": 0.06654898143813649
         },
         {
          "date": "2015-03-14T04:07:28.108108",
          "score": 0.06740599000329345
         },
         {
          "date": "2015-03-18T04:34:51.351351",
          "score": 0.06826279692108979
         },
         {
          "date": "2015-03-22T05:02:14.594594",
          "score": 0.06911939962836744
         },
         {
          "date": "2015-03-26T05:29:37.837838",
          "score": 0.06997579556256293
         },
         {
          "date": "2015-03-30T06:57:01.081081",
          "score": 0.07083198216174032
         },
         {
          "date": "2015-04-03T07:24:24.324324",
          "score": 0.07168795686458743
         },
         {
          "date": "2015-04-07T07:51:47.567568",
          "score": 0.0725437171104267
         },
         {
          "date": "2015-04-11T08:19:10.810811",
          "score": 0.07339926033922116
         },
         {
          "date": "2015-04-15T08:46:34.054054",
          "score": 0.07425458399158413
         },
         {
          "date": "2015-04-19T09:13:57.297297",
          "score": 0.07510968550878526
         },
         {
          "date": "2015-04-23T09:41:20.540540",
          "score": 0.0759645623327586
         },
         {
          "date": "2015-04-27T10:08:43.783784",
          "score": 0.07681921190611012
         },
         {
          "date": "2015-05-01T10:36:07.027027",
          "score": 0.07767363167212658
         },
         {
          "date": "2015-05-05T11:03:30.270270",
          "score": 0.07852781907478132
         },
         {
          "date": "2015-05-09T11:30:53.513514",
          "score": 0.0793817715587429
         },
         {
          "date": "2015-05-13T11:58:16.756757",
          "score": 0.08023548656938333
         },
         {
          "date": "2015-05-17T12:25:40",
          "score": 0.08108896155278417
         },
         {
          "date": "2015-05-21T12:53:03.243243",
          "score": 0.08194219395574531
         },
         {
          "date": "2015-05-25T13:20:26.486486",
          "score": 0.08279518122579316
         },
         {
          "date": "2015-05-29T13:47:49.729730",
          "score": 0.08364792081118633
         },
         {
          "date": "2015-06-02T14:15:12.972973",
          "score": 0.08450041016092454
         },
         {
          "date": "2015-06-06T14:42:36.216216",
          "score": 0.08535264672475676
         },
         {
          "date": "2015-06-10T15:09:59.459460",
          "score": 0.08620462795318756
         },
         {
          "date": "2015-06-14T15:37:22.702703",
          "score": 0.08705635129748532
         },
         {
          "date": "2015-06-18T16:04:45.945946",
          "score": 0.08790781420969067
         },
         {
          "date": "2015-06-22T16:32:09.189189",
          "score": 0.08875901414262224
         },
         {
          "date": "2015-06-26T16:59:32.432432",
          "score": 0.08960994854988638
         },
         {
          "date": "2015-06-30T17:26:55.675676",
          "score": 0.09046061488588271
         },
         {
          "date": "2015-07-04T17:54:18.918919",
          "score": 0.09131101060581426
         },
         {
          "date": "2015-07-08T18:21:42.162162",
          "score": 0.09216113316569205
         },
         {
          "date": "2015-07-12T18:49:05.405406",
          "score": 0.09301098002234547
         },
         {
          "date": "2015-07-16T19:16:28.648649",
          "score": 0.09386054863343032
         },
         {
          "date": "2015-07-20T19:43:51.891892",
          "score": 0.09470983645742526
         },
         {
          "date": "2015-07-24T20:11:15.135135",
          "score": 0.09555884095366633
         },
         {
          "date": "2015-07-28T20:38:38.378378",
          "score": 0.09640755958231718
         },
         {
          "date": "2015-08-01T21:06:01.621622",
          "score": 0.09725598980441616
         },
         {
          "date": "2015-08-05T21:33:24.864865",
          "score": 0.0981041290818459
         },
         {
          "date": "2015-08-09T22:00:48.108108",
          "score": 0.09895197487737753
         },
         {
          "date": "2015-08-13T22:28:11.351351",
          "score": 0.09979952465464116
         },
         {
          "date": "2015-08-17T22:55:34.594594",
          "score": 0.10064677587817222
         },
         {
          "date": "2015-08-21T23:22:57.837838",
          "score": 0.10149372601338198
         },
         {
          "date": "2015-08-25T23:50:21.081081",
          "score": 0.10234037252659191
         },
         {
          "date": "2015-08-30T00:17:44.324324",
          "score": 0.10318671288502995
         },
         {
          "date": "2015-09-03T00:45:07.567568",
          "score": 0.10403274455683925
         },
         {
          "date": "2015-09-07T01:12:30.810811",
          "score": 0.10487846501108676
         },
         {
          "date": "2015-09-11T01:39:54.054054",
          "score": 0.10572387171777102
         },
         {
          "date": "2015-09-15T02:07:17.297297",
          "score": 0.10656896214782811
         },
         {
          "date": "2015-09-19T02:34:40.540540",
          "score": 0.10741373377314054
         },
         {
          "date": "2015-09-23T03:02:03.783784",
          "score": 0.1082581840665451
         },
         {
          "date": "2015-09-27T03:29:27.027027",
          "score": 0.10910231050183929
         },
         {
          "date": "2015-10-01T03:56:50.270270",
          "score": 0.1099461105537894
         },
         {
          "date": "2015-10-05T04:24:13.513514",
          "score": 0.1107895816981387
         },
         {
          "date": "2015-10-09T04:51:36.756757",
          "score": 0.11163272141161366
         },
         {
          "date": "2015-10-13T05:19:00",
          "score": 0.11247552717193297
         },
         {
          "date": "2015-10-17T05:46:23.243243",
          "score": 0.11331799645781342
         },
         {
          "date": "2015-10-21T06:13:46.486486",
          "score": 0.11416012674897975
         },
         {
          "date": "2015-10-25T05:41:09.729730",
          "score": 0.1150019155261693
         },
         {
          "date": "2015-10-29T06:08:32.972973",
          "score": 0.11584336027114224
         },
         {
          "date": "2015-11-02T06:35:56.216216",
          "score": 0.1166844584666873
         },
         {
          "date": "2015-11-06T07:03:19.459460",
          "score": 0.11752520759662974
         },
         {
          "date": "2015-11-10T07:30:42.702703",
          "score": 0.11836560514583988
         },
         {
          "date": "2015-11-14T07:58:05.945946",
          "score": 0.11920564860023888
         },
         {
          "date": "2015-11-18T08:25:29.189189",
          "score": 0.12004533544680812
         },
         {
          "date": "2015-11-22T08:52:52.432432",
          "score": 0.120884663173595
         },
         {
          "date": "2015-11-26T09:20:15.675676",
          "score": 0.12172362926972109
         },
         {
          "date": "2015-11-30T09:47:38.918919",
          "score": 0.12256223122539091
         },
         {
          "date": "2015-12-04T10:15:02.162162",
          "score": 0.12340046653189765
         },
         {
          "date": "2015-12-08T10:42:25.405406",
          "score": 0.12423833268163106
         },
         {
          "date": "2015-12-12T11:09:48.648649",
          "score": 0.12507582716808777
         },
         {
          "date": "2015-12-16T11:37:11.891892",
          "score": 0.1259129474858672
         },
         {
          "date": "2015-12-20T12:04:35.135135",
          "score": 0.12674969113070403
         },
         {
          "date": "2015-12-24T12:31:58.378378",
          "score": 0.1275860555994415
         },
         {
          "date": "2015-12-28T12:59:21.621622",
          "score": 0.12842203839007527
         },
         {
          "date": "2016-01-01T13:26:44.864865",
          "score": 0.12925763700172516
         },
         {
          "date": "2016-01-05T13:54:08.108108",
          "score": 0.1300928489346777
         },
         {
          "date": "2016-01-09T14:21:31.351351",
          "score": 0.13092767169035857
         },
         {
          "date": "2016-01-13T14:48:54.594594",
          "score": 0.1317621027713757
         },
         {
          "date": "2016-01-17T15:16:17.837838",
          "score": 0.13259613968149228
         },
         {
          "date": "2016-01-21T15:43:41.081081",
          "score": 0.13342977992566082
         },
         {
          "date": "2016-01-25T16:11:04.324324",
          "score": 0.1342630210100172
         },
         {
          "date": "2016-01-29T16:38:27.567568",
          "score": 0.13509586044189215
         },
         {
          "date": "2016-02-02T17:05:50.810811",
          "score": 0.13592829572981716
         },
         {
          "date": "2016-02-06T17:33:14.054054",
          "score": 0.13676032438353394
         },
         {
          "date": "2016-02-10T18:00:37.297297",
          "score": 0.13759194391399937
         },
         {
          "date": "2016-02-14T18:28:00.540540",
          "score": 0.13842315183339518
         },
         {
          "date": "2016-02-18T18:55:23.783784",
          "score": 0.13925394565513383
         },
         {
          "date": "2016-02-22T19:22:47.027027",
          "score": 0.14008432289386671
         },
         {
          "date": "2016-02-26T19:50:10.270270",
          "score": 0.1409142810654918
         },
         {
          "date": "2016-03-01T20:17:33.513514",
          "score": 0.14174381768716013
         },
         {
          "date": "2016-03-05T20:44:56.756757",
          "score": 0.1425729302772845
         },
         {
          "date": "2016-03-09T21:12:20",
          "score": 0.14340161635554569
         },
         {
          "date": "2016-03-13T21:39:43.243243",
          "score": 0.14422987344290014
         },
         {
          "date": "2016-03-17T22:07:06.486486",
          "score": 0.1450576990615887
         },
         {
          "date": "2016-03-21T22:34:29.729730",
          "score": 0.14588509073514228
         },
         {
          "date": "2016-03-25T23:01:52.972973",
          "score": 0.1467120459883899
         },
         {
          "date": "2016-03-30T00:29:16.216216",
          "score": 0.14753856234746596
         },
         {
          "date": "2016-04-03T00:56:39.459460",
          "score": 0.14836463733981858
         },
         {
          "date": "2016-04-07T01:24:02.702703",
          "score": 0.14919026849421532
         },
         {
          "date": "2016-04-11T01:51:25.945946",
          "score": 0.15001545334075247
         },
         {
          "date": "2016-04-15T02:18:49.189189",
          "score": 0.15084018941086064
         },
         {
          "date": "2016-04-19T02:46:12.432432",
          "score": 0.1516644742373132
         },
         {
          "date": "2016-04-23T03:13:35.675676",
          "score": 0.15248830535423333
         },
         {
          "date": "2016-04-27T03:40:58.918919",
          "score": 0.1533116802971025
         },
         {
          "date": "2016-05-01T04:08:22.162162",
          "score": 0.15413459660276546
         },
         {
          "date": "2016-05-05T04:35:45.405406",
          "score": 0.1549570518094395
         },
         {
          "date": "2016-05-09T05:03:08.648649",
          "score": 0.15577904345672405
         },
         {
          "date": "2016-05-13T05:30:31.891892",
          "score": 0.15660056908559514
         },
         {
          "date": "2016-05-17T05:57:55.135135",
          "score": 0.1574216262384401
         },
         {
          "date": "2016-05-21T06:25:18.378378",
          "score": 0.15824221245902856
         },
         {
          "date": "2016-05-25T06:52:41.621622",
          "score": 0.15906232529255723
         },
         {
          "date": "2016-05-29T07:20:04.864865",
          "score": 0.15988196228562152
         },
         {
          "date": "2016-06-02T07:47:28.108108",
          "score": 0.1607011209862582
         },
         {
          "date": "2016-06-06T08:14:51.351351",
          "score": 0.16151979894391608
         },
         {
          "date": "2016-06-10T08:42:14.594594",
          "score": 0.16233799370950078
         },
         {
          "date": "2016-06-14T09:09:37.837838",
          "score": 0.16315570283534778
         },
         {
          "date": "2016-06-18T09:37:01.081081",
          "score": 0.1639729238752538
         },
         {
          "date": "2016-06-22T10:04:24.324324",
          "score": 0.16478965438447413
         },
         {
          "date": "2016-06-26T10:31:47.567568",
          "score": 0.165605891919731
         },
         {
          "date": "2016-06-30T10:59:10.810811",
          "score": 0.16642163403922106
         },
         {
          "date": "2016-07-04T11:26:34.054054",
          "score": 0.16723687830262413
         },
         {
          "date": "2016-07-08T11:53:57.297297",
          "score": 0.16805162227110873
         },
         {
          "date": "2016-07-12T12:21:20.540540",
          "score": 0.1688658635073398
         },
         {
          "date": "2016-07-16T12:48:43.783784",
          "score": 0.16967959957548628
         },
         {
          "date": "2016-07-20T13:16:07.027027",
          "score": 0.1704928280412289
         },
         {
          "date": "2016-07-24T13:43:30.270270",
          "score": 0.17130554647176613
         },
         {
          "date": "2016-07-28T14:10:53.513514",
          "score": 0.17211775243582303
         },
         {
          "date": "2016-08-01T14:38:16.756757",
          "score": 0.17292944350365708
         },
         {
          "date": "2016-08-05T15:05:40",
          "score": 0.1737406172470661
         },
         {
          "date": "2016-08-09T15:33:03.243243",
          "score": 0.17455127123939576
         },
         {
          "date": "2016-08-13T16:00:26.486486",
          "score": 0.1753614030555471
         },
         {
          "date": "2016-08-17T16:27:49.729730",
          "score": 0.1761710102719823
         },
         {
          "date": "2016-08-21T16:55:12.972973",
          "score": 0.17698009046673313
         },
         {
          "date": "2016-08-25T17:22:36.216216",
          "score": 0.1777886412194086
         },
         {
          "date": "2016-08-29T17:49:59.459460",
          "score": 0.17859666011120065
         },
         {
          "date": "2016-09-02T18:17:22.702703",
          "score": 0.17940414472489305
         },
         {
          "date": "2016-09-06T18:44:45.945946",
          "score": 0.1802110926448676
         },
         {
          "date": "2016-09-10T19:12:09.189189",
          "score": 0.18101750145711126
         },
         {
          "date": "2016-09-14T19:39:32.432432",
          "score": 0.18182336874922417
         },
         {
          "date": "2016-09-18T20:06:55.675676",
          "score": 0.18262869211042704
         },
         {
          "date": "2016-09-22T20:34:18.918919",
          "score": 0.18343346913156663
         },
         {
          "date": "2016-09-26T21:01:42.162162",
          "score": 0.1842376974051244
         },
         {
          "date": "2016-09-30T21:29:05.405406",
          "score": 0.185041374525224
         },
         {
          "date": "2016-10-04T21:56:28.648649",
          "score": 0.18584449808763942
         },
         {
          "date": "2016-10-08T22:23:51.891892",
          "score": 0.1866470656897921
         },
         {
          "date": "2016-10-12T22:51:15.135135",
          "score": 0.18744907493078233
         },
         {
          "date": "2016-10-16T23:18:38.378378",
          "score": 0.18825052341136225
         },
         {
          "date": "2016-10-20T23:46:01.621622",
          "score": 0.18905140873397994
         },
         {
          "date": "2016-10-25T00:13:24.864865",
          "score": 0.18985172850275092
         },
         {
          "date": "2016-10-29T00:40:48.108108",
          "score": 0.19065148032349943
         },
         {
          "date": "2016-11-02T00:08:11.351351",
          "score": 0.1914506618037309
         },
         {
          "date": "2016-11-06T00:35:34.594594",
          "score": 0.19224927055267574
         },
         {
          "date": "2016-11-10T01:02:57.837838",
          "score": 0.19304730418126093
         },
         {
          "date": "2016-11-14T01:30:21.081081",
          "score": 0.1938447603021439
         },
         {
          "date": "2016-11-18T01:57:44.324324",
          "score": 0.19464163652970687
         },
         {
          "date": "2016-11-22T02:25:07.567568",
          "score": 0.19543793048006672
         },
         {
          "date": "2016-11-26T02:52:30.810811",
          "score": 0.19623363977108246
         },
         {
          "date": "2016-11-30T03:19:54.054054",
          "score": 0.19702876202236289
         },
         {
          "date": "2016-12-04T03:47:17.297297",
          "score": 0.19782329485527173
         },
         {
          "date": "2016-12-08T04:14:40.540540",
          "score": 0.19861723589293634
         },
         {
          "date": "2016-12-12T04:42:03.783784",
          "score": 0.19941058276025492
         },
         {
          "date": "2016-12-16T05:09:27.027027",
          "score": 0.20020333308390237
         },
         {
          "date": "2016-12-20T05:36:50.270270",
          "score": 0.20099548449233914
         },
         {
          "date": "2016-12-24T06:04:13.513514",
          "score": 0.2017870346158166
         },
         {
          "date": "2016-12-28T06:31:36.756757",
          "score": 0.2025779810863849
         },
         {
          "date": "2017-01-01T06:59:00",
          "score": 0.2033683215379006
         },
         {
          "date": "2017-01-05T07:26:23.243243",
          "score": 0.20415805360603226
         },
         {
          "date": "2017-01-09T07:53:46.486486",
          "score": 0.20494717492826994
         },
         {
          "date": "2017-01-13T08:21:09.729730",
          "score": 0.20573568314392912
         },
         {
          "date": "2017-01-17T08:48:32.972973",
          "score": 0.2065235758941605
         },
         {
          "date": "2017-01-21T09:15:56.216216",
          "score": 0.20731085082195538
         },
         {
          "date": "2017-01-25T09:43:19.459460",
          "score": 0.20809750557215384
         },
         {
          "date": "2017-01-29T10:10:42.702703",
          "score": 0.20888353779145064
         },
         {
          "date": "2017-02-02T10:38:05.945946",
          "score": 0.20966894512840306
         },
         {
          "date": "2017-02-06T11:05:29.189189",
          "score": 0.21045372523343817
         },
         {
          "date": "2017-02-10T11:32:52.432432",
          "score": 0.2112378757588585
         },
         {
          "date": "2017-02-14T12:00:15.675676",
          "score": 0.21202139435885142
         },
         {
          "date": "2017-02-18T12:27:38.918919",
          "score": 0.2128042786894932
         },
         {
          "date": "2017-02-22T12:55:02.162162",
          "score": 0.21358652640875866
         },
         {
          "date": "2017-02-26T13:22:25.405406",
          "score": 0.2143681351765262
         },
         {
          "date": "2017-03-02T13:49:48.648649",
          "score": 0.21514910265458873
         },
         {
          "date": "2017-03-06T14:17:11.891892",
          "score": 0.21592942650664818
         },
         {
          "date": "2017-03-10T14:44:35.135135",
          "score": 0.21670910439834723
         },
         {
          "date": "2017-03-14T15:11:58.378378",
          "score": 0.21748813399724415
         },
         {
          "date": "2017-03-18T15:39:21.621622",
          "score": 0.21826651297285293
         },
         {
          "date": "2017-03-22T16:06:44.864865",
          "score": 0.21904423899661812
         },
         {
          "date": "2017-03-26T17:34:08.108108",
          "score": 0.21982130974195327
         },
         {
          "date": "2017-03-30T18:01:31.351351",
          "score": 0.2205977228842161
         },
         {
          "date": "2017-04-03T18:28:54.594594",
          "score": 0.2213734761007482
         },
         {
          "date": "2017-04-07T18:56:17.837838",
          "score": 0.22214856707085062
         },
         {
          "date": "2017-04-11T19:23:41.081081",
          "score": 0.22292299347581393
         },
         {
          "date": "2017-04-15T19:51:04.324324",
          "score": 0.22369675299891445
         },
         {
          "date": "2017-04-19T20:18:27.567568",
          "score": 0.22446984332542413
         },
         {
          "date": "2017-04-23T20:45:50.810811",
          "score": 0.22524226214261595
         },
         {
          "date": "2017-04-27T21:13:14.054054",
          "score": 0.22601400713977296
         },
         {
          "date": "2017-05-01T21:40:37.297297",
          "score": 0.22678507600819264
         },
         {
          "date": "2017-05-05T22:08:00.540540",
          "score": 0.2275554664411962
         },
         {
          "date": "2017-05-09T22:35:23.783784",
          "score": 0.2283251761341337
         },
         {
          "date": "2017-05-13T23:02:47.027027",
          "score": 0.22909420278439174
         },
         {
          "date": "2017-05-17T23:30:10.270270",
          "score": 0.22986254409140092
         },
         {
          "date": "2017-05-21T23:57:33.513514",
          "score": 0.23063019775664098
         },
         {
          "date": "2017-05-26T00:24:56.756757",
          "score": 0.23139716148364997
         },
         {
          "date": "2017-05-30T00:52:20",
          "score": 0.23216343297802902
         },
         {
          "date": "2017-06-03T01:19:43.243243",
          "score": 0.23292900994744997
         },
         {
          "date": "2017-06-07T01:47:06.486486",
          "score": 0.23369389010166347
         },
         {
          "date": "2017-06-11T02:14:29.729730",
          "score": 0.23445807115250394
         },
         {
          "date": "2017-06-15T02:41:52.972973",
          "score": 0.23522155081389717
         },
         {
          "date": "2017-06-19T03:09:16.216216",
          "score": 0.23598432680186696
         },
         {
          "date": "2017-06-23T03:36:39.459460",
          "score": 0.23674639683454296
         },
         {
          "date": "2017-06-27T04:04:02.702703",
          "score": 0.23750775863216583
         },
         {
          "date": "2017-07-01T04:31:25.945946",
          "score": 0.23826840991709583
         },
         {
          "date": "2017-07-05T04:58:49.189189",
          "score": 0.239028348413818
         },
         {
          "date": "2017-07-09T05:26:12.432432",
          "score": 0.23978757184894967
         },
         {
          "date": "2017-07-13T05:53:35.675676",
          "score": 0.24054607795124805
         },
         {
          "date": "2017-07-17T06:20:58.918919",
          "score": 0.24130386445161606
         },
         {
          "date": "2017-07-21T06:48:22.162162",
          "score": 0.2420609290831087
         },
         {
          "date": "2017-07-25T07:15:45.405406",
          "score": 0.2428172695809409
         },
         {
          "date": "2017-07-29T07:43:08.648649",
          "score": 0.24357288368249613
         },
         {
          "date": "2017-08-02T08:10:31.891892",
          "score": 0.244327769127322
         },
         {
          "date": "2017-08-06T08:37:55.135135",
          "score": 0.24508192365716142
         },
         {
          "date": "2017-08-10T09:05:18.378378",
          "score": 0.24583534501592622
         },
         {
          "date": "2017-08-14T09:32:41.621622",
          "score": 0.24658803094973838
         },
         {
          "date": "2017-08-18T10:00:04.864865",
          "score": 0.247339979206904
         },
         {
          "date": "2017-08-22T10:27:28.108108",
          "score": 0.2480911875379523
         },
         {
          "date": "2017-08-26T10:54:51.351351",
          "score": 0.24884165369560882
         },
         {
          "date": "2017-08-30T11:22:14.594594",
          "score": 0.24959137543483623
         },
         {
          "date": "2017-09-03T11:49:37.837838",
          "score": 0.25034035051281006
         },
         {
          "date": "2017-09-07T12:17:01.081081",
          "score": 0.2510885766889472
         },
         {
          "date": "2017-09-11T12:44:24.324324",
          "score": 0.2518360517249033
         },
         {
          "date": "2017-09-15T13:11:47.567568",
          "score": 0.25258277338458085
         },
         {
          "date": "2017-09-19T13:39:10.810811",
          "score": 0.2533287394341358
         },
         {
          "date": "2017-09-23T14:06:34.054054",
          "score": 0.2540739476419852
         },
         {
          "date": "2017-09-27T14:33:57.297297",
          "score": 0.25481839577881304
         },
         {
          "date": "2017-10-01T15:01:20.540540",
          "score": 0.25556208161757665
         },
         {
          "date": "2017-10-05T15:28:43.783784",
          "score": 0.2563050029335139
         },
         {
          "date": "2017-10-09T15:56:07.027027",
          "score": 0.2570471575041503
         },
         {
          "date": "2017-10-13T16:23:30.270270",
          "score": 0.2577885431093043
         },
         {
          "date": "2017-10-17T16:50:53.513514",
          "score": 0.2585291575310956
         },
         {
          "date": "2017-10-21T17:18:16.756757",
          "score": 0.25926899855395025
         },
         {
          "date": "2017-10-25T17:45:40",
          "score": 0.26000806396460807
         },
         {
          "date": "2017-10-29T17:13:03.243243",
          "score": 0.2607463515521293
         },
         {
          "date": "2017-11-02T17:40:26.486486",
          "score": 0.26148385910790134
         },
         {
          "date": "2017-11-06T18:07:49.729730",
          "score": 0.26222058442564455
         },
         {
          "date": "2017-11-10T18:35:12.972973",
          "score": 0.2629565253014195
         },
         {
          "date": "2017-11-14T19:02:36.216216",
          "score": 0.26369167953363387
         },
         {
          "date": "2017-11-18T19:29:59.459460",
          "score": 0.26442604492304794
         },
         {
          "date": "2017-11-22T19:57:22.702703",
          "score": 0.2651596192727825
         },
         {
          "date": "2017-11-26T20:24:45.945946",
          "score": 0.2658924003883242
         },
         {
          "date": "2017-11-30T20:52:09.189189",
          "score": 0.26662438607753286
         },
         {
          "date": "2017-12-04T21:19:32.432432",
          "score": 0.267355574150648
         },
         {
          "date": "2017-12-08T21:46:55.675676",
          "score": 0.2680859624202954
         },
         {
          "date": "2017-12-12T22:14:18.918919",
          "score": 0.2688155487014932
         },
         {
          "date": "2017-12-16T22:41:42.162162",
          "score": 0.2695443308116584
         },
         {
          "date": "2017-12-20T23:09:05.405406",
          "score": 0.2702723065706145
         },
         {
          "date": "2017-12-24T23:36:28.648649",
          "score": 0.2709994738005984
         },
         {
          "date": "2017-12-29T00:03:51.891892",
          "score": 0.2717258303262583
         },
         {
          "date": "2018-01-02T00:31:15.135135",
          "score": 0.27245137397468155
         },
         {
          "date": "2018-01-06T00:58:38.378378",
          "score": 0.27317610257537084
         },
         {
          "date": "2018-01-10T01:26:01.621622",
          "score": 0.2739000139602835
         },
         {
          "date": "2018-01-14T01:53:24.864865",
          "score": 0.274623105963806
         },
         {
          "date": "2018-01-18T02:20:48.108108",
          "score": 0.2753453764227914
         },
         {
          "date": "2018-01-22T02:48:11.351351",
          "score": 0.276066823176534
         },
         {
          "date": "2018-01-26T03:15:34.594594",
          "score": 0.2767874440668098
         },
         {
          "date": "2018-01-30T03:42:57.837838",
          "score": 0.27750723693784946
         },
         {
          "date": "2018-02-03T04:10:21.081081",
          "score": 0.2782261996363703
         },
         {
          "date": "2018-02-07T04:37:44.324324",
          "score": 0.2789443300115702
         },
         {
          "date": "2018-02-11T05:05:07.567568",
          "score": 0.27966162591513716
         },
         {
          "date": "2018-02-15T05:32:30.810811",
          "score": 0.2803780852012557
         },
         {
          "date": "2018-02-19T05:59:54.054054",
          "score": 0.2810937057266133
         },
         {
          "date": "2018-02-23T06:27:17.297297",
          "score": 0.28180848535040626
         },
         {
          "date": "2018-02-27T06:54:40.540540",
          "score": 0.2825224219343461
         },
         {
          "date": "2018-03-03T07:22:03.783784",
          "score": 0.28323551334266756
         },
         {
          "date": "2018-03-07T07:49:27.027027",
          "score": 0.2839477574421322
         },
         {
          "date": "2018-03-11T08:16:50.270270",
          "score": 0.2846591521020377
         },
         {
          "date": "2018-03-15T08:44:13.513514",
          "score": 0.2853696951942219
         },
         {
          "date": "2018-03-19T09:11:36.756757",
          "score": 0.2860793845930706
         },
         {
          "date": "2018-03-23T09:39:00",
          "score": 0.28678821817552314
         },
         {
          "date": "2018-03-27T11:06:23.243243",
          "score": 0.2874961938210799
         },
         {
          "date": "2018-03-31T11:33:46.486486",
          "score": 0.28820330941180683
         },
         {
          "date": "2018-04-04T12:01:09.729730",
          "score": 0.288909562832343
         },
         {
          "date": "2018-04-08T12:28:32.972973",
          "score": 0.28961495196990705
         },
         {
          "date": "2018-04-12T12:55:56.216216",
          "score": 0.29031947471430275
         },
         {
          "date": "2018-04-16T13:23:19.459460",
          "score": 0.29102312895792604
         },
         {
          "date": "2018-04-20T13:50:42.702703",
          "score": 0.2917259125957706
         },
         {
          "date": "2018-04-24T14:18:05.945946",
          "score": 0.29242782352543545
         },
         {
          "date": "2018-04-28T14:45:29.189189",
          "score": 0.29312885964712887
         },
         {
          "date": "2018-05-02T15:12:52.432432",
          "score": 0.293829018863677
         },
         {
          "date": "2018-05-06T15:40:15.675676",
          "score": 0.29452829908053035
         },
         {
          "date": "2018-05-10T16:07:38.918919",
          "score": 0.29522669820576697
         },
         {
          "date": "2018-05-14T16:35:02.162162",
          "score": 0.29592421415010184
         },
         {
          "date": "2018-05-18T17:02:25.405406",
          "score": 0.29662084482689227
         },
         {
          "date": "2018-05-22T17:29:48.648649",
          "score": 0.2973165881521449
         },
         {
          "date": "2018-05-26T17:57:11.891892",
          "score": 0.2980114420445134
         },
         {
          "date": "2018-05-30T18:24:35.135135",
          "score": 0.29870540442532667
         },
         {
          "date": "2018-06-03T18:51:58.378378",
          "score": 0.2993984732185642
         },
         {
          "date": "2018-06-07T19:19:21.621622",
          "score": 0.30009064635089405
         },
         {
          "date": "2018-06-11T19:46:44.864865",
          "score": 0.30078192175164914
         },
         {
          "date": "2018-06-15T20:14:08.108108",
          "score": 0.3014722973528627
         },
         {
          "date": "2018-06-19T20:41:31.351351",
          "score": 0.3021617710892441
         },
         {
          "date": "2018-06-23T21:08:54.594594",
          "score": 0.3028503408982169
         },
         {
          "date": "2018-06-27T21:36:17.837838",
          "score": 0.303538004719895
         },
         {
          "date": "2018-07-01T22:03:41.081081",
          "score": 0.30422476049710956
         },
         {
          "date": "2018-07-05T22:31:04.324324",
          "score": 0.30491060617540716
         },
         {
          "date": "2018-07-09T22:58:27.567568",
          "score": 0.30559553970305664
         },
         {
          "date": "2018-07-13T23:25:50.810811",
          "score": 0.3062795590310558
         },
         {
          "date": "2018-07-17T23:53:14.054054",
          "score": 0.3069626621131369
         },
         {
          "date": "2018-07-22T00:20:37.297297",
          "score": 0.30764484690577387
         },
         {
          "date": "2018-07-26T00:48:00.540540",
          "score": 0.30832611136818644
         },
         {
          "date": "2018-07-30T01:15:23.783784",
          "score": 0.30900645346234884
         },
         {
          "date": "2018-08-03T01:42:47.027027",
          "score": 0.3096858711529944
         },
         {
          "date": "2018-08-07T02:10:10.270270",
          "score": 0.31036436240762083
         },
         {
          "date": "2018-08-11T02:37:33.513514",
          "score": 0.3110419251964984
         },
         {
          "date": "2018-08-15T03:04:56.756757",
          "score": 0.3117185574926745
         },
         {
          "date": "2018-08-19T03:32:20",
          "score": 0.31239425727198017
         },
         {
          "date": "2018-08-23T03:59:43.243243",
          "score": 0.3130690225130362
         },
         {
          "date": "2018-08-27T04:27:06.486486",
          "score": 0.31374285119725914
         },
         {
          "date": "2018-08-31T04:54:29.729730",
          "score": 0.31441574130886657
         },
         {
          "date": "2018-09-04T05:21:52.972973",
          "score": 0.31508769083488475
         },
         {
          "date": "2018-09-08T05:49:16.216216",
          "score": 0.31575869776515364
         },
         {
          "date": "2018-09-12T06:16:39.459460",
          "score": 0.31642876009233206
         },
         {
          "date": "2018-09-16T06:44:02.702703",
          "score": 0.31709787581190574
         },
         {
          "date": "2018-09-20T07:11:25.945946",
          "score": 0.3177660429221918
         },
         {
          "date": "2018-09-24T07:38:49.189189",
          "score": 0.31843325942434547
         },
         {
          "date": "2018-09-28T08:06:12.432432",
          "score": 0.3190995233223644
         },
         {
          "date": "2018-10-02T08:33:35.675676",
          "score": 0.31976483262309857
         },
         {
          "date": "2018-10-06T09:00:58.918919",
          "score": 0.3204291853362509
         },
         {
          "date": "2018-10-10T09:28:22.162162",
          "score": 0.32109257947438774
         },
         {
          "date": "2018-10-14T09:55:45.405406",
          "score": 0.3217550130529428
         },
         {
          "date": "2018-10-18T10:23:08.648649",
          "score": 0.3224164840902241
         },
         {
          "date": "2018-10-22T10:50:31.891892",
          "score": 0.32307699060741335
         },
         {
          "date": "2018-10-26T11:17:55.135135",
          "score": 0.3237365306285895
         },
         {
          "date": "2018-10-30T10:45:18.378378",
          "score": 0.32439510218070816
         },
         {
          "date": "2018-11-03T11:12:41.621622",
          "score": 0.32505270329363695
         },
         {
          "date": "2018-11-07T11:40:04.864865",
          "score": 0.3257093320001327
         },
         {
          "date": "2018-11-11T12:07:28.108108",
          "score": 0.32636498633587435
         },
         {
          "date": "2018-11-15T12:34:51.351351",
          "score": 0.3270196643394427
         },
         {
          "date": "2018-11-19T13:02:14.594594",
          "score": 0.32767336405235276
         },
         {
          "date": "2018-11-23T13:29:37.837838",
          "score": 0.3283260835190335
         },
         {
          "date": "2018-11-27T13:57:01.081081",
          "score": 0.3289778207868543
         },
         {
          "date": "2018-12-01T14:24:24.324324",
          "score": 0.32962857390612
         },
         {
          "date": "2018-12-05T14:51:47.567568",
          "score": 0.33027834093008024
         },
         {
          "date": "2018-12-09T15:19:10.810811",
          "score": 0.3309271199149346
         },
         {
          "date": "2018-12-13T15:46:34.054054",
          "score": 0.33157490891983826
         },
         {
          "date": "2018-12-17T16:13:57.297297",
          "score": 0.33222170600690776
         },
         {
          "date": "2018-12-21T16:41:20.540540",
          "score": 0.33286750924122777
         },
         {
          "date": "2018-12-25T17:08:43.783784",
          "score": 0.3335123166908548
         },
         {
          "date": "2018-12-29T17:36:07.027027",
          "score": 0.33415612642682513
         },
         {
          "date": "2019-01-02T18:03:30.270270",
          "score": 0.3347989365231602
         },
         {
          "date": "2019-01-06T18:30:53.513514",
          "score": 0.3354407450568706
         },
         {
          "date": "2019-01-10T18:58:16.756757",
          "score": 0.33608155010796414
         },
         {
          "date": "2019-01-14T19:25:40",
          "score": 0.3367213497594503
         },
         {
          "date": "2019-01-18T19:53:03.243243",
          "score": 0.3373601420973463
         },
         {
          "date": "2019-01-22T20:20:26.486486",
          "score": 0.33799792521068267
         },
         {
          "date": "2019-01-26T20:47:49.729730",
          "score": 0.33863469719150946
         },
         {
          "date": "2019-01-30T21:15:12.972973",
          "score": 0.33927045613490053
         },
         {
          "date": "2019-02-03T21:42:36.216216",
          "score": 0.33990520013896136
         },
         {
          "date": "2019-02-07T22:09:59.459460",
          "score": 0.3405389273048335
         },
         {
          "date": "2019-02-11T22:37:22.702703",
          "score": 0.34117163573669956
         },
         {
          "date": "2019-02-15T23:04:45.945946",
          "score": 0.34180332354179066
         },
         {
          "date": "2019-02-19T23:32:09.189189",
          "score": 0.34243398883039117
         },
         {
          "date": "2019-02-23T23:59:32.432432",
          "score": 0.343063629715843
         },
         {
          "date": "2019-02-28T00:26:55.675676",
          "score": 0.34369224431455464
         },
         {
          "date": "2019-03-04T00:54:18.918919",
          "score": 0.3443198307460037
         },
         {
          "date": "2019-03-08T01:21:42.162162",
          "score": 0.3449463871327429
         },
         {
          "date": "2019-03-12T01:49:05.405406",
          "score": 0.34557191160040757
         },
         {
          "date": "2019-03-16T02:16:28.648649",
          "score": 0.34619640227772136
         },
         {
          "date": "2019-03-20T02:43:51.891892",
          "score": 0.34681985729649334
         },
         {
          "date": "2019-03-24T03:11:15.135135",
          "score": 0.34744227479164336
         },
         {
          "date": "2019-03-28T03:38:38.378378",
          "score": 0.3480636529011807
         },
         {
          "date": "2019-04-01T05:06:01.621622",
          "score": 0.34868398976623816
         },
         {
          "date": "2019-04-05T05:33:24.864865",
          "score": 0.3493032835310495
         },
         {
          "date": "2019-04-09T06:00:48.108108",
          "score": 0.3499215323429835
         },
         {
          "date": "2019-04-13T06:28:11.351351",
          "score": 0.35053873435252003
         },
         {
          "date": "2019-04-17T06:55:34.594594",
          "score": 0.3511548877132848
         },
         {
          "date": "2019-04-21T07:22:57.837838",
          "score": 0.3517699905820284
         },
         {
          "date": "2019-04-25T07:50:21.081081",
          "score": 0.3523840411186512
         },
         {
          "date": "2019-04-29T08:17:44.324324",
          "score": 0.3529970374861998
         },
         {
          "date": "2019-05-03T08:45:07.567568",
          "score": 0.353608977850874
         },
         {
          "date": "2019-05-07T09:12:30.810811",
          "score": 0.35421986038203307
         },
         {
          "date": "2019-05-11T09:39:54.054054",
          "score": 0.3548296832522009
         },
         {
          "date": "2019-05-15T10:07:17.297297",
          "score": 0.35543844463707114
         },
         {
          "date": "2019-05-19T10:34:40.540540",
          "score": 0.3560461427155134
         },
         {
          "date": "2019-05-23T11:02:03.783784",
          "score": 0.356652775669577
         },
         {
          "date": "2019-05-27T11:29:27.027027",
          "score": 0.35725834168449894
         },
         {
          "date": "2019-05-31T11:56:50.270270",
          "score": 0.35786283894870746
         },
         {
          "date": "2019-06-04T12:24:13.513514",
          "score": 0.35846626565382833
         },
         {
          "date": "2019-06-08T12:51:36.756757",
          "score": 0.3590686199946889
         },
         {
          "date": "2019-06-12T13:19:00",
          "score": 0.35966990016932576
         },
         {
          "date": "2019-06-16T13:46:23.243243",
          "score": 0.36027010437898843
         },
         {
          "date": "2019-06-20T14:13:46.486486",
          "score": 0.3608692308281451
         },
         {
          "date": "2019-06-24T14:41:09.729730",
          "score": 0.3614672777244885
         },
         {
          "date": "2019-06-28T15:08:32.972973",
          "score": 0.36206424327894016
         },
         {
          "date": "2019-07-02T15:35:56.216216",
          "score": 0.36266012570565714
         },
         {
          "date": "2019-07-06T16:03:19.459460",
          "score": 0.3632549232220365
         },
         {
          "date": "2019-07-10T16:30:42.702703",
          "score": 0.3638486340487212
         },
         {
          "date": "2019-07-14T16:58:05.945946",
          "score": 0.36444125640960406
         },
         {
          "date": "2019-07-18T17:25:29.189189",
          "score": 0.3650327885318351
         },
         {
          "date": "2019-07-22T17:52:52.432432",
          "score": 0.36562322864582536
         },
         {
          "date": "2019-07-26T18:20:15.675676",
          "score": 0.36621257498525284
         },
         {
          "date": "2019-07-30T18:47:38.918919",
          "score": 0.366800825787068
         },
         {
          "date": "2019-08-03T19:15:02.162162",
          "score": 0.3673879792914974
         },
         {
          "date": "2019-08-07T19:42:25.405406",
          "score": 0.3679740337420512
         },
         {
          "date": "2019-08-11T20:09:48.648649",
          "score": 0.36855898738552917
         },
         {
          "date": "2019-08-15T20:37:11.891892",
          "score": 0.369142838472017
         },
         {
          "date": "2019-08-19T21:04:35.135135",
          "score": 0.3697255852549106
         },
         {
          "date": "2019-08-23T21:31:58.378378",
          "score": 0.37030722599089577
         },
         {
          "date": "2019-08-27T21:59:21.621622",
          "score": 0.37088775893998116
         },
         {
          "date": "2019-08-31T22:26:44.864865",
          "score": 0.3714671823654758
         },
         {
          "date": "2019-09-04T22:54:08.108108",
          "score": 0.37204549453402086
         },
         {
          "date": "2019-09-08T23:21:31.351351",
          "score": 0.37262269371556894
         },
         {
          "date": "2019-09-12T23:48:54.594594",
          "score": 0.373198778183415
         },
         {
          "date": "2019-09-17T00:16:17.837838",
          "score": 0.3737737462141776
         },
         {
          "date": "2019-09-21T00:43:41.081081",
          "score": 0.37434759608782153
         },
         {
          "date": "2019-09-25T01:11:04.324324",
          "score": 0.3749203260876553
         },
         {
          "date": "2019-09-29T01:38:27.567568",
          "score": 0.37549193450033674
         },
         {
          "date": "2019-10-03T02:05:50.810811",
          "score": 0.3760624196158795
         },
         {
          "date": "2019-10-07T02:33:14.054054",
          "score": 0.37663177972765843
         },
         {
          "date": "2019-10-11T03:00:37.297297",
          "score": 0.37720001313241214
         },
         {
          "date": "2019-10-15T03:28:00.540540",
          "score": 0.377767118130251
         },
         {
          "date": "2019-10-19T03:55:23.783784",
          "score": 0.378333093024661
         },
         {
          "date": "2019-10-23T04:22:47.027027",
          "score": 0.378897936122508
         },
         {
          "date": "2019-10-27T03:50:10.270270",
          "score": 0.37946164573404473
         },
         {
          "date": "2019-10-31T04:17:33.513514",
          "score": 0.3800242201729145
         },
         {
          "date": "2019-11-04T04:44:56.756757",
          "score": 0.38058565775615594
         },
         {
          "date": "2019-11-08T05:12:20",
          "score": 0.3811459568042089
         },
         {
          "date": "2019-11-12T05:39:43.243243",
          "score": 0.38170511564092036
         },
         {
          "date": "2019-11-16T06:07:06.486486",
          "score": 0.3822631325935463
         },
         {
          "date": "2019-11-20T06:34:29.729730",
          "score": 0.38282000599275995
         },
         {
          "date": "2019-11-24T07:01:52.972973",
          "score": 0.38337573417265564
         },
         {
          "date": "2019-11-28T07:29:16.216216",
          "score": 0.38393031547075257
         },
         {
          "date": "2019-12-02T07:56:39.459460",
          "score": 0.38448374822800196
         },
         {
          "date": "2019-12-06T08:24:02.702703",
          "score": 0.3850360307887906
         },
         {
          "date": "2019-12-10T08:51:25.945946",
          "score": 0.38558716150094574
         },
         {
          "date": "2019-12-14T09:18:49.189189",
          "score": 0.386137138715741
         },
         {
          "date": "2019-12-18T09:46:12.432432",
          "score": 0.3866859607879002
         },
         {
          "date": "2019-12-22T10:13:35.675676",
          "score": 0.38723362607560347
         },
         {
          "date": "2019-12-26T10:40:58.918919",
          "score": 0.38778013294049085
         },
         {
          "date": "2019-12-30T11:08:22.162162",
          "score": 0.3883254797476686
         },
         {
          "date": "2020-01-03T11:35:45.405406",
          "score": 0.38886966486571206
         },
         {
          "date": "2020-01-07T12:03:08.648649",
          "score": 0.38941268666667467
         },
         {
          "date": "2020-01-11T12:30:31.891892",
          "score": 0.3899545435260831
         },
         {
          "date": "2020-01-15T12:57:55.135135",
          "score": 0.39049523382295964
         },
         {
          "date": "2020-01-19T13:25:18.378378",
          "score": 0.391034755939805
         },
         {
          "date": "2020-01-23T13:52:41.621622",
          "score": 0.3915731082626256
         },
         {
          "date": "2020-01-27T14:20:04.864865",
          "score": 0.39211028918091617
         },
         {
          "date": "2020-01-31T14:47:28.108108",
          "score": 0.3926462970876873
         },
         {
          "date": "2020-02-04T15:14:51.351351",
          "score": 0.3931811303794467
         },
         {
          "date": "2020-02-08T15:42:14.594594",
          "score": 0.3937147874562276
         },
         {
          "date": "2020-02-12T16:09:37.837838",
          "score": 0.39424726672157284
         },
         {
          "date": "2020-02-16T16:37:01.081081",
          "score": 0.39477856658255284
         },
         {
          "date": "2020-02-20T17:04:24.324324",
          "score": 0.39530868544976583
         },
         {
          "date": "2020-02-24T17:31:47.567568",
          "score": 0.39583762173734316
         },
         {
          "date": "2020-02-28T17:59:10.810811",
          "score": 0.39636537386295334
         },
         {
          "date": "2020-03-03T18:26:34.054054",
          "score": 0.39689194024780794
         },
         {
          "date": "2020-03-07T18:53:57.297297",
          "score": 0.3974173193166648
         },
         {
          "date": "2020-03-11T19:21:20.540540",
          "score": 0.3979415094978346
         },
         {
          "date": "2020-03-15T19:48:43.783784",
          "score": 0.39846450922318405
         },
         {
          "date": "2020-03-19T20:16:07.027027",
          "score": 0.3989863169281418
         },
         {
          "date": "2020-03-23T20:43:30.270270",
          "score": 0.3995069310517013
         },
         {
          "date": "2020-03-27T21:10:53.513514",
          "score": 0.4000263500364278
         },
         {
          "date": "2020-03-31T22:38:16.756757",
          "score": 0.40054457232846163
         },
         {
          "date": "2020-04-04T23:05:40",
          "score": 0.40106159637752187
         },
         {
          "date": "2020-04-08T23:33:03.243243",
          "score": 0.40157742063691443
         },
         {
          "date": "2020-04-13T00:00:26.486486",
          "score": 0.40209204356353223
         },
         {
          "date": "2020-04-17T00:27:49.729730",
          "score": 0.40260546361786326
         },
         {
          "date": "2020-04-21T00:55:12.972973",
          "score": 0.4031176792639936
         },
         {
          "date": "2020-04-25T01:22:36.216216",
          "score": 0.4036286889696127
         },
         {
          "date": "2020-04-29T01:49:59.459460",
          "score": 0.40413849120601675
         },
         {
          "date": "2020-05-03T02:17:22.702703",
          "score": 0.404647084448115
         },
         {
          "date": "2020-05-07T02:44:45.945946",
          "score": 0.40515446717443326
         },
         {
          "date": "2020-05-11T03:12:09.189189",
          "score": 0.40566063786711815
         },
         {
          "date": "2020-05-15T03:39:32.432432",
          "score": 0.40616559501194277
         },
         {
          "date": "2020-05-19T04:06:55.675676",
          "score": 0.40666933709831016
         },
         {
          "date": "2020-05-23T04:34:18.918919",
          "score": 0.4071718626192585
         },
         {
          "date": "2020-05-27T05:01:42.162162",
          "score": 0.40767317007146553
         },
         {
          "date": "2020-05-31T05:29:05.405406",
          "score": 0.40817325795525217
         },
         {
          "date": "2020-06-04T05:56:28.648649",
          "score": 0.4086721247745898
         },
         {
          "date": "2020-06-08T06:23:51.891892",
          "score": 0.4091697690370966
         },
         {
          "date": "2020-06-12T06:51:15.135135",
          "score": 0.4096661892540586
         },
         {
          "date": "2020-06-16T07:18:38.378378",
          "score": 0.41016138394041163
         },
         {
          "date": "2020-06-20T07:46:01.621622",
          "score": 0.41065535161476896
         },
         {
          "date": "2020-06-24T08:13:24.864865",
          "score": 0.41114809079940406
         },
         {
          "date": "2020-06-28T08:40:48.108108",
          "score": 0.41163960002027594
         },
         {
          "date": "2020-07-02T09:08:11.351351",
          "score": 0.4121298778070122
         },
         {
          "date": "2020-07-06T09:35:34.594594",
          "score": 0.41261892269293504
         },
         {
          "date": "2020-07-10T10:02:57.837838",
          "score": 0.4131067332150464
         },
         {
          "date": "2020-07-14T10:30:21.081081",
          "score": 0.4135933079140447
         },
         {
          "date": "2020-07-18T10:57:44.324324",
          "score": 0.41407864533432526
         },
         {
          "date": "2020-07-22T11:25:07.567568",
          "score": 0.41456274402398435
         },
         {
          "date": "2020-07-26T11:52:30.810811",
          "score": 0.41504560253482387
         },
         {
          "date": "2020-07-30T12:19:54.054054",
          "score": 0.415527219422356
         },
         {
          "date": "2020-08-03T12:47:17.297297",
          "score": 0.4160075932458072
         },
         {
          "date": "2020-08-07T13:14:40.540540",
          "score": 0.41648672256812225
         },
         {
          "date": "2020-08-11T13:42:03.783784",
          "score": 0.4169646059559691
         },
         {
          "date": "2020-08-15T14:09:27.027027",
          "score": 0.41744124197974364
         },
         {
          "date": "2020-08-19T14:36:50.270270",
          "score": 0.417916629213572
         },
         {
          "date": "2020-08-23T15:04:13.513514",
          "score": 0.41839076623531696
         },
         {
          "date": "2020-08-27T15:31:36.756757",
          "score": 0.41886365162658157
         },
         {
          "date": "2020-08-31T15:59:00",
          "score": 0.4193352839727121
         },
         {
          "date": "2020-09-04T16:26:23.243243",
          "score": 0.41980566186280455
         },
         {
          "date": "2020-09-08T16:53:46.486486",
          "score": 0.4202747838897073
         },
         {
          "date": "2020-09-12T17:21:09.729730",
          "score": 0.42074264865002514
         },
         {
          "date": "2020-09-16T17:48:32.972973",
          "score": 0.42120925474412446
         },
         {
          "date": "2020-09-20T18:15:56.216216",
          "score": 0.42167460077613733
         },
         {
          "date": "2020-09-24T18:43:19.459460",
          "score": 0.4221386853539644
         },
         {
          "date": "2020-09-28T19:10:42.702703",
          "score": 0.422601507089281
         },
         {
          "date": "2020-10-02T19:38:05.945946",
          "score": 0.4230630645975399
         },
         {
          "date": "2020-10-06T20:05:29.189189",
          "score": 0.4235233564979754
         },
         {
          "date": "2020-10-10T20:32:52.432432",
          "score": 0.4239823814136083
         },
         {
          "date": "2020-10-14T21:00:15.675676",
          "score": 0.4244401379712504
         },
         {
          "date": "2020-10-18T21:27:38.918919",
          "score": 0.42489662480150636
         },
         {
          "date": "2020-10-22T21:55:02.162162",
          "score": 0.42535184053878033
         },
         {
          "date": "2020-10-26T21:22:25.405406",
          "score": 0.42580578382127876
         },
         {
          "date": "2020-10-30T21:49:48.648649",
          "score": 0.42625845329101536
         },
         {
          "date": "2020-11-03T22:17:11.891892",
          "score": 0.42670984759381037
         },
         {
          "date": "2020-11-07T22:44:35.135135",
          "score": 0.42715996537930706
         },
         {
          "date": "2020-11-11T23:11:58.378378",
          "score": 0.42760880530095735
         },
         {
          "date": "2020-11-15T23:39:21.621622",
          "score": 0.42805636601604585
         },
         {
          "date": "2020-11-20T00:06:44.864865",
          "score": 0.4285026461856747
         },
         {
          "date": "2020-11-24T00:34:08.108108",
          "score": 0.42894764447478595
         },
         {
          "date": "2020-11-28T01:01:31.351351",
          "score": 0.4293913595521467
         },
         {
          "date": "2020-12-02T01:28:54.594594",
          "score": 0.4298337900903732
         },
         {
          "date": "2020-12-06T01:56:17.837838",
          "score": 0.4302749347659152
         },
         {
          "date": "2020-12-10T02:23:41.081081",
          "score": 0.43071479225907466
         },
         {
          "date": "2020-12-14T02:51:04.324324",
          "score": 0.43115336125400217
         },
         {
          "date": "2020-12-18T03:18:27.567568",
          "score": 0.4315906404387036
         },
         {
          "date": "2020-12-22T03:45:50.810811",
          "score": 0.4320266285050432
         },
         {
          "date": "2020-12-26T04:13:14.054054",
          "score": 0.4324613241487475
         },
         {
          "date": "2020-12-30T04:40:37.297297",
          "score": 0.4328947260694096
         },
         {
          "date": "2021-01-03T05:08:00.540540",
          "score": 0.4333268329704922
         },
         {
          "date": "2021-01-07T05:35:23.783784",
          "score": 0.4337576435593328
         },
         {
          "date": "2021-01-11T06:02:47.027027",
          "score": 0.4341871565471465
         },
         {
          "date": "2021-01-15T06:30:10.270270",
          "score": 0.4346153706490306
         },
         {
          "date": "2021-01-19T06:57:33.513514",
          "score": 0.4350422845839674
         },
         {
          "date": "2021-01-23T07:24:56.756757",
          "score": 0.435467897074829
         },
         {
          "date": "2021-01-27T07:52:20",
          "score": 0.43589220684838126
         },
         {
          "date": "2021-01-31T08:19:43.243243",
          "score": 0.43631521263528655
         },
         {
          "date": "2021-02-04T08:47:06.486486",
          "score": 0.43673691317010854
         },
         {
          "date": "2021-02-08T09:14:29.729730",
          "score": 0.43715730719131535
         },
         {
          "date": "2021-02-12T09:41:52.972973",
          "score": 0.4375763934412836
         },
         {
          "date": "2021-02-16T10:09:16.216216",
          "score": 0.43799417066630236
         },
         {
          "date": "2021-02-20T10:36:39.459460",
          "score": 0.4384106376165768
         },
         {
          "date": "2021-02-24T11:04:02.702703",
          "score": 0.43882579304623115
         },
         {
          "date": "2021-02-28T11:31:25.945946",
          "score": 0.43923963571331376
         },
         {
          "date": "2021-03-04T11:58:49.189189",
          "score": 0.4396521643798002
         },
         {
          "date": "2021-03-08T12:26:12.432432",
          "score": 0.440063377811596
         },
         {
          "date": "2021-03-12T12:53:35.675676",
          "score": 0.44047327477854276
         },
         {
          "date": "2021-03-16T13:20:58.918919",
          "score": 0.4408818540544189
         },
         {
          "date": "2021-03-20T13:48:22.162162",
          "score": 0.44128911441694674
         },
         {
          "date": "2021-03-24T14:15:45.405406",
          "score": 0.44169505464778913
         },
         {
          "date": "2021-03-28T15:43:08.648649",
          "score": 0.4420996735325667
         },
         {
          "date": "2021-04-01T16:10:31.891892",
          "score": 0.44250296986084336
         },
         {
          "date": "2021-04-05T16:37:55.135135",
          "score": 0.44290494242614864
         },
         {
          "date": "2021-04-09T17:05:18.378378",
          "score": 0.4433055900259631
         },
         {
          "date": "2021-04-13T17:32:41.621622",
          "score": 0.4437049114617399
         },
         {
          "date": "2021-04-17T18:00:04.864865",
          "score": 0.44410290553889126
         },
         {
          "date": "2021-04-21T18:27:28.108108",
          "score": 0.4444995710668078
         },
         {
          "date": "2021-04-25T18:54:51.351351",
          "score": 0.44489490685884703
         },
         {
          "date": "2021-04-29T19:22:14.594594",
          "score": 0.44528891173235235
         },
         {
          "date": "2021-05-03T19:49:37.837838",
          "score": 0.44568158450864115
         },
         {
          "date": "2021-05-07T20:17:01.081081",
          "score": 0.4460729240130207
         },
         {
          "date": "2021-05-11T20:44:24.324324",
          "score": 0.44646292907478474
         },
         {
          "date": "2021-05-15T21:11:47.567568",
          "score": 0.4468515985272198
         },
         {
          "date": "2021-05-19T21:39:10.810811",
          "score": 0.44723893120760805
         },
         {
          "date": "2021-05-23T22:06:34.054054",
          "score": 0.44762492595723
         },
         {
          "date": "2021-05-27T22:33:57.297297",
          "score": 0.44800958162136906
         },
         {
          "date": "2021-05-31T23:01:20.540540",
          "score": 0.4483928970493148
         },
         {
          "date": "2021-06-04T23:28:43.783784",
          "score": 0.4487748710943653
         },
         {
          "date": "2021-06-08T23:56:07.027027",
          "score": 0.4491555026138323
         },
         {
          "date": "2021-06-13T00:23:30.270270",
          "score": 0.44953479046904343
         },
         {
          "date": "2021-06-17T00:50:53.513514",
          "score": 0.4499127335253456
         },
         {
          "date": "2021-06-21T01:18:16.756757",
          "score": 0.4502893306521093
         },
         {
          "date": "2021-06-25T01:45:40",
          "score": 0.4506645807227312
         },
         {
          "date": "2021-06-29T02:13:03.243243",
          "score": 0.45103848261463764
         },
         {
          "date": "2021-07-03T02:40:26.486486",
          "score": 0.45141103520928805
         },
         {
          "date": "2021-07-07T03:07:49.729730",
          "score": 0.4517822373921788
         },
         {
          "date": "2021-07-11T03:35:12.972973",
          "score": 0.4521520880528453
         },
         {
          "date": "2021-07-15T04:02:36.216216",
          "score": 0.45252058608486656
         },
         {
          "date": "2021-07-19T04:29:59.459460",
          "score": 0.45288773038586827
         },
         {
          "date": "2021-07-23T04:57:22.702703",
          "score": 0.4532535198575249
         },
         {
          "date": "2021-07-27T05:24:45.945946",
          "score": 0.45361795340556504
         },
         {
          "date": "2021-07-31T05:52:09.189189",
          "score": 0.45398102993977313
         },
         {
          "date": "2021-08-04T06:19:32.432432",
          "score": 0.4543427483739925
         },
         {
          "date": "2021-08-08T06:46:55.675676",
          "score": 0.4547031076261307
         },
         {
          "date": "2021-08-12T07:14:18.918919",
          "score": 0.45506210661816043
         },
         {
          "date": "2021-08-16T07:41:42.162162",
          "score": 0.45541974427612425
         },
         {
          "date": "2021-08-20T08:09:05.405406",
          "score": 0.45577601953013414
         },
         {
          "date": "2021-08-24T08:36:28.648649",
          "score": 0.4561309313143842
         },
         {
          "date": "2021-08-28T09:03:51.891892",
          "score": 0.45648447856713953
         },
         {
          "date": "2021-09-01T09:31:15.135135",
          "score": 0.45683666023075514
         },
         {
          "date": "2021-09-05T09:58:38.378378",
          "score": 0.45718747525166387
         },
         {
          "date": "2021-09-09T10:26:01.621622",
          "score": 0.4575369225803937
         },
         {
          "date": "2021-09-13T10:53:24.864865",
          "score": 0.4578850011715571
         },
         {
          "date": "2021-09-17T11:20:48.108108",
          "score": 0.45823170998386914
         },
         {
          "date": "2021-09-21T11:48:11.351351",
          "score": 0.4585770479801343
         },
         {
          "date": "2021-09-25T12:15:34.594594",
          "score": 0.45892101412726594
         },
         {
          "date": "2021-09-29T12:42:57.837838",
          "score": 0.45926360739627425
         },
         {
          "date": "2021-10-03T13:10:21.081081",
          "score": 0.4596048267622808
         },
         {
          "date": "2021-10-07T13:37:44.324324",
          "score": 0.4599446712045161
         },
         {
          "date": "2021-10-11T14:05:07.567568",
          "score": 0.46028313970632323
         },
         {
          "date": "2021-10-15T14:32:30.810811",
          "score": 0.4606202312551627
         },
         {
          "date": "2021-10-19T14:59:54.054054",
          "score": 0.46095594484261276
         },
         {
          "date": "2021-10-23T15:27:17.297297",
          "score": 0.461290279464375
         },
         {
          "date": "2021-10-27T15:54:40.540540",
          "score": 0.46162323412027556
         },
         {
          "date": "2021-10-31T15:22:03.783784",
          "score": 0.4619548078142693
         },
         {
          "date": "2021-11-04T15:49:27.027027",
          "score": 0.4622849995544418
         },
         {
          "date": "2021-11-08T16:16:50.270270",
          "score": 0.46261380835301297
         },
         {
          "date": "2021-11-12T16:44:13.513514",
          "score": 0.4629412332263404
         },
         {
          "date": "2021-11-16T17:11:36.756757",
          "score": 0.46326727319492056
         },
         {
          "date": "2021-11-20T17:39:00",
          "score": 0.46359192728339377
         },
         {
          "date": "2021-11-24T18:06:23.243243",
          "score": 0.4639151945205463
         },
         {
          "date": "2021-11-28T18:33:46.486486",
          "score": 0.4642370739393128
         },
         {
          "date": "2021-12-02T19:01:09.729730",
          "score": 0.46455756457677994
         },
         {
          "date": "2021-12-06T19:28:32.972973",
          "score": 0.46487666547418904
         },
         {
          "date": "2021-12-10T19:55:56.216216",
          "score": 0.4651943756769383
         },
         {
          "date": "2021-12-14T20:23:19.459460",
          "score": 0.46551069423458674
         },
         {
          "date": "2021-12-18T20:50:42.702703",
          "score": 0.4658256202008568
         },
         {
          "date": "2021-12-22T21:18:05.945946",
          "score": 0.46613915263363603
         },
         {
          "date": "2021-12-26T21:45:29.189189",
          "score": 0.4664512905949816
         },
         {
          "date": "2021-12-30T22:12:52.432432",
          "score": 0.4667620331511218
         },
         {
          "date": "2022-01-03T22:40:15.675676",
          "score": 0.4670713793724597
         },
         {
          "date": "2022-01-07T23:07:38.918919",
          "score": 0.46737932833357515
         },
         {
          "date": "2022-01-11T23:35:02.162162",
          "score": 0.4676858791132293
         },
         {
          "date": "2022-01-16T00:02:25.405406",
          "score": 0.46799103079436205
         },
         {
          "date": "2022-01-20T00:29:48.648649",
          "score": 0.46829478246410505
         },
         {
          "date": "2022-01-24T00:57:11.891892",
          "score": 0.4685971332137712
         },
         {
          "date": "2022-01-28T01:24:35.135135",
          "score": 0.46889808213887113
         },
         {
          "date": "2022-02-01T01:51:58.378378",
          "score": 0.4691976283391025
         },
         {
          "date": "2022-02-05T02:19:21.621622",
          "score": 0.4694957709183656
         },
         {
          "date": "2022-02-09T02:46:44.864865",
          "score": 0.4697925089847534
         },
         {
          "date": "2022-02-13T03:14:08.108108",
          "score": 0.470087841650567
         },
         {
          "date": "2022-02-17T03:41:31.351351",
          "score": 0.470381768032305
         },
         {
          "date": "2022-02-21T04:08:54.594594",
          "score": 0.47067428725068006
         },
         {
          "date": "2022-02-25T04:36:17.837838",
          "score": 0.470965398430608
         },
         {
          "date": "2022-03-01T05:03:41.081081",
          "score": 0.47125510070122056
         },
         {
          "date": "2022-03-05T05:31:04.324324",
          "score": 0.4715433931958635
         },
         {
          "date": "2022-03-09T05:58:27.567568",
          "score": 0.4718302750520995
         },
         {
          "date": "2022-03-13T06:25:50.810811",
          "score": 0.4721157454117119
         },
         {
          "date": "2022-03-17T06:53:14.054054",
          "score": 0.4723998034207062
         },
         {
          "date": "2022-03-21T07:20:37.297297",
          "score": 0.47268244822931277
         },
         {
          "date": "2022-03-25T07:48:00.540541",
          "score": 0.47296367899199
         },
         {
          "date": "2022-03-29T09:15:23.783784",
          "score": 0.47324349486742645
         },
         {
          "date": "2022-04-02T09:42:47.027027",
          "score": 0.4735218950185429
         },
         {
          "date": "2022-04-06T10:10:10.270270",
          "score": 0.4737988786124959
         },
         {
          "date": "2022-04-10T10:37:33.513514",
          "score": 0.4740744448206795
         },
         {
          "date": "2022-04-14T11:04:56.756757",
          "score": 0.4743485928187276
         },
         {
          "date": "2022-04-18T11:32:20",
          "score": 0.4746213217865169
         },
         {
          "date": "2022-04-22T11:59:43.243243",
          "score": 0.47489263090816963
         },
         {
          "date": "2022-04-26T12:27:06.486486",
          "score": 0.4751625193720549
         },
         {
          "date": "2022-04-30T12:54:29.729730",
          "score": 0.4754309863707919
         },
         {
          "date": "2022-05-04T13:21:52.972973",
          "score": 0.47569803110125264
         },
         {
          "date": "2022-05-08T13:49:16.216216",
          "score": 0.4759636527645632
         },
         {
          "date": "2022-05-12T14:16:39.459460",
          "score": 0.4762278505661073
         },
         {
          "date": "2022-05-16T14:44:02.702703",
          "score": 0.47649062371552825
         },
         {
          "date": "2022-05-20T15:11:25.945946",
          "score": 0.47675197142673076
         },
         {
          "date": "2022-05-24T15:38:49.189189",
          "score": 0.4770118929178839
         },
         {
          "date": "2022-05-28T16:06:12.432432",
          "score": 0.47727038741142425
         },
         {
          "date": "2022-06-01T16:33:35.675676",
          "score": 0.477527454134056
         },
         {
          "date": "2022-06-05T17:00:58.918919",
          "score": 0.47778309231675536
         },
         {
          "date": "2022-06-09T17:28:22.162162",
          "score": 0.4780373011947725
         },
         {
          "date": "2022-06-13T17:55:45.405406",
          "score": 0.47829008000763057
         },
         {
          "date": "2022-06-17T18:23:08.648649",
          "score": 0.4785414279991359
         },
         {
          "date": "2022-06-21T18:50:31.891892",
          "score": 0.47879134441736937
         },
         {
          "date": "2022-06-25T19:17:55.135135",
          "score": 0.47903982851470017
         },
         {
          "date": "2022-06-29T19:45:18.378378",
          "score": 0.47928687954777677
         },
         {
          "date": "2022-07-03T20:12:41.621622",
          "score": 0.47953249677754
         },
         {
          "date": "2022-07-07T20:40:04.864865",
          "score": 0.47977667946921504
         },
         {
          "date": "2022-07-11T21:07:28.108108",
          "score": 0.48001942689232346
         },
         {
          "date": "2022-07-15T21:34:51.351351",
          "score": 0.48026073832067506
         },
         {
          "date": "2022-07-19T22:02:14.594594",
          "score": 0.4805006130323812
         },
         {
          "date": "2022-07-23T22:29:37.837838",
          "score": 0.4807390503098463
         },
         {
          "date": "2022-07-27T22:57:01.081081",
          "score": 0.4809760494397776
         },
         {
          "date": "2022-07-31T23:24:24.324324",
          "score": 0.48121160971318416
         },
         {
          "date": "2022-08-04T23:51:47.567568",
          "score": 0.481445730425379
         },
         {
          "date": "2022-08-09T00:19:10.810811",
          "score": 0.48167841087598207
         },
         {
          "date": "2022-08-13T00:46:34.054054",
          "score": 0.48190965036892175
         },
         {
          "date": "2022-08-17T01:13:57.297297",
          "score": 0.48213944821243715
         },
         {
          "date": "2022-08-21T01:41:20.540541",
          "score": 0.48236780371907967
         },
         {
          "date": "2022-08-25T02:08:43.783784",
          "score": 0.48259471620571626
         },
         {
          "date": "2022-08-29T02:36:07.027027",
          "score": 0.48282018499353035
         },
         {
          "date": "2022-09-02T03:03:30.270270",
          "score": 0.48304420940802406
         },
         {
          "date": "2022-09-06T03:30:53.513514",
          "score": 0.4832667887790207
         },
         {
          "date": "2022-09-10T03:58:16.756757",
          "score": 0.4834879224406664
         },
         {
          "date": "2022-09-14T04:25:40",
          "score": 0.48370760973143195
         },
         {
          "date": "2022-09-18T04:53:03.243243",
          "score": 0.4839258499941153
         },
         {
          "date": "2022-09-22T05:20:26.486486",
          "score": 0.4841426425758434
         },
         {
          "date": "2022-09-26T05:47:49.729730",
          "score": 0.4843579868280734
         },
         {
          "date": "2022-09-30T06:15:12.972973",
          "score": 0.4845718821065956
         },
         {
          "date": "2022-10-04T06:42:36.216216",
          "score": 0.48478432777153496
         },
         {
          "date": "2022-10-08T07:09:59.459460",
          "score": 0.4849953231873527
         },
         {
          "date": "2022-10-12T07:37:22.702703",
          "score": 0.4852048677228489
         },
         {
          "date": "2022-10-16T08:04:45.945946",
          "score": 0.48541296075116375
         },
         {
          "date": "2022-10-20T08:32:09.189189",
          "score": 0.48561960164977963
         },
         {
          "date": "2022-10-24T08:59:32.432432",
          "score": 0.48582478980052335
         },
         {
          "date": "2022-10-28T09:26:55.675676",
          "score": 0.48602852458956747
         },
         {
          "date": "2022-11-01T08:54:18.918919",
          "score": 0.486230805407432
         },
         {
          "date": "2022-11-05T09:21:42.162162",
          "score": 0.4864316316489877
         },
         {
          "date": "2022-11-09T09:49:05.405406",
          "score": 0.48663100271345405
         },
         {
          "date": "2022-11-13T10:16:28.648649",
          "score": 0.486828918004408
         },
         {
          "date": "2022-11-17T10:43:51.891892",
          "score": 0.48702537692977665
         },
         {
          "date": "2022-11-21T11:11:15.135135",
          "score": 0.48722037890184866
         },
         {
          "date": "2022-11-25T11:38:38.378378",
          "score": 0.4874139233372669
         },
         {
          "date": "2022-11-29T12:06:01.621622",
          "score": 0.48760600965703815
         },
         {
          "date": "2022-12-03T12:33:24.864865",
          "score": 0.48779663728652783
         },
         {
          "date": "2022-12-07T13:00:48.108108",
          "score": 0.48798580565546873
         },
         {
          "date": "2022-12-11T13:28:11.351351",
          "score": 0.4881735141979549
         },
         {
          "date": "2022-12-15T13:55:34.594594",
          "score": 0.48835976235245204
         },
         {
          "date": "2022-12-19T14:22:57.837838",
          "score": 0.48854454956179066
         },
         {
          "date": "2022-12-23T14:50:21.081081",
          "score": 0.4887278752731739
         },
         {
          "date": "2022-12-27T15:17:44.324324",
          "score": 0.4889097389381767
         },
         {
          "date": "2022-12-31T15:45:07.567568",
          "score": 0.4890901400127473
         },
         {
          "date": "2023-01-04T16:12:30.810811",
          "score": 0.4892690779572099
         },
         {
          "date": "2023-01-08T16:39:54.054054",
          "score": 0.4894465522362653
         },
         {
          "date": "2023-01-12T17:07:17.297297",
          "score": 0.4896225623189933
         },
         {
          "date": "2023-01-16T17:34:40.540541",
          "score": 0.4897971076788533
         },
         {
          "date": "2023-01-20T18:02:03.783784",
          "score": 0.4899701877936869
         },
         {
          "date": "2023-01-24T18:29:27.027027",
          "score": 0.49014180214571906
         },
         {
          "date": "2023-01-28T18:56:50.270270",
          "score": 0.4903119502215593
         },
         {
          "date": "2023-02-01T19:24:13.513514",
          "score": 0.490480631512204
         },
         {
          "date": "2023-02-05T19:51:36.756757",
          "score": 0.490647845513037
         },
         {
          "date": "2023-02-09T20:19:00",
          "score": 0.49081359172383193
         },
         {
          "date": "2023-02-13T20:46:23.243243",
          "score": 0.4909778696487533
         },
         {
          "date": "2023-02-17T21:13:46.486486",
          "score": 0.4911406787963579
         },
         {
          "date": "2023-02-21T21:41:09.729730",
          "score": 0.49130201867959655
         },
         {
          "date": "2023-02-25T22:08:32.972973",
          "score": 0.49146188881581543
         },
         {
          "date": "2023-03-01T22:35:56.216216",
          "score": 0.49162028872675756
         },
         {
          "date": "2023-03-05T23:03:19.459460",
          "score": 0.49177721793856394
         },
         {
          "date": "2023-03-09T23:30:42.702703",
          "score": 0.4919326759817754
         },
         {
          "date": "2023-03-13T23:58:05.945946",
          "score": 0.49208666239133403
         },
         {
          "date": "2023-03-18T00:25:29.189189",
          "score": 0.4922391767065839
         },
         {
          "date": "2023-03-22T00:52:52.432432",
          "score": 0.49239021847127334
         },
         {
          "date": "2023-03-26T01:20:15.675676",
          "score": 0.4925397872335556
         },
         {
          "date": "2023-03-30T02:47:38.918919",
          "score": 0.49268788254599055
         },
         {
          "date": "2023-04-03T03:15:02.162162",
          "score": 0.4928345039655463
         },
         {
          "date": "2023-04-07T03:42:25.405406",
          "score": 0.4929796510535986
         },
         {
          "date": "2023-04-11T04:09:48.648649",
          "score": 0.4931233233759364
         },
         {
          "date": "2023-04-15T04:37:11.891892",
          "score": 0.4932655205027576
         },
         {
          "date": "2023-04-19T05:04:35.135135",
          "score": 0.49340624200867594
         },
         {
          "date": "2023-04-23T05:31:58.378378",
          "score": 0.49354548747271687
         },
         {
          "date": "2023-04-27T05:59:21.621622",
          "score": 0.49368325647832395
         },
         {
          "date": "2023-05-01T06:26:44.864865",
          "score": 0.49381954861335503
         },
         {
          "date": "2023-05-05T06:54:08.108108",
          "score": 0.4939543634700891
         },
         {
          "date": "2023-05-09T07:21:31.351351",
          "score": 0.4940877006452213
         },
         {
          "date": "2023-05-13T07:48:54.594594",
          "score": 0.49421955973987025
         },
         {
          "date": "2023-05-17T08:16:17.837838",
          "score": 0.49434994035957375
         },
         {
          "date": "2023-05-21T08:43:41.081081",
          "score": 0.4944788421142942
         },
         {
          "date": "2023-05-25T09:11:04.324324",
          "score": 0.49460626461841734
         },
         {
          "date": "2023-05-29T09:38:27.567568",
          "score": 0.4947322074907546
         },
         {
          "date": "2023-06-02T10:05:50.810811",
          "score": 0.49485667035454317
         },
         {
          "date": "2023-06-06T10:33:14.054054",
          "score": 0.4949796528374483
         },
         {
          "date": "2023-06-10T11:00:37.297297",
          "score": 0.4951011545715635
         },
         {
          "date": "2023-06-14T11:28:00.540541",
          "score": 0.49522117519341236
         },
         {
          "date": "2023-06-18T11:55:23.783784",
          "score": 0.49533971434394874
         },
         {
          "date": "2023-06-22T12:22:47.027027",
          "score": 0.4954567716685587
         },
         {
          "date": "2023-06-26T12:50:10.270270",
          "score": 0.4955723468170616
         },
         {
          "date": "2023-06-30T13:17:33.513514",
          "score": 0.49568643944370977
         },
         {
          "date": "2023-07-04T13:44:56.756757",
          "score": 0.49579904920719153
         },
         {
          "date": "2023-07-08T14:12:20",
          "score": 0.4959101757706308
         },
         {
          "date": "2023-07-12T14:39:43.243243",
          "score": 0.49601981880158863
         },
         {
          "date": "2023-07-16T15:07:06.486486",
          "score": 0.496127977972064
         },
         {
          "date": "2023-07-20T15:34:29.729730",
          "score": 0.4962346529584952
         },
         {
          "date": "2023-07-24T16:01:52.972973",
          "score": 0.49633984344176013
         },
         {
          "date": "2023-07-28T16:29:16.216216",
          "score": 0.49644354910717775
         },
         {
          "date": "2023-08-01T16:56:39.459460",
          "score": 0.4965457696445092
         },
         {
          "date": "2023-08-05T17:24:02.702703",
          "score": 0.49664650474795796
         },
         {
          "date": "2023-08-09T17:51:25.945946",
          "score": 0.4967457541161717
         },
         {
          "date": "2023-08-13T18:18:49.189189",
          "score": 0.49684351745224237
         },
         {
          "date": "2023-08-17T18:46:12.432432",
          "score": 0.4969397944637075
         },
         {
          "date": "2023-08-21T19:13:35.675676",
          "score": 0.49703458486255125
         },
         {
          "date": "2023-08-25T19:40:58.918919",
          "score": 0.4971278883652047
         },
         {
          "date": "2023-08-29T20:08:22.162162",
          "score": 0.4972197046925476
         },
         {
          "date": "2023-09-02T20:35:45.405406",
          "score": 0.4973100335699073
         },
         {
          "date": "2023-09-06T21:03:08.648649",
          "score": 0.4973988747270629
         },
         {
          "date": "2023-09-10T21:30:31.891892",
          "score": 0.49748622789824204
         },
         {
          "date": "2023-09-14T21:57:55.135135",
          "score": 0.4975720928221255
         },
         {
          "date": "2023-09-18T22:25:18.378378",
          "score": 0.4976564692418447
         },
         {
          "date": "2023-09-22T22:52:41.621622",
          "score": 0.4977393569049854
         },
         {
          "date": "2023-09-26T23:20:04.864865",
          "score": 0.4978207555635853
         },
         {
          "date": "2023-09-30T23:47:28.108108",
          "score": 0.49790066497413865
         },
         {
          "date": "2023-10-05T00:14:51.351351",
          "score": 0.4979790848975926
         },
         {
          "date": "2023-10-09T00:42:14.594594",
          "score": 0.49805601509935216
         },
         {
          "date": "2023-10-13T01:09:37.837838",
          "score": 0.4981314553492772
         },
         {
          "date": "2023-10-17T01:37:01.081081",
          "score": 0.498205405421686
         },
         {
          "date": "2023-10-21T02:04:24.324324",
          "score": 0.49827786509535427
         },
         {
          "date": "2023-10-25T02:31:47.567568",
          "score": 0.4983488341535164
         },
         {
          "date": "2023-10-29T02:59:10.810811",
          "score": 0.4984183123838659
         },
         {
          "date": "2023-11-02T02:26:34.054054",
          "score": 0.5055617225489472
         },
         {
          "date": "2023-11-06T02:53:57.297297",
          "score": 0.5229148605788165
         },
         {
          "date": "2023-11-10T03:21:20.540541",
          "score": 0.5402373580854707
         },
         {
          "date": "2023-11-14T03:48:43.783784",
          "score": 0.5575085663730441
         },
         {
          "date": "2023-11-18T04:16:07.027027",
          "score": 0.5747078963326888
         },
         {
          "date": "2023-11-22T04:43:30.270270",
          "score": 0.591814843077111
         },
         {
          "date": "2023-11-26T05:10:53.513514",
          "score": 0.6088090104743401
         },
         {
          "date": "2023-11-30T05:38:16.756757",
          "score": 0.6256701355513818
         },
         {
          "date": "2023-12-04T06:05:40",
          "score": 0.6423781127385485
         },
         {
          "date": "2023-12-08T06:33:03.243243",
          "score": 0.6589130179254642
         },
         {
          "date": "2023-12-12T07:00:26.486486",
          "score": 0.6752551322999599
         },
         {
          "date": "2023-12-16T07:27:49.729730",
          "score": 0.6913849659413369
         },
         {
          "date": "2023-12-20T07:55:12.972973",
          "score": 0.7072832811397656
         },
         {
          "date": "2023-12-24T08:22:36.216216",
          "score": 0.722931115413923
         },
         {
          "date": "2023-12-28T08:49:59.459460",
          "score": 0.7383098041993241
         },
         {
          "date": "2024-01-01T09:17:22.702703",
          "score": 0.7534010031802046
         },
         {
          "date": "2024-01-05T09:44:45.945946",
          "score": 0.7681867102382323
         },
         {
          "date": "2024-01-09T10:12:09.189189",
          "score": 0.7826492869917838
         },
         {
          "date": "2024-01-13T10:39:32.432432",
          "score": 0.7967714799000224
         },
         {
          "date": "2024-01-17T11:06:55.675676",
          "score": 0.8105364409065173
         },
         {
          "date": "2024-01-21T11:34:18.918919",
          "score": 0.8239277475977096
         },
         {
          "date": "2024-01-25T12:01:42.162162",
          "score": 0.8369294228521392
         },
         {
          "date": "2024-01-29T12:29:05.405406",
          "score": 0.8495259539566763
         },
         {
          "date": "2024-02-02T12:56:28.648649",
          "score": 0.8617023111676565
         },
         {
          "date": "2024-02-06T13:23:51.891892",
          "score": 0.8734439656932504
         },
         {
          "date": "2024-02-10T13:51:15.135135",
          "score": 0.8847369070775025
         },
         {
          "date": "2024-02-14T14:18:38.378378",
          "score": 0.8955676599631386
         },
         {
          "date": "2024-02-18T14:46:01.621622",
          "score": 0.9059233002151484
         },
         {
          "date": "2024-02-22T15:13:24.864865",
          "score": 0.9157914703838674
         },
         {
          "date": "2024-02-26T15:40:48.108108",
          "score": 0.9251603944909559
         },
         {
          "date": "2024-03-01T16:08:11.351351",
          "score": 0.9340188921187711
         },
         {
          "date": "2024-03-05T16:35:34.594594",
          "score": 0.9423563917880023
         },
         {
          "date": "2024-03-09T17:02:57.837838",
          "score": 0.9501629436059386
         },
         {
          "date": "2024-03-13T17:30:21.081081",
          "score": 0.957429231171652
         },
         {
          "date": "2024-03-17T17:57:44.324324",
          "score": 0.964146582722832
         },
         {
          "date": "2024-03-21T18:25:07.567568",
          "score": 0.9703069815114598
         },
         {
          "date": "2024-03-25T18:52:30.810811",
          "score": 0.975903075395747
         },
         {
          "date": "2024-03-29T19:19:54.054054",
          "score": 0.9809281856368776
         },
         {
          "date": "2024-04-02T20:47:17.297297",
          "score": 0.9853763148900342
         },
         {
          "date": "2024-04-06T21:14:40.540541",
          "score": 0.9892421543801455
         },
         {
          "date": "2024-04-10T21:42:03.783784",
          "score": 0.992521090253767
         },
         {
          "date": "2024-04-14T22:09:27.027027",
          "score": 0.9952092090994998
         },
         {
          "date": "2024-04-18T22:36:50.270270",
          "score": 0.9973033026303357
         },
         {
          "date": "2024-04-22T23:04:13.513514",
          "score": 0.9988008715223338
         },
         {
          "date": "2024-04-26T23:31:36.756757",
          "score": 0.9997001284050294
         },
         {
          "date": "2024-04-30T23:59:00",
          "score": 0.9999999999999999
         }
        ]
       },
       "encoding": {
        "tooltip": [
         {
          "field": "date",
          "type": "temporal"
         }
        ],
        "x": {
         "field": "date",
         "title": "Date",
         "type": "temporal"
        },
        "y": {
         "field": "score",
         "title": "Recency score",
         "type": "quantitative"
        }
       },
       "height": 380,
       "mark": {
        "color": "black",
        "filled": true,
        "size": 10,
        "type": "point"
       },
       "title": "Recency scores (unit weight)",
       "width": 500
      },
      "text/plain": [
       "<VegaLite 4 object>\n",
       "\n",
       "If you see this message, it means the renderer has not been properly enabled\n",
       "for the frontend that you are using. For more information, see\n",
       "https://altair-viz.github.io/user_guide/troubleshooting.html\n"
      ]
     },
     "execution_count": 25,
     "metadata": {},
     "output_type": "execute_result"
    }
   ],
   "source": [
    "# To get an intuitive understanding of how recency is weighted for our data,\n",
    "# we can explore the weights using Superlinked's inbuilt RecencyPlotter\n",
    "recency_plotter = RecencyPlotter(recency_space, context_data=EXECUTOR_DATA)\n",
    "recency_plotter.plot_recency_curve()"
   ]
  },
  {
   "cell_type": "markdown",
   "metadata": {
    "id": "3V1fXSBUObh3"
   },
   "source": [
    "## Defining queries"
   ]
  },
  {
   "cell_type": "code",
   "execution_count": 26,
   "metadata": {
    "id": "XOmp8rG_TsWR"
   },
   "outputs": [],
   "source": [
    "TOP_N = 10\n",
    "\n",
    "# A simple query will serve us right when we simply want to search the dataset with a search term\n",
    "# the term will search in both textual fields\n",
    "# and we will have the option to weight certain inputs' importance\n",
    "simple_query = (\n",
    "    Query(\n",
    "        papers_index,\n",
    "        weights={\n",
    "            abstract_space: Param(\"abstract_weight\"),\n",
    "            title_space: Param(\"title_weight\"),\n",
    "            recency_space: Param(\"recency_weight\"),\n",
    "        },\n",
    "    )\n",
    "    .find(papers)\n",
    "    .similar(abstract_space.text, Param(\"query_text\"))\n",
    "    .similar(title_space.text, Param(\"query_text\"))\n",
    "    .limit(TOP_N)\n",
    ")"
   ]
  },
  {
   "cell_type": "code",
   "execution_count": 27,
   "metadata": {
    "id": "GwLyCwPtOYdk"
   },
   "outputs": [],
   "source": [
    "# A quick helper to present the results in a notebook\n",
    "def present_result(\n",
    "    result: Result,\n",
    "    cols_to_keep: list[str] = [\"abstract\", \"title\", \"release_date\", \"id\"],\n",
    ") -> pd.DataFrame:\n",
    "    # Parse result to dataframe\n",
    "    df: pd.DataFrame = pd.DataFrame([entry.stored_object for entry in result.entries])\n",
    "    # Transform timestamp back to release year, Ts is in milliseconds originally hence the division\n",
    "    df[\"release_date\"] = [\n",
    "        datetime.fromtimestamp(timestamp, tz=timezone.utc).date()\n",
    "        for timestamp in df[\"published_timestamp\"]\n",
    "    ]\n",
    "    return df[cols_to_keep]"
   ]
  },
  {
   "cell_type": "markdown",
   "metadata": {
    "id": "Y0oJWooGVzEQ"
   },
   "source": [
    "## Executing the queries"
   ]
  },
  {
   "cell_type": "code",
   "execution_count": 28,
   "metadata": {
    "colab": {
     "base_uri": "https://localhost:8080/",
     "height": 427,
     "referenced_widgets": [
      "d072c318391b4461950ac426db8b33c2",
      "5ef62bb0c10247a2b5d6aaef9933acf0",
      "b7e05b2a3684400a8c7f4b515cf37345",
      "d2a9b96b9f1045ceb6c7856d42007043",
      "95540b11692a4be885fb442e2bfaf687",
      "5a6457a530f44eccab8aca08088e1d5d",
      "3cfbfd4b9166488ca456c91de242c595",
      "090cd0276235435f8e973df15afadc62",
      "451fb5f128a64e7f973a470148a038c0",
      "8673af492a5b4ba48a2cc1cf05a6dd11",
      "a19b04067d424c05a82e08ca99f16065",
      "d20f5600a7674a7e94c4924765b75066",
      "a0dcc9fb147a47af9ce022a367136286",
      "67a00930652e4e6dae573bf47dca5284",
      "1a6f67da27c84051a4898de0c78f606c",
      "246a7bd5f2934f9dbabcbc95b988f50f",
      "3fb4de390e7f4d08b88ae34e0c41efe3",
      "b9f47e23ed314646ace31737957ef8da",
      "51b48442835548f7bc6b1b68e9781334",
      "6f13c803f9104127b564d256637c33b5",
      "d301653ae4284759b418fb53a241bfcd",
      "e9346407c3694cecb2a9529706ef9f2c"
     ]
    },
    "id": "93SjmNkHOte-",
    "outputId": "04147709-f28a-4900-b823-bfa7465811ed"
   },
   "outputs": [
    {
     "data": {
      "application/vnd.jupyter.widget-view+json": {
       "model_id": "57aa5088d5fc4485a2e0d9fd09367388",
       "version_major": 2,
       "version_minor": 0
      },
      "text/plain": [
       "Batches:   0%|          | 0/1 [00:00<?, ?it/s]"
      ]
     },
     "metadata": {},
     "output_type": "display_data"
    },
    {
     "data": {
      "application/vnd.jupyter.widget-view+json": {
       "model_id": "7cc16e6c29e84b96938b42c6e347afb2",
       "version_major": 2,
       "version_minor": 0
      },
      "text/plain": [
       "Batches:   0%|          | 0/1 [00:00<?, ?it/s]"
      ]
     },
     "metadata": {},
     "output_type": "display_data"
    },
    {
     "data": {
      "text/html": [
       "<div>\n",
       "<style scoped>\n",
       "    .dataframe tbody tr th:only-of-type {\n",
       "        vertical-align: middle;\n",
       "    }\n",
       "\n",
       "    .dataframe tbody tr th {\n",
       "        vertical-align: top;\n",
       "    }\n",
       "\n",
       "    .dataframe thead th {\n",
       "        text-align: right;\n",
       "    }\n",
       "</style>\n",
       "<table border=\"1\" class=\"dataframe\">\n",
       "  <thead>\n",
       "    <tr style=\"text-align: right;\">\n",
       "      <th></th>\n",
       "      <th>abstract</th>\n",
       "      <th>title</th>\n",
       "      <th>release_date</th>\n",
       "      <th>id</th>\n",
       "    </tr>\n",
       "  </thead>\n",
       "  <tbody>\n",
       "    <tr>\n",
       "      <th>0</th>\n",
       "      <td>By integrating Artificial Intelligence (AI) wi...</td>\n",
       "      <td>Generative AI for Low-Carbon Artificial Intell...</td>\n",
       "      <td>2024-04-28</td>\n",
       "      <td>32</td>\n",
       "    </tr>\n",
       "    <tr>\n",
       "      <th>1</th>\n",
       "      <td>In the field of computational advertising, the...</td>\n",
       "      <td>Ad Auctions for LLMs via Retrieval Augmented G...</td>\n",
       "      <td>2024-06-12</td>\n",
       "      <td>222</td>\n",
       "    </tr>\n",
       "    <tr>\n",
       "      <th>2</th>\n",
       "      <td>In this paper, we explore the potential applic...</td>\n",
       "      <td>Automated Conversion of Static to Dynamic Sche...</td>\n",
       "      <td>2024-05-08</td>\n",
       "      <td>356</td>\n",
       "    </tr>\n",
       "    <tr>\n",
       "      <th>3</th>\n",
       "      <td>In many modern LLM applications, such as retri...</td>\n",
       "      <td>Symbolic Prompt Program Search: A Structure-Aw...</td>\n",
       "      <td>2024-04-02</td>\n",
       "      <td>126</td>\n",
       "    </tr>\n",
       "    <tr>\n",
       "      <th>4</th>\n",
       "      <td>Design/methodology/approach This research eval...</td>\n",
       "      <td>Graph database while computationally efficient...</td>\n",
       "      <td>2024-01-15</td>\n",
       "      <td>557</td>\n",
       "    </tr>\n",
       "    <tr>\n",
       "      <th>5</th>\n",
       "      <td>In this paper, we conduct a study to utilize L...</td>\n",
       "      <td>PlanRAG: A Plan-then-Retrieval Augmented Gener...</td>\n",
       "      <td>2024-06-18</td>\n",
       "      <td>193</td>\n",
       "    </tr>\n",
       "    <tr>\n",
       "      <th>6</th>\n",
       "      <td>Retrieval-augmented generation (RAG) technique...</td>\n",
       "      <td>Enhancing Retrieval and Managing Retrieval: A ...</td>\n",
       "      <td>2024-07-15</td>\n",
       "      <td>43</td>\n",
       "    </tr>\n",
       "    <tr>\n",
       "      <th>7</th>\n",
       "      <td>Retrieval-augmented generation supports langua...</td>\n",
       "      <td>CompAct: Compressing Retrieved Documents Activ...</td>\n",
       "      <td>2024-07-12</td>\n",
       "      <td>45</td>\n",
       "    </tr>\n",
       "    <tr>\n",
       "      <th>8</th>\n",
       "      <td>Standard Full-Data classifiers in NLP demand t...</td>\n",
       "      <td>Making LLMs Worth Every Penny: Resource-Limite...</td>\n",
       "      <td>2023-11-10</td>\n",
       "      <td>593</td>\n",
       "    </tr>\n",
       "    <tr>\n",
       "      <th>9</th>\n",
       "      <td>There is a compelling necessity from enterpris...</td>\n",
       "      <td>Fine Tuning LLM for Enterprise: Practical Guid...</td>\n",
       "      <td>2024-03-23</td>\n",
       "      <td>454</td>\n",
       "    </tr>\n",
       "  </tbody>\n",
       "</table>\n",
       "</div>"
      ],
      "text/plain": [
       "                                            abstract  \\\n",
       "0  By integrating Artificial Intelligence (AI) wi...   \n",
       "1  In the field of computational advertising, the...   \n",
       "2  In this paper, we explore the potential applic...   \n",
       "3  In many modern LLM applications, such as retri...   \n",
       "4  Design/methodology/approach This research eval...   \n",
       "5  In this paper, we conduct a study to utilize L...   \n",
       "6  Retrieval-augmented generation (RAG) technique...   \n",
       "7  Retrieval-augmented generation supports langua...   \n",
       "8  Standard Full-Data classifiers in NLP demand t...   \n",
       "9  There is a compelling necessity from enterpris...   \n",
       "\n",
       "                                               title release_date   id  \n",
       "0  Generative AI for Low-Carbon Artificial Intell...   2024-04-28   32  \n",
       "1  Ad Auctions for LLMs via Retrieval Augmented G...   2024-06-12  222  \n",
       "2  Automated Conversion of Static to Dynamic Sche...   2024-05-08  356  \n",
       "3  Symbolic Prompt Program Search: A Structure-Aw...   2024-04-02  126  \n",
       "4  Graph database while computationally efficient...   2024-01-15  557  \n",
       "5  PlanRAG: A Plan-then-Retrieval Augmented Gener...   2024-06-18  193  \n",
       "6  Enhancing Retrieval and Managing Retrieval: A ...   2024-07-15   43  \n",
       "7  CompAct: Compressing Retrieved Documents Activ...   2024-07-12   45  \n",
       "8  Making LLMs Worth Every Penny: Resource-Limite...   2023-11-10  593  \n",
       "9  Fine Tuning LLM for Enterprise: Practical Guid...   2024-03-23  454  "
      ]
     },
     "execution_count": 28,
     "metadata": {},
     "output_type": "execute_result"
    }
   ],
   "source": [
    "regular_result = app.query(\n",
    "    simple_query,\n",
    "    query_text=\"cost reduction\",\n",
    "    abstract_weight=1,\n",
    "    title_weight=1,\n",
    "    recency_weight=0,\n",
    ")\n",
    "\n",
    "present_result(regular_result)"
   ]
  },
  {
   "cell_type": "code",
   "execution_count": null,
   "metadata": {
    "colab": {
     "base_uri": "https://localhost:8080/",
     "height": 427,
     "referenced_widgets": [
      "3e9a018ecb584dfabfdbdcd936344155",
      "542d78922c4c4c20a4994b23a71974a5",
      "9a9f8cf053954d63a6a8234d7d993d33",
      "3a2a06e523b84b24a9c207b7ea365b04",
      "b364b201e4024bb09ee696902a6ea67c",
      "88296497bde24bafbac44bf9190ecc46",
      "87a3c3a5d41d4d94972336f2540dcda3",
      "9a2a0f24fef24a25a5f9ea7dcc1ac02a",
      "9cabd2c6626e4f609df53f25527e0529",
      "99a8bdb190144c0084831d53ef4adff1",
      "b896afc7397f4b5ea645ff1b29ec9c85",
      "4ee51cba9b044095a206eade18d17a6b",
      "f0d09ddd50d0424a9cf3f7a6dbd1a59b",
      "f89786cf6f5d42f99935a40b1d28477a",
      "8d697b54828d4d27b54078d6eef35dee",
      "638e61bebe0e4edbb8efcf4c74522c6a",
      "1164cd5bc44d4002b27667b47ef6685d",
      "63798820649a4b2c9bc75a1850b43582",
      "a99b8dd7878f400791f807e1356c71b7",
      "b55434388b6d4eeb83b015bff2239131",
      "55d3c0ef1aa849bf97c0e2d53714301a",
      "96ff31174e894699ab8f58ac41eedcfa"
     ]
    },
    "id": "s9jD1RdGZCeL",
    "outputId": "422b964b-294d-47ac-98a7-d4e0e752b2c4"
   },
   "outputs": [
    {
     "data": {
      "application/vnd.jupyter.widget-view+json": {
       "model_id": "d75bcb7cbe264e28a1ab15a6a91e6780",
       "version_major": 2,
       "version_minor": 0
      },
      "text/plain": [
       "Batches:   0%|          | 0/1 [00:00<?, ?it/s]"
      ]
     },
     "metadata": {},
     "output_type": "display_data"
    },
    {
     "data": {
      "application/vnd.jupyter.widget-view+json": {
       "model_id": "aeeddee07ba948f485ee5f6fc0e8c914",
       "version_major": 2,
       "version_minor": 0
      },
      "text/plain": [
       "Batches:   0%|          | 0/1 [00:00<?, ?it/s]"
      ]
     },
     "metadata": {},
     "output_type": "display_data"
    },
    {
     "data": {
      "text/html": [
       "<div>\n",
       "<style scoped>\n",
       "    .dataframe tbody tr th:only-of-type {\n",
       "        vertical-align: middle;\n",
       "    }\n",
       "\n",
       "    .dataframe tbody tr th {\n",
       "        vertical-align: top;\n",
       "    }\n",
       "\n",
       "    .dataframe thead th {\n",
       "        text-align: right;\n",
       "    }\n",
       "</style>\n",
       "<table border=\"1\" class=\"dataframe\">\n",
       "  <thead>\n",
       "    <tr style=\"text-align: right;\">\n",
       "      <th></th>\n",
       "      <th>abstract</th>\n",
       "      <th>title</th>\n",
       "      <th>release_date</th>\n",
       "      <th>id</th>\n",
       "    </tr>\n",
       "  </thead>\n",
       "  <tbody>\n",
       "    <tr>\n",
       "      <th>0</th>\n",
       "      <td>By integrating Artificial Intelligence (AI) wi...</td>\n",
       "      <td>Generative AI for Low-Carbon Artificial Intell...</td>\n",
       "      <td>2024-04-28</td>\n",
       "      <td>69</td>\n",
       "    </tr>\n",
       "    <tr>\n",
       "      <th>1</th>\n",
       "      <td>In this paper, we explore the potential applic...</td>\n",
       "      <td>Automated Conversion of Static to Dynamic Sche...</td>\n",
       "      <td>2024-05-08</td>\n",
       "      <td>44</td>\n",
       "    </tr>\n",
       "    <tr>\n",
       "      <th>2</th>\n",
       "      <td>As Large Language Models (LLMs) and Retrieval ...</td>\n",
       "      <td>RaFe: Ranking Feedback Improves Query Rewritin...</td>\n",
       "      <td>2024-05-23</td>\n",
       "      <td>2</td>\n",
       "    </tr>\n",
       "    <tr>\n",
       "      <th>3</th>\n",
       "      <td>Purpose: The purpose of this study is to inves...</td>\n",
       "      <td>Exploring the Potential of Large Language Mode...</td>\n",
       "      <td>2024-05-15</td>\n",
       "      <td>24</td>\n",
       "    </tr>\n",
       "    <tr>\n",
       "      <th>4</th>\n",
       "      <td>In customer service technical support, swiftly...</td>\n",
       "      <td>Retrieval-Augmented Generation with Knowledge ...</td>\n",
       "      <td>2024-04-26</td>\n",
       "      <td>50</td>\n",
       "    </tr>\n",
       "    <tr>\n",
       "      <th>5</th>\n",
       "      <td>Accurate evaluation of financial question answ...</td>\n",
       "      <td>FinTextQA: A Dataset for Long-form Financial Q...</td>\n",
       "      <td>2024-05-16</td>\n",
       "      <td>22</td>\n",
       "    </tr>\n",
       "    <tr>\n",
       "      <th>6</th>\n",
       "      <td>This paper introduces xRAG, an innovative cont...</td>\n",
       "      <td>xRAG: Extreme Context Compression for Retrieva...</td>\n",
       "      <td>2024-05-22</td>\n",
       "      <td>4</td>\n",
       "    </tr>\n",
       "    <tr>\n",
       "      <th>7</th>\n",
       "      <td>Large Language Models (LLMs) have made signifi...</td>\n",
       "      <td>Compressing Long Context for Enhancing RAG wit...</td>\n",
       "      <td>2024-05-06</td>\n",
       "      <td>53</td>\n",
       "    </tr>\n",
       "    <tr>\n",
       "      <th>8</th>\n",
       "      <td>Enterprise retrieval augmented generation (RAG...</td>\n",
       "      <td>Question-Based Retrieval using Atomic Units fo...</td>\n",
       "      <td>2024-05-20</td>\n",
       "      <td>12</td>\n",
       "    </tr>\n",
       "    <tr>\n",
       "      <th>9</th>\n",
       "      <td>This paper introduces the RAG-RLRC-LaySum fram...</td>\n",
       "      <td>RAG-RLRC-LaySum at BioLaySumm: Integrating Ret...</td>\n",
       "      <td>2024-05-21</td>\n",
       "      <td>8</td>\n",
       "    </tr>\n",
       "  </tbody>\n",
       "</table>\n",
       "</div>"
      ],
      "text/plain": [
       "                                            abstract  \\\n",
       "0  By integrating Artificial Intelligence (AI) wi...   \n",
       "1  In this paper, we explore the potential applic...   \n",
       "2  As Large Language Models (LLMs) and Retrieval ...   \n",
       "3  Purpose: The purpose of this study is to inves...   \n",
       "4  In customer service technical support, swiftly...   \n",
       "5  Accurate evaluation of financial question answ...   \n",
       "6  This paper introduces xRAG, an innovative cont...   \n",
       "7  Large Language Models (LLMs) have made signifi...   \n",
       "8  Enterprise retrieval augmented generation (RAG...   \n",
       "9  This paper introduces the RAG-RLRC-LaySum fram...   \n",
       "\n",
       "                                               title release_date  id  \n",
       "0  Generative AI for Low-Carbon Artificial Intell...   2024-04-28  69  \n",
       "1  Automated Conversion of Static to Dynamic Sche...   2024-05-08  44  \n",
       "2  RaFe: Ranking Feedback Improves Query Rewritin...   2024-05-23   2  \n",
       "3  Exploring the Potential of Large Language Mode...   2024-05-15  24  \n",
       "4  Retrieval-Augmented Generation with Knowledge ...   2024-04-26  50  \n",
       "5  FinTextQA: A Dataset for Long-form Financial Q...   2024-05-16  22  \n",
       "6  xRAG: Extreme Context Compression for Retrieva...   2024-05-22   4  \n",
       "7  Compressing Long Context for Enhancing RAG wit...   2024-05-06  53  \n",
       "8  Question-Based Retrieval using Atomic Units fo...   2024-05-20  12  \n",
       "9  RAG-RLRC-LaySum at BioLaySumm: Integrating Ret...   2024-05-21   8  "
      ]
     },
     "execution_count": 22,
     "metadata": {},
     "output_type": "execute_result"
    }
   ],
   "source": [
    "recency_weighted_result = app.query(\n",
    "    simple_query,\n",
    "    query_text=\"cost reduction\",\n",
    "    abstract_weight=1,\n",
    "    title_weight=1,\n",
    "    recency_weight=5,\n",
    ")\n",
    "\n",
    "present_result(recency_weighted_result)"
   ]
  },
  {
   "cell_type": "code",
   "execution_count": 29,
   "metadata": {
    "id": "oxkj-u8NW8O8"
   },
   "outputs": [],
   "source": [
    "# A quick helper to visualize the effect of recency weighting\n",
    "def get_time_differences(\n",
    "    result: Result,\n",
    "    alternative_result: Result,\n",
    "    cols_to_keep: list[str] = [\"abstract\", \"title\", \"release_date\", \"id\"],\n",
    ") -> pd.DataFrame:\n",
    "    # Getting the timestamps of both results\n",
    "    result_ts = [entry.stored_object[\"published_timestamp\"] for entry in result.entries]\n",
    "    alternative_result_ts = [\n",
    "        entry.stored_object[\"published_timestamp\"]\n",
    "        for entry in alternative_result.entries\n",
    "    ]\n",
    "    # Calculating the absolute time difference in seconds\n",
    "    time_diff = list(np.absolute(np.array(result_ts) - np.array(alternative_result_ts)))\n",
    "    # Rounded time difference in days\n",
    "    time_diff_days = [round(t_d / 3600 / 24, 1) for t_d in time_diff]\n",
    "    return time_diff_days"
   ]
  },
  {
   "cell_type": "code",
   "execution_count": 30,
   "metadata": {
    "colab": {
     "base_uri": "https://localhost:8080/"
    },
    "id": "3kv1Ksv4W8Hs",
    "outputId": "ade4935c-4c52-4d5b-c16b-b5371d063264"
   },
   "outputs": [
    {
     "ename": "NameError",
     "evalue": "name 'recency_weighted_result' is not defined",
     "output_type": "error",
     "traceback": [
      "\u001b[1;31m---------------------------------------------------------------------------\u001b[0m",
      "\u001b[1;31mNameError\u001b[0m                                 Traceback (most recent call last)",
      "Cell \u001b[1;32mIn[30], line 1\u001b[0m\n\u001b[1;32m----> 1\u001b[0m get_time_differences(regular_result, \u001b[43mrecency_weighted_result\u001b[49m)\n",
      "\u001b[1;31mNameError\u001b[0m: name 'recency_weighted_result' is not defined"
     ]
    }
   ],
   "source": [
    "get_time_differences(regular_result, recency_weighted_result)"
   ]
  },
  {
   "cell_type": "markdown",
   "metadata": {
    "id": "bkVQ0sm5aRxM"
   },
   "source": [
    "You will see that a lot of the positions haven’t changed, but some have!\n",
    "\n",
    "Obviously, this was a pretty basic example. But I hope I was able to make clear why recency can be an important factor. We could’ve also filtered our timestamp data - metadata filtering is a common practice in Advanced RAG systems after all. However, the recency embeddings we used here are generally more nuanced, similar to how text embeddings are more nuanced than regex.\n",
    "\n",
    "Which one will work better for you will depend on your specific use case. It’s important to remember that there are no silver bullets!"
   ]
  }
 ],
 "metadata": {
  "accelerator": "GPU",
  "colab": {
   "gpuType": "T4",
   "provenance": []
  },
  "kernelspec": {
   "display_name": "Python 3",
   "language": "python",
   "name": "python3"
  },
  "language_info": {
   "codemirror_mode": {
    "name": "ipython",
    "version": 3
   },
   "file_extension": ".py",
   "mimetype": "text/x-python",
   "name": "python",
   "nbconvert_exporter": "python",
   "pygments_lexer": "ipython3",
   "version": "3.11.0"
  },
  "widgets": {
   "application/vnd.jupyter.widget-state+json": {
    "007b995972204638844ad5a850fba445": {
     "model_module": "@jupyter-widgets/base",
     "model_module_version": "1.2.0",
     "model_name": "LayoutModel",
     "state": {
      "_model_module": "@jupyter-widgets/base",
      "_model_module_version": "1.2.0",
      "_model_name": "LayoutModel",
      "_view_count": null,
      "_view_module": "@jupyter-widgets/base",
      "_view_module_version": "1.2.0",
      "_view_name": "LayoutView",
      "align_content": null,
      "align_items": null,
      "align_self": null,
      "border": null,
      "bottom": null,
      "display": null,
      "flex": null,
      "flex_flow": null,
      "grid_area": null,
      "grid_auto_columns": null,
      "grid_auto_flow": null,
      "grid_auto_rows": null,
      "grid_column": null,
      "grid_gap": null,
      "grid_row": null,
      "grid_template_areas": null,
      "grid_template_columns": null,
      "grid_template_rows": null,
      "height": null,
      "justify_content": null,
      "justify_items": null,
      "left": null,
      "margin": null,
      "max_height": null,
      "max_width": null,
      "min_height": null,
      "min_width": null,
      "object_fit": null,
      "object_position": null,
      "order": null,
      "overflow": null,
      "overflow_x": null,
      "overflow_y": null,
      "padding": null,
      "right": null,
      "top": null,
      "visibility": null,
      "width": null
     }
    },
    "090cd0276235435f8e973df15afadc62": {
     "model_module": "@jupyter-widgets/base",
     "model_module_version": "1.2.0",
     "model_name": "LayoutModel",
     "state": {
      "_model_module": "@jupyter-widgets/base",
      "_model_module_version": "1.2.0",
      "_model_name": "LayoutModel",
      "_view_count": null,
      "_view_module": "@jupyter-widgets/base",
      "_view_module_version": "1.2.0",
      "_view_name": "LayoutView",
      "align_content": null,
      "align_items": null,
      "align_self": null,
      "border": null,
      "bottom": null,
      "display": null,
      "flex": null,
      "flex_flow": null,
      "grid_area": null,
      "grid_auto_columns": null,
      "grid_auto_flow": null,
      "grid_auto_rows": null,
      "grid_column": null,
      "grid_gap": null,
      "grid_row": null,
      "grid_template_areas": null,
      "grid_template_columns": null,
      "grid_template_rows": null,
      "height": null,
      "justify_content": null,
      "justify_items": null,
      "left": null,
      "margin": null,
      "max_height": null,
      "max_width": null,
      "min_height": null,
      "min_width": null,
      "object_fit": null,
      "object_position": null,
      "order": null,
      "overflow": null,
      "overflow_x": null,
      "overflow_y": null,
      "padding": null,
      "right": null,
      "top": null,
      "visibility": null,
      "width": null
     }
    },
    "0a660dc927a2405f9657455cd03a50bb": {
     "model_module": "@jupyter-widgets/controls",
     "model_module_version": "1.5.0",
     "model_name": "ProgressStyleModel",
     "state": {
      "_model_module": "@jupyter-widgets/controls",
      "_model_module_version": "1.5.0",
      "_model_name": "ProgressStyleModel",
      "_view_count": null,
      "_view_module": "@jupyter-widgets/base",
      "_view_module_version": "1.2.0",
      "_view_name": "StyleView",
      "bar_color": null,
      "description_width": ""
     }
    },
    "1164cd5bc44d4002b27667b47ef6685d": {
     "model_module": "@jupyter-widgets/base",
     "model_module_version": "1.2.0",
     "model_name": "LayoutModel",
     "state": {
      "_model_module": "@jupyter-widgets/base",
      "_model_module_version": "1.2.0",
      "_model_name": "LayoutModel",
      "_view_count": null,
      "_view_module": "@jupyter-widgets/base",
      "_view_module_version": "1.2.0",
      "_view_name": "LayoutView",
      "align_content": null,
      "align_items": null,
      "align_self": null,
      "border": null,
      "bottom": null,
      "display": null,
      "flex": null,
      "flex_flow": null,
      "grid_area": null,
      "grid_auto_columns": null,
      "grid_auto_flow": null,
      "grid_auto_rows": null,
      "grid_column": null,
      "grid_gap": null,
      "grid_row": null,
      "grid_template_areas": null,
      "grid_template_columns": null,
      "grid_template_rows": null,
      "height": null,
      "justify_content": null,
      "justify_items": null,
      "left": null,
      "margin": null,
      "max_height": null,
      "max_width": null,
      "min_height": null,
      "min_width": null,
      "object_fit": null,
      "object_position": null,
      "order": null,
      "overflow": null,
      "overflow_x": null,
      "overflow_y": null,
      "padding": null,
      "right": null,
      "top": null,
      "visibility": null,
      "width": null
     }
    },
    "123855bdc58e4dd4834b1d5a6473e119": {
     "model_module": "@jupyter-widgets/base",
     "model_module_version": "1.2.0",
     "model_name": "LayoutModel",
     "state": {
      "_model_module": "@jupyter-widgets/base",
      "_model_module_version": "1.2.0",
      "_model_name": "LayoutModel",
      "_view_count": null,
      "_view_module": "@jupyter-widgets/base",
      "_view_module_version": "1.2.0",
      "_view_name": "LayoutView",
      "align_content": null,
      "align_items": null,
      "align_self": null,
      "border": null,
      "bottom": null,
      "display": null,
      "flex": null,
      "flex_flow": null,
      "grid_area": null,
      "grid_auto_columns": null,
      "grid_auto_flow": null,
      "grid_auto_rows": null,
      "grid_column": null,
      "grid_gap": null,
      "grid_row": null,
      "grid_template_areas": null,
      "grid_template_columns": null,
      "grid_template_rows": null,
      "height": null,
      "justify_content": null,
      "justify_items": null,
      "left": null,
      "margin": null,
      "max_height": null,
      "max_width": null,
      "min_height": null,
      "min_width": null,
      "object_fit": null,
      "object_position": null,
      "order": null,
      "overflow": null,
      "overflow_x": null,
      "overflow_y": null,
      "padding": null,
      "right": null,
      "top": null,
      "visibility": null,
      "width": null
     }
    },
    "1a6f67da27c84051a4898de0c78f606c": {
     "model_module": "@jupyter-widgets/controls",
     "model_module_version": "1.5.0",
     "model_name": "HTMLModel",
     "state": {
      "_dom_classes": [],
      "_model_module": "@jupyter-widgets/controls",
      "_model_module_version": "1.5.0",
      "_model_name": "HTMLModel",
      "_view_count": null,
      "_view_module": "@jupyter-widgets/controls",
      "_view_module_version": "1.5.0",
      "_view_name": "HTMLView",
      "description": "",
      "description_tooltip": null,
      "layout": "IPY_MODEL_d301653ae4284759b418fb53a241bfcd",
      "placeholder": "​",
      "style": "IPY_MODEL_e9346407c3694cecb2a9529706ef9f2c",
      "value": " 1/1 [00:00&lt;00:00, 27.02it/s]"
     }
    },
    "2310566a0db54b1eaae86f14b860f756": {
     "model_module": "@jupyter-widgets/base",
     "model_module_version": "1.2.0",
     "model_name": "LayoutModel",
     "state": {
      "_model_module": "@jupyter-widgets/base",
      "_model_module_version": "1.2.0",
      "_model_name": "LayoutModel",
      "_view_count": null,
      "_view_module": "@jupyter-widgets/base",
      "_view_module_version": "1.2.0",
      "_view_name": "LayoutView",
      "align_content": null,
      "align_items": null,
      "align_self": null,
      "border": null,
      "bottom": null,
      "display": null,
      "flex": null,
      "flex_flow": null,
      "grid_area": null,
      "grid_auto_columns": null,
      "grid_auto_flow": null,
      "grid_auto_rows": null,
      "grid_column": null,
      "grid_gap": null,
      "grid_row": null,
      "grid_template_areas": null,
      "grid_template_columns": null,
      "grid_template_rows": null,
      "height": null,
      "justify_content": null,
      "justify_items": null,
      "left": null,
      "margin": null,
      "max_height": null,
      "max_width": null,
      "min_height": null,
      "min_width": null,
      "object_fit": null,
      "object_position": null,
      "order": null,
      "overflow": null,
      "overflow_x": null,
      "overflow_y": null,
      "padding": null,
      "right": null,
      "top": null,
      "visibility": null,
      "width": null
     }
    },
    "246a7bd5f2934f9dbabcbc95b988f50f": {
     "model_module": "@jupyter-widgets/base",
     "model_module_version": "1.2.0",
     "model_name": "LayoutModel",
     "state": {
      "_model_module": "@jupyter-widgets/base",
      "_model_module_version": "1.2.0",
      "_model_name": "LayoutModel",
      "_view_count": null,
      "_view_module": "@jupyter-widgets/base",
      "_view_module_version": "1.2.0",
      "_view_name": "LayoutView",
      "align_content": null,
      "align_items": null,
      "align_self": null,
      "border": null,
      "bottom": null,
      "display": null,
      "flex": null,
      "flex_flow": null,
      "grid_area": null,
      "grid_auto_columns": null,
      "grid_auto_flow": null,
      "grid_auto_rows": null,
      "grid_column": null,
      "grid_gap": null,
      "grid_row": null,
      "grid_template_areas": null,
      "grid_template_columns": null,
      "grid_template_rows": null,
      "height": null,
      "justify_content": null,
      "justify_items": null,
      "left": null,
      "margin": null,
      "max_height": null,
      "max_width": null,
      "min_height": null,
      "min_width": null,
      "object_fit": null,
      "object_position": null,
      "order": null,
      "overflow": null,
      "overflow_x": null,
      "overflow_y": null,
      "padding": null,
      "right": null,
      "top": null,
      "visibility": null,
      "width": null
     }
    },
    "37d771c6764b49bc938887ce44518eb2": {
     "model_module": "@jupyter-widgets/controls",
     "model_module_version": "1.5.0",
     "model_name": "DescriptionStyleModel",
     "state": {
      "_model_module": "@jupyter-widgets/controls",
      "_model_module_version": "1.5.0",
      "_model_name": "DescriptionStyleModel",
      "_view_count": null,
      "_view_module": "@jupyter-widgets/base",
      "_view_module_version": "1.2.0",
      "_view_name": "StyleView",
      "description_width": ""
     }
    },
    "3a2a06e523b84b24a9c207b7ea365b04": {
     "model_module": "@jupyter-widgets/controls",
     "model_module_version": "1.5.0",
     "model_name": "HTMLModel",
     "state": {
      "_dom_classes": [],
      "_model_module": "@jupyter-widgets/controls",
      "_model_module_version": "1.5.0",
      "_model_name": "HTMLModel",
      "_view_count": null,
      "_view_module": "@jupyter-widgets/controls",
      "_view_module_version": "1.5.0",
      "_view_name": "HTMLView",
      "description": "",
      "description_tooltip": null,
      "layout": "IPY_MODEL_99a8bdb190144c0084831d53ef4adff1",
      "placeholder": "​",
      "style": "IPY_MODEL_b896afc7397f4b5ea645ff1b29ec9c85",
      "value": " 1/1 [00:00&lt;00:00, 22.44it/s]"
     }
    },
    "3c6cc08a94a94eceb1cee42f05f3e607": {
     "model_module": "@jupyter-widgets/controls",
     "model_module_version": "1.5.0",
     "model_name": "DescriptionStyleModel",
     "state": {
      "_model_module": "@jupyter-widgets/controls",
      "_model_module_version": "1.5.0",
      "_model_name": "DescriptionStyleModel",
      "_view_count": null,
      "_view_module": "@jupyter-widgets/base",
      "_view_module_version": "1.2.0",
      "_view_name": "StyleView",
      "description_width": ""
     }
    },
    "3cfbfd4b9166488ca456c91de242c595": {
     "model_module": "@jupyter-widgets/controls",
     "model_module_version": "1.5.0",
     "model_name": "DescriptionStyleModel",
     "state": {
      "_model_module": "@jupyter-widgets/controls",
      "_model_module_version": "1.5.0",
      "_model_name": "DescriptionStyleModel",
      "_view_count": null,
      "_view_module": "@jupyter-widgets/base",
      "_view_module_version": "1.2.0",
      "_view_name": "StyleView",
      "description_width": ""
     }
    },
    "3e9a018ecb584dfabfdbdcd936344155": {
     "model_module": "@jupyter-widgets/controls",
     "model_module_version": "1.5.0",
     "model_name": "HBoxModel",
     "state": {
      "_dom_classes": [],
      "_model_module": "@jupyter-widgets/controls",
      "_model_module_version": "1.5.0",
      "_model_name": "HBoxModel",
      "_view_count": null,
      "_view_module": "@jupyter-widgets/controls",
      "_view_module_version": "1.5.0",
      "_view_name": "HBoxView",
      "box_style": "",
      "children": [
       "IPY_MODEL_542d78922c4c4c20a4994b23a71974a5",
       "IPY_MODEL_9a9f8cf053954d63a6a8234d7d993d33",
       "IPY_MODEL_3a2a06e523b84b24a9c207b7ea365b04"
      ],
      "layout": "IPY_MODEL_b364b201e4024bb09ee696902a6ea67c"
     }
    },
    "3fb4de390e7f4d08b88ae34e0c41efe3": {
     "model_module": "@jupyter-widgets/base",
     "model_module_version": "1.2.0",
     "model_name": "LayoutModel",
     "state": {
      "_model_module": "@jupyter-widgets/base",
      "_model_module_version": "1.2.0",
      "_model_name": "LayoutModel",
      "_view_count": null,
      "_view_module": "@jupyter-widgets/base",
      "_view_module_version": "1.2.0",
      "_view_name": "LayoutView",
      "align_content": null,
      "align_items": null,
      "align_self": null,
      "border": null,
      "bottom": null,
      "display": null,
      "flex": null,
      "flex_flow": null,
      "grid_area": null,
      "grid_auto_columns": null,
      "grid_auto_flow": null,
      "grid_auto_rows": null,
      "grid_column": null,
      "grid_gap": null,
      "grid_row": null,
      "grid_template_areas": null,
      "grid_template_columns": null,
      "grid_template_rows": null,
      "height": null,
      "justify_content": null,
      "justify_items": null,
      "left": null,
      "margin": null,
      "max_height": null,
      "max_width": null,
      "min_height": null,
      "min_width": null,
      "object_fit": null,
      "object_position": null,
      "order": null,
      "overflow": null,
      "overflow_x": null,
      "overflow_y": null,
      "padding": null,
      "right": null,
      "top": null,
      "visibility": null,
      "width": null
     }
    },
    "451fb5f128a64e7f973a470148a038c0": {
     "model_module": "@jupyter-widgets/controls",
     "model_module_version": "1.5.0",
     "model_name": "ProgressStyleModel",
     "state": {
      "_model_module": "@jupyter-widgets/controls",
      "_model_module_version": "1.5.0",
      "_model_name": "ProgressStyleModel",
      "_view_count": null,
      "_view_module": "@jupyter-widgets/base",
      "_view_module_version": "1.2.0",
      "_view_name": "StyleView",
      "bar_color": null,
      "description_width": ""
     }
    },
    "4a3b64bdb77345dcbc707004fdfb8990": {
     "model_module": "@jupyter-widgets/base",
     "model_module_version": "1.2.0",
     "model_name": "LayoutModel",
     "state": {
      "_model_module": "@jupyter-widgets/base",
      "_model_module_version": "1.2.0",
      "_model_name": "LayoutModel",
      "_view_count": null,
      "_view_module": "@jupyter-widgets/base",
      "_view_module_version": "1.2.0",
      "_view_name": "LayoutView",
      "align_content": null,
      "align_items": null,
      "align_self": null,
      "border": null,
      "bottom": null,
      "display": null,
      "flex": null,
      "flex_flow": null,
      "grid_area": null,
      "grid_auto_columns": null,
      "grid_auto_flow": null,
      "grid_auto_rows": null,
      "grid_column": null,
      "grid_gap": null,
      "grid_row": null,
      "grid_template_areas": null,
      "grid_template_columns": null,
      "grid_template_rows": null,
      "height": null,
      "justify_content": null,
      "justify_items": null,
      "left": null,
      "margin": null,
      "max_height": null,
      "max_width": null,
      "min_height": null,
      "min_width": null,
      "object_fit": null,
      "object_position": null,
      "order": null,
      "overflow": null,
      "overflow_x": null,
      "overflow_y": null,
      "padding": null,
      "right": null,
      "top": null,
      "visibility": null,
      "width": null
     }
    },
    "4ee51cba9b044095a206eade18d17a6b": {
     "model_module": "@jupyter-widgets/controls",
     "model_module_version": "1.5.0",
     "model_name": "HBoxModel",
     "state": {
      "_dom_classes": [],
      "_model_module": "@jupyter-widgets/controls",
      "_model_module_version": "1.5.0",
      "_model_name": "HBoxModel",
      "_view_count": null,
      "_view_module": "@jupyter-widgets/controls",
      "_view_module_version": "1.5.0",
      "_view_name": "HBoxView",
      "box_style": "",
      "children": [
       "IPY_MODEL_f0d09ddd50d0424a9cf3f7a6dbd1a59b",
       "IPY_MODEL_f89786cf6f5d42f99935a40b1d28477a",
       "IPY_MODEL_8d697b54828d4d27b54078d6eef35dee"
      ],
      "layout": "IPY_MODEL_638e61bebe0e4edbb8efcf4c74522c6a"
     }
    },
    "51b48442835548f7bc6b1b68e9781334": {
     "model_module": "@jupyter-widgets/base",
     "model_module_version": "1.2.0",
     "model_name": "LayoutModel",
     "state": {
      "_model_module": "@jupyter-widgets/base",
      "_model_module_version": "1.2.0",
      "_model_name": "LayoutModel",
      "_view_count": null,
      "_view_module": "@jupyter-widgets/base",
      "_view_module_version": "1.2.0",
      "_view_name": "LayoutView",
      "align_content": null,
      "align_items": null,
      "align_self": null,
      "border": null,
      "bottom": null,
      "display": null,
      "flex": null,
      "flex_flow": null,
      "grid_area": null,
      "grid_auto_columns": null,
      "grid_auto_flow": null,
      "grid_auto_rows": null,
      "grid_column": null,
      "grid_gap": null,
      "grid_row": null,
      "grid_template_areas": null,
      "grid_template_columns": null,
      "grid_template_rows": null,
      "height": null,
      "justify_content": null,
      "justify_items": null,
      "left": null,
      "margin": null,
      "max_height": null,
      "max_width": null,
      "min_height": null,
      "min_width": null,
      "object_fit": null,
      "object_position": null,
      "order": null,
      "overflow": null,
      "overflow_x": null,
      "overflow_y": null,
      "padding": null,
      "right": null,
      "top": null,
      "visibility": null,
      "width": null
     }
    },
    "542d78922c4c4c20a4994b23a71974a5": {
     "model_module": "@jupyter-widgets/controls",
     "model_module_version": "1.5.0",
     "model_name": "HTMLModel",
     "state": {
      "_dom_classes": [],
      "_model_module": "@jupyter-widgets/controls",
      "_model_module_version": "1.5.0",
      "_model_name": "HTMLModel",
      "_view_count": null,
      "_view_module": "@jupyter-widgets/controls",
      "_view_module_version": "1.5.0",
      "_view_name": "HTMLView",
      "description": "",
      "description_tooltip": null,
      "layout": "IPY_MODEL_88296497bde24bafbac44bf9190ecc46",
      "placeholder": "​",
      "style": "IPY_MODEL_87a3c3a5d41d4d94972336f2540dcda3",
      "value": "Batches: 100%"
     }
    },
    "55d3c0ef1aa849bf97c0e2d53714301a": {
     "model_module": "@jupyter-widgets/base",
     "model_module_version": "1.2.0",
     "model_name": "LayoutModel",
     "state": {
      "_model_module": "@jupyter-widgets/base",
      "_model_module_version": "1.2.0",
      "_model_name": "LayoutModel",
      "_view_count": null,
      "_view_module": "@jupyter-widgets/base",
      "_view_module_version": "1.2.0",
      "_view_name": "LayoutView",
      "align_content": null,
      "align_items": null,
      "align_self": null,
      "border": null,
      "bottom": null,
      "display": null,
      "flex": null,
      "flex_flow": null,
      "grid_area": null,
      "grid_auto_columns": null,
      "grid_auto_flow": null,
      "grid_auto_rows": null,
      "grid_column": null,
      "grid_gap": null,
      "grid_row": null,
      "grid_template_areas": null,
      "grid_template_columns": null,
      "grid_template_rows": null,
      "height": null,
      "justify_content": null,
      "justify_items": null,
      "left": null,
      "margin": null,
      "max_height": null,
      "max_width": null,
      "min_height": null,
      "min_width": null,
      "object_fit": null,
      "object_position": null,
      "order": null,
      "overflow": null,
      "overflow_x": null,
      "overflow_y": null,
      "padding": null,
      "right": null,
      "top": null,
      "visibility": null,
      "width": null
     }
    },
    "5661fc3716434478934868316140f7de": {
     "model_module": "@jupyter-widgets/controls",
     "model_module_version": "1.5.0",
     "model_name": "HTMLModel",
     "state": {
      "_dom_classes": [],
      "_model_module": "@jupyter-widgets/controls",
      "_model_module_version": "1.5.0",
      "_model_name": "HTMLModel",
      "_view_count": null,
      "_view_module": "@jupyter-widgets/controls",
      "_view_module_version": "1.5.0",
      "_view_name": "HTMLView",
      "description": "",
      "description_tooltip": null,
      "layout": "IPY_MODEL_123855bdc58e4dd4834b1d5a6473e119",
      "placeholder": "​",
      "style": "IPY_MODEL_37d771c6764b49bc938887ce44518eb2",
      "value": " 12/12 [00:06&lt;00:00,  1.97it/s]"
     }
    },
    "5a6457a530f44eccab8aca08088e1d5d": {
     "model_module": "@jupyter-widgets/base",
     "model_module_version": "1.2.0",
     "model_name": "LayoutModel",
     "state": {
      "_model_module": "@jupyter-widgets/base",
      "_model_module_version": "1.2.0",
      "_model_name": "LayoutModel",
      "_view_count": null,
      "_view_module": "@jupyter-widgets/base",
      "_view_module_version": "1.2.0",
      "_view_name": "LayoutView",
      "align_content": null,
      "align_items": null,
      "align_self": null,
      "border": null,
      "bottom": null,
      "display": null,
      "flex": null,
      "flex_flow": null,
      "grid_area": null,
      "grid_auto_columns": null,
      "grid_auto_flow": null,
      "grid_auto_rows": null,
      "grid_column": null,
      "grid_gap": null,
      "grid_row": null,
      "grid_template_areas": null,
      "grid_template_columns": null,
      "grid_template_rows": null,
      "height": null,
      "justify_content": null,
      "justify_items": null,
      "left": null,
      "margin": null,
      "max_height": null,
      "max_width": null,
      "min_height": null,
      "min_width": null,
      "object_fit": null,
      "object_position": null,
      "order": null,
      "overflow": null,
      "overflow_x": null,
      "overflow_y": null,
      "padding": null,
      "right": null,
      "top": null,
      "visibility": null,
      "width": null
     }
    },
    "5c0858df785c4e32ad3cfd5993c094fb": {
     "model_module": "@jupyter-widgets/controls",
     "model_module_version": "1.5.0",
     "model_name": "ProgressStyleModel",
     "state": {
      "_model_module": "@jupyter-widgets/controls",
      "_model_module_version": "1.5.0",
      "_model_name": "ProgressStyleModel",
      "_view_count": null,
      "_view_module": "@jupyter-widgets/base",
      "_view_module_version": "1.2.0",
      "_view_name": "StyleView",
      "bar_color": null,
      "description_width": ""
     }
    },
    "5ef62bb0c10247a2b5d6aaef9933acf0": {
     "model_module": "@jupyter-widgets/controls",
     "model_module_version": "1.5.0",
     "model_name": "HTMLModel",
     "state": {
      "_dom_classes": [],
      "_model_module": "@jupyter-widgets/controls",
      "_model_module_version": "1.5.0",
      "_model_name": "HTMLModel",
      "_view_count": null,
      "_view_module": "@jupyter-widgets/controls",
      "_view_module_version": "1.5.0",
      "_view_name": "HTMLView",
      "description": "",
      "description_tooltip": null,
      "layout": "IPY_MODEL_5a6457a530f44eccab8aca08088e1d5d",
      "placeholder": "​",
      "style": "IPY_MODEL_3cfbfd4b9166488ca456c91de242c595",
      "value": "Batches: 100%"
     }
    },
    "6366608dcfb84ebcb44d7aed3ce47d56": {
     "model_module": "@jupyter-widgets/controls",
     "model_module_version": "1.5.0",
     "model_name": "FloatProgressModel",
     "state": {
      "_dom_classes": [],
      "_model_module": "@jupyter-widgets/controls",
      "_model_module_version": "1.5.0",
      "_model_name": "FloatProgressModel",
      "_view_count": null,
      "_view_module": "@jupyter-widgets/controls",
      "_view_module_version": "1.5.0",
      "_view_name": "ProgressView",
      "bar_style": "success",
      "description": "",
      "description_tooltip": null,
      "layout": "IPY_MODEL_4a3b64bdb77345dcbc707004fdfb8990",
      "max": 12,
      "min": 0,
      "orientation": "horizontal",
      "style": "IPY_MODEL_0a660dc927a2405f9657455cd03a50bb",
      "value": 12
     }
    },
    "63798820649a4b2c9bc75a1850b43582": {
     "model_module": "@jupyter-widgets/controls",
     "model_module_version": "1.5.0",
     "model_name": "DescriptionStyleModel",
     "state": {
      "_model_module": "@jupyter-widgets/controls",
      "_model_module_version": "1.5.0",
      "_model_name": "DescriptionStyleModel",
      "_view_count": null,
      "_view_module": "@jupyter-widgets/base",
      "_view_module_version": "1.2.0",
      "_view_name": "StyleView",
      "description_width": ""
     }
    },
    "638e61bebe0e4edbb8efcf4c74522c6a": {
     "model_module": "@jupyter-widgets/base",
     "model_module_version": "1.2.0",
     "model_name": "LayoutModel",
     "state": {
      "_model_module": "@jupyter-widgets/base",
      "_model_module_version": "1.2.0",
      "_model_name": "LayoutModel",
      "_view_count": null,
      "_view_module": "@jupyter-widgets/base",
      "_view_module_version": "1.2.0",
      "_view_name": "LayoutView",
      "align_content": null,
      "align_items": null,
      "align_self": null,
      "border": null,
      "bottom": null,
      "display": null,
      "flex": null,
      "flex_flow": null,
      "grid_area": null,
      "grid_auto_columns": null,
      "grid_auto_flow": null,
      "grid_auto_rows": null,
      "grid_column": null,
      "grid_gap": null,
      "grid_row": null,
      "grid_template_areas": null,
      "grid_template_columns": null,
      "grid_template_rows": null,
      "height": null,
      "justify_content": null,
      "justify_items": null,
      "left": null,
      "margin": null,
      "max_height": null,
      "max_width": null,
      "min_height": null,
      "min_width": null,
      "object_fit": null,
      "object_position": null,
      "order": null,
      "overflow": null,
      "overflow_x": null,
      "overflow_y": null,
      "padding": null,
      "right": null,
      "top": null,
      "visibility": null,
      "width": null
     }
    },
    "67a00930652e4e6dae573bf47dca5284": {
     "model_module": "@jupyter-widgets/controls",
     "model_module_version": "1.5.0",
     "model_name": "FloatProgressModel",
     "state": {
      "_dom_classes": [],
      "_model_module": "@jupyter-widgets/controls",
      "_model_module_version": "1.5.0",
      "_model_name": "FloatProgressModel",
      "_view_count": null,
      "_view_module": "@jupyter-widgets/controls",
      "_view_module_version": "1.5.0",
      "_view_name": "ProgressView",
      "bar_style": "success",
      "description": "",
      "description_tooltip": null,
      "layout": "IPY_MODEL_51b48442835548f7bc6b1b68e9781334",
      "max": 1,
      "min": 0,
      "orientation": "horizontal",
      "style": "IPY_MODEL_6f13c803f9104127b564d256637c33b5",
      "value": 1
     }
    },
    "6a9ddfde9ab74eafa03c9e2c3d9d5246": {
     "model_module": "@jupyter-widgets/base",
     "model_module_version": "1.2.0",
     "model_name": "LayoutModel",
     "state": {
      "_model_module": "@jupyter-widgets/base",
      "_model_module_version": "1.2.0",
      "_model_name": "LayoutModel",
      "_view_count": null,
      "_view_module": "@jupyter-widgets/base",
      "_view_module_version": "1.2.0",
      "_view_name": "LayoutView",
      "align_content": null,
      "align_items": null,
      "align_self": null,
      "border": null,
      "bottom": null,
      "display": null,
      "flex": null,
      "flex_flow": null,
      "grid_area": null,
      "grid_auto_columns": null,
      "grid_auto_flow": null,
      "grid_auto_rows": null,
      "grid_column": null,
      "grid_gap": null,
      "grid_row": null,
      "grid_template_areas": null,
      "grid_template_columns": null,
      "grid_template_rows": null,
      "height": null,
      "justify_content": null,
      "justify_items": null,
      "left": null,
      "margin": null,
      "max_height": null,
      "max_width": null,
      "min_height": null,
      "min_width": null,
      "object_fit": null,
      "object_position": null,
      "order": null,
      "overflow": null,
      "overflow_x": null,
      "overflow_y": null,
      "padding": null,
      "right": null,
      "top": null,
      "visibility": null,
      "width": null
     }
    },
    "6f13c803f9104127b564d256637c33b5": {
     "model_module": "@jupyter-widgets/controls",
     "model_module_version": "1.5.0",
     "model_name": "ProgressStyleModel",
     "state": {
      "_model_module": "@jupyter-widgets/controls",
      "_model_module_version": "1.5.0",
      "_model_name": "ProgressStyleModel",
      "_view_count": null,
      "_view_module": "@jupyter-widgets/base",
      "_view_module_version": "1.2.0",
      "_view_name": "StyleView",
      "bar_color": null,
      "description_width": ""
     }
    },
    "7d9cfc0eeaf540a8b98d297a7021040c": {
     "model_module": "@jupyter-widgets/controls",
     "model_module_version": "1.5.0",
     "model_name": "DescriptionStyleModel",
     "state": {
      "_model_module": "@jupyter-widgets/controls",
      "_model_module_version": "1.5.0",
      "_model_name": "DescriptionStyleModel",
      "_view_count": null,
      "_view_module": "@jupyter-widgets/base",
      "_view_module_version": "1.2.0",
      "_view_name": "StyleView",
      "description_width": ""
     }
    },
    "8673af492a5b4ba48a2cc1cf05a6dd11": {
     "model_module": "@jupyter-widgets/base",
     "model_module_version": "1.2.0",
     "model_name": "LayoutModel",
     "state": {
      "_model_module": "@jupyter-widgets/base",
      "_model_module_version": "1.2.0",
      "_model_name": "LayoutModel",
      "_view_count": null,
      "_view_module": "@jupyter-widgets/base",
      "_view_module_version": "1.2.0",
      "_view_name": "LayoutView",
      "align_content": null,
      "align_items": null,
      "align_self": null,
      "border": null,
      "bottom": null,
      "display": null,
      "flex": null,
      "flex_flow": null,
      "grid_area": null,
      "grid_auto_columns": null,
      "grid_auto_flow": null,
      "grid_auto_rows": null,
      "grid_column": null,
      "grid_gap": null,
      "grid_row": null,
      "grid_template_areas": null,
      "grid_template_columns": null,
      "grid_template_rows": null,
      "height": null,
      "justify_content": null,
      "justify_items": null,
      "left": null,
      "margin": null,
      "max_height": null,
      "max_width": null,
      "min_height": null,
      "min_width": null,
      "object_fit": null,
      "object_position": null,
      "order": null,
      "overflow": null,
      "overflow_x": null,
      "overflow_y": null,
      "padding": null,
      "right": null,
      "top": null,
      "visibility": null,
      "width": null
     }
    },
    "87a3c3a5d41d4d94972336f2540dcda3": {
     "model_module": "@jupyter-widgets/controls",
     "model_module_version": "1.5.0",
     "model_name": "DescriptionStyleModel",
     "state": {
      "_model_module": "@jupyter-widgets/controls",
      "_model_module_version": "1.5.0",
      "_model_name": "DescriptionStyleModel",
      "_view_count": null,
      "_view_module": "@jupyter-widgets/base",
      "_view_module_version": "1.2.0",
      "_view_name": "StyleView",
      "description_width": ""
     }
    },
    "88296497bde24bafbac44bf9190ecc46": {
     "model_module": "@jupyter-widgets/base",
     "model_module_version": "1.2.0",
     "model_name": "LayoutModel",
     "state": {
      "_model_module": "@jupyter-widgets/base",
      "_model_module_version": "1.2.0",
      "_model_name": "LayoutModel",
      "_view_count": null,
      "_view_module": "@jupyter-widgets/base",
      "_view_module_version": "1.2.0",
      "_view_name": "LayoutView",
      "align_content": null,
      "align_items": null,
      "align_self": null,
      "border": null,
      "bottom": null,
      "display": null,
      "flex": null,
      "flex_flow": null,
      "grid_area": null,
      "grid_auto_columns": null,
      "grid_auto_flow": null,
      "grid_auto_rows": null,
      "grid_column": null,
      "grid_gap": null,
      "grid_row": null,
      "grid_template_areas": null,
      "grid_template_columns": null,
      "grid_template_rows": null,
      "height": null,
      "justify_content": null,
      "justify_items": null,
      "left": null,
      "margin": null,
      "max_height": null,
      "max_width": null,
      "min_height": null,
      "min_width": null,
      "object_fit": null,
      "object_position": null,
      "order": null,
      "overflow": null,
      "overflow_x": null,
      "overflow_y": null,
      "padding": null,
      "right": null,
      "top": null,
      "visibility": null,
      "width": null
     }
    },
    "8839022fb63444508bbeb9c98c0f5a37": {
     "model_module": "@jupyter-widgets/controls",
     "model_module_version": "1.5.0",
     "model_name": "HTMLModel",
     "state": {
      "_dom_classes": [],
      "_model_module": "@jupyter-widgets/controls",
      "_model_module_version": "1.5.0",
      "_model_name": "HTMLModel",
      "_view_count": null,
      "_view_module": "@jupyter-widgets/controls",
      "_view_module_version": "1.5.0",
      "_view_name": "HTMLView",
      "description": "",
      "description_tooltip": null,
      "layout": "IPY_MODEL_6a9ddfde9ab74eafa03c9e2c3d9d5246",
      "placeholder": "​",
      "style": "IPY_MODEL_7d9cfc0eeaf540a8b98d297a7021040c",
      "value": "Batches: 100%"
     }
    },
    "8adf7e6bac894ed89e50308f406b5e7f": {
     "model_module": "@jupyter-widgets/base",
     "model_module_version": "1.2.0",
     "model_name": "LayoutModel",
     "state": {
      "_model_module": "@jupyter-widgets/base",
      "_model_module_version": "1.2.0",
      "_model_name": "LayoutModel",
      "_view_count": null,
      "_view_module": "@jupyter-widgets/base",
      "_view_module_version": "1.2.0",
      "_view_name": "LayoutView",
      "align_content": null,
      "align_items": null,
      "align_self": null,
      "border": null,
      "bottom": null,
      "display": null,
      "flex": null,
      "flex_flow": null,
      "grid_area": null,
      "grid_auto_columns": null,
      "grid_auto_flow": null,
      "grid_auto_rows": null,
      "grid_column": null,
      "grid_gap": null,
      "grid_row": null,
      "grid_template_areas": null,
      "grid_template_columns": null,
      "grid_template_rows": null,
      "height": null,
      "justify_content": null,
      "justify_items": null,
      "left": null,
      "margin": null,
      "max_height": null,
      "max_width": null,
      "min_height": null,
      "min_width": null,
      "object_fit": null,
      "object_position": null,
      "order": null,
      "overflow": null,
      "overflow_x": null,
      "overflow_y": null,
      "padding": null,
      "right": null,
      "top": null,
      "visibility": null,
      "width": null
     }
    },
    "8d697b54828d4d27b54078d6eef35dee": {
     "model_module": "@jupyter-widgets/controls",
     "model_module_version": "1.5.0",
     "model_name": "HTMLModel",
     "state": {
      "_dom_classes": [],
      "_model_module": "@jupyter-widgets/controls",
      "_model_module_version": "1.5.0",
      "_model_name": "HTMLModel",
      "_view_count": null,
      "_view_module": "@jupyter-widgets/controls",
      "_view_module_version": "1.5.0",
      "_view_name": "HTMLView",
      "description": "",
      "description_tooltip": null,
      "layout": "IPY_MODEL_55d3c0ef1aa849bf97c0e2d53714301a",
      "placeholder": "​",
      "style": "IPY_MODEL_96ff31174e894699ab8f58ac41eedcfa",
      "value": " 1/1 [00:00&lt;00:00, 24.31it/s]"
     }
    },
    "95540b11692a4be885fb442e2bfaf687": {
     "model_module": "@jupyter-widgets/base",
     "model_module_version": "1.2.0",
     "model_name": "LayoutModel",
     "state": {
      "_model_module": "@jupyter-widgets/base",
      "_model_module_version": "1.2.0",
      "_model_name": "LayoutModel",
      "_view_count": null,
      "_view_module": "@jupyter-widgets/base",
      "_view_module_version": "1.2.0",
      "_view_name": "LayoutView",
      "align_content": null,
      "align_items": null,
      "align_self": null,
      "border": null,
      "bottom": null,
      "display": null,
      "flex": null,
      "flex_flow": null,
      "grid_area": null,
      "grid_auto_columns": null,
      "grid_auto_flow": null,
      "grid_auto_rows": null,
      "grid_column": null,
      "grid_gap": null,
      "grid_row": null,
      "grid_template_areas": null,
      "grid_template_columns": null,
      "grid_template_rows": null,
      "height": null,
      "justify_content": null,
      "justify_items": null,
      "left": null,
      "margin": null,
      "max_height": null,
      "max_width": null,
      "min_height": null,
      "min_width": null,
      "object_fit": null,
      "object_position": null,
      "order": null,
      "overflow": null,
      "overflow_x": null,
      "overflow_y": null,
      "padding": null,
      "right": null,
      "top": null,
      "visibility": null,
      "width": null
     }
    },
    "96ff31174e894699ab8f58ac41eedcfa": {
     "model_module": "@jupyter-widgets/controls",
     "model_module_version": "1.5.0",
     "model_name": "DescriptionStyleModel",
     "state": {
      "_model_module": "@jupyter-widgets/controls",
      "_model_module_version": "1.5.0",
      "_model_name": "DescriptionStyleModel",
      "_view_count": null,
      "_view_module": "@jupyter-widgets/base",
      "_view_module_version": "1.2.0",
      "_view_name": "StyleView",
      "description_width": ""
     }
    },
    "99a8bdb190144c0084831d53ef4adff1": {
     "model_module": "@jupyter-widgets/base",
     "model_module_version": "1.2.0",
     "model_name": "LayoutModel",
     "state": {
      "_model_module": "@jupyter-widgets/base",
      "_model_module_version": "1.2.0",
      "_model_name": "LayoutModel",
      "_view_count": null,
      "_view_module": "@jupyter-widgets/base",
      "_view_module_version": "1.2.0",
      "_view_name": "LayoutView",
      "align_content": null,
      "align_items": null,
      "align_self": null,
      "border": null,
      "bottom": null,
      "display": null,
      "flex": null,
      "flex_flow": null,
      "grid_area": null,
      "grid_auto_columns": null,
      "grid_auto_flow": null,
      "grid_auto_rows": null,
      "grid_column": null,
      "grid_gap": null,
      "grid_row": null,
      "grid_template_areas": null,
      "grid_template_columns": null,
      "grid_template_rows": null,
      "height": null,
      "justify_content": null,
      "justify_items": null,
      "left": null,
      "margin": null,
      "max_height": null,
      "max_width": null,
      "min_height": null,
      "min_width": null,
      "object_fit": null,
      "object_position": null,
      "order": null,
      "overflow": null,
      "overflow_x": null,
      "overflow_y": null,
      "padding": null,
      "right": null,
      "top": null,
      "visibility": null,
      "width": null
     }
    },
    "9a2a0f24fef24a25a5f9ea7dcc1ac02a": {
     "model_module": "@jupyter-widgets/base",
     "model_module_version": "1.2.0",
     "model_name": "LayoutModel",
     "state": {
      "_model_module": "@jupyter-widgets/base",
      "_model_module_version": "1.2.0",
      "_model_name": "LayoutModel",
      "_view_count": null,
      "_view_module": "@jupyter-widgets/base",
      "_view_module_version": "1.2.0",
      "_view_name": "LayoutView",
      "align_content": null,
      "align_items": null,
      "align_self": null,
      "border": null,
      "bottom": null,
      "display": null,
      "flex": null,
      "flex_flow": null,
      "grid_area": null,
      "grid_auto_columns": null,
      "grid_auto_flow": null,
      "grid_auto_rows": null,
      "grid_column": null,
      "grid_gap": null,
      "grid_row": null,
      "grid_template_areas": null,
      "grid_template_columns": null,
      "grid_template_rows": null,
      "height": null,
      "justify_content": null,
      "justify_items": null,
      "left": null,
      "margin": null,
      "max_height": null,
      "max_width": null,
      "min_height": null,
      "min_width": null,
      "object_fit": null,
      "object_position": null,
      "order": null,
      "overflow": null,
      "overflow_x": null,
      "overflow_y": null,
      "padding": null,
      "right": null,
      "top": null,
      "visibility": null,
      "width": null
     }
    },
    "9a9f8cf053954d63a6a8234d7d993d33": {
     "model_module": "@jupyter-widgets/controls",
     "model_module_version": "1.5.0",
     "model_name": "FloatProgressModel",
     "state": {
      "_dom_classes": [],
      "_model_module": "@jupyter-widgets/controls",
      "_model_module_version": "1.5.0",
      "_model_name": "FloatProgressModel",
      "_view_count": null,
      "_view_module": "@jupyter-widgets/controls",
      "_view_module_version": "1.5.0",
      "_view_name": "ProgressView",
      "bar_style": "success",
      "description": "",
      "description_tooltip": null,
      "layout": "IPY_MODEL_9a2a0f24fef24a25a5f9ea7dcc1ac02a",
      "max": 1,
      "min": 0,
      "orientation": "horizontal",
      "style": "IPY_MODEL_9cabd2c6626e4f609df53f25527e0529",
      "value": 1
     }
    },
    "9bc228be77ad43738b9c136adb273d18": {
     "model_module": "@jupyter-widgets/controls",
     "model_module_version": "1.5.0",
     "model_name": "HTMLModel",
     "state": {
      "_dom_classes": [],
      "_model_module": "@jupyter-widgets/controls",
      "_model_module_version": "1.5.0",
      "_model_name": "HTMLModel",
      "_view_count": null,
      "_view_module": "@jupyter-widgets/controls",
      "_view_module_version": "1.5.0",
      "_view_name": "HTMLView",
      "description": "",
      "description_tooltip": null,
      "layout": "IPY_MODEL_d3251abd8cee40bbbfb883bbd4e987b2",
      "placeholder": "​",
      "style": "IPY_MODEL_3c6cc08a94a94eceb1cee42f05f3e607",
      "value": " 12/12 [00:00&lt;00:00, 22.43it/s]"
     }
    },
    "9cabd2c6626e4f609df53f25527e0529": {
     "model_module": "@jupyter-widgets/controls",
     "model_module_version": "1.5.0",
     "model_name": "ProgressStyleModel",
     "state": {
      "_model_module": "@jupyter-widgets/controls",
      "_model_module_version": "1.5.0",
      "_model_name": "ProgressStyleModel",
      "_view_count": null,
      "_view_module": "@jupyter-widgets/base",
      "_view_module_version": "1.2.0",
      "_view_name": "StyleView",
      "bar_color": null,
      "description_width": ""
     }
    },
    "a0dcc9fb147a47af9ce022a367136286": {
     "model_module": "@jupyter-widgets/controls",
     "model_module_version": "1.5.0",
     "model_name": "HTMLModel",
     "state": {
      "_dom_classes": [],
      "_model_module": "@jupyter-widgets/controls",
      "_model_module_version": "1.5.0",
      "_model_name": "HTMLModel",
      "_view_count": null,
      "_view_module": "@jupyter-widgets/controls",
      "_view_module_version": "1.5.0",
      "_view_name": "HTMLView",
      "description": "",
      "description_tooltip": null,
      "layout": "IPY_MODEL_3fb4de390e7f4d08b88ae34e0c41efe3",
      "placeholder": "​",
      "style": "IPY_MODEL_b9f47e23ed314646ace31737957ef8da",
      "value": "Batches: 100%"
     }
    },
    "a19b04067d424c05a82e08ca99f16065": {
     "model_module": "@jupyter-widgets/controls",
     "model_module_version": "1.5.0",
     "model_name": "DescriptionStyleModel",
     "state": {
      "_model_module": "@jupyter-widgets/controls",
      "_model_module_version": "1.5.0",
      "_model_name": "DescriptionStyleModel",
      "_view_count": null,
      "_view_module": "@jupyter-widgets/base",
      "_view_module_version": "1.2.0",
      "_view_name": "StyleView",
      "description_width": ""
     }
    },
    "a55aa427dede4e5981b07d00ccb82b77": {
     "model_module": "@jupyter-widgets/controls",
     "model_module_version": "1.5.0",
     "model_name": "FloatProgressModel",
     "state": {
      "_dom_classes": [],
      "_model_module": "@jupyter-widgets/controls",
      "_model_module_version": "1.5.0",
      "_model_name": "FloatProgressModel",
      "_view_count": null,
      "_view_module": "@jupyter-widgets/controls",
      "_view_module_version": "1.5.0",
      "_view_name": "ProgressView",
      "bar_style": "success",
      "description": "",
      "description_tooltip": null,
      "layout": "IPY_MODEL_2310566a0db54b1eaae86f14b860f756",
      "max": 12,
      "min": 0,
      "orientation": "horizontal",
      "style": "IPY_MODEL_5c0858df785c4e32ad3cfd5993c094fb",
      "value": 12
     }
    },
    "a99b8dd7878f400791f807e1356c71b7": {
     "model_module": "@jupyter-widgets/base",
     "model_module_version": "1.2.0",
     "model_name": "LayoutModel",
     "state": {
      "_model_module": "@jupyter-widgets/base",
      "_model_module_version": "1.2.0",
      "_model_name": "LayoutModel",
      "_view_count": null,
      "_view_module": "@jupyter-widgets/base",
      "_view_module_version": "1.2.0",
      "_view_name": "LayoutView",
      "align_content": null,
      "align_items": null,
      "align_self": null,
      "border": null,
      "bottom": null,
      "display": null,
      "flex": null,
      "flex_flow": null,
      "grid_area": null,
      "grid_auto_columns": null,
      "grid_auto_flow": null,
      "grid_auto_rows": null,
      "grid_column": null,
      "grid_gap": null,
      "grid_row": null,
      "grid_template_areas": null,
      "grid_template_columns": null,
      "grid_template_rows": null,
      "height": null,
      "justify_content": null,
      "justify_items": null,
      "left": null,
      "margin": null,
      "max_height": null,
      "max_width": null,
      "min_height": null,
      "min_width": null,
      "object_fit": null,
      "object_position": null,
      "order": null,
      "overflow": null,
      "overflow_x": null,
      "overflow_y": null,
      "padding": null,
      "right": null,
      "top": null,
      "visibility": null,
      "width": null
     }
    },
    "b364b201e4024bb09ee696902a6ea67c": {
     "model_module": "@jupyter-widgets/base",
     "model_module_version": "1.2.0",
     "model_name": "LayoutModel",
     "state": {
      "_model_module": "@jupyter-widgets/base",
      "_model_module_version": "1.2.0",
      "_model_name": "LayoutModel",
      "_view_count": null,
      "_view_module": "@jupyter-widgets/base",
      "_view_module_version": "1.2.0",
      "_view_name": "LayoutView",
      "align_content": null,
      "align_items": null,
      "align_self": null,
      "border": null,
      "bottom": null,
      "display": null,
      "flex": null,
      "flex_flow": null,
      "grid_area": null,
      "grid_auto_columns": null,
      "grid_auto_flow": null,
      "grid_auto_rows": null,
      "grid_column": null,
      "grid_gap": null,
      "grid_row": null,
      "grid_template_areas": null,
      "grid_template_columns": null,
      "grid_template_rows": null,
      "height": null,
      "justify_content": null,
      "justify_items": null,
      "left": null,
      "margin": null,
      "max_height": null,
      "max_width": null,
      "min_height": null,
      "min_width": null,
      "object_fit": null,
      "object_position": null,
      "order": null,
      "overflow": null,
      "overflow_x": null,
      "overflow_y": null,
      "padding": null,
      "right": null,
      "top": null,
      "visibility": null,
      "width": null
     }
    },
    "b55434388b6d4eeb83b015bff2239131": {
     "model_module": "@jupyter-widgets/controls",
     "model_module_version": "1.5.0",
     "model_name": "ProgressStyleModel",
     "state": {
      "_model_module": "@jupyter-widgets/controls",
      "_model_module_version": "1.5.0",
      "_model_name": "ProgressStyleModel",
      "_view_count": null,
      "_view_module": "@jupyter-widgets/base",
      "_view_module_version": "1.2.0",
      "_view_name": "StyleView",
      "bar_color": null,
      "description_width": ""
     }
    },
    "b7e05b2a3684400a8c7f4b515cf37345": {
     "model_module": "@jupyter-widgets/controls",
     "model_module_version": "1.5.0",
     "model_name": "FloatProgressModel",
     "state": {
      "_dom_classes": [],
      "_model_module": "@jupyter-widgets/controls",
      "_model_module_version": "1.5.0",
      "_model_name": "FloatProgressModel",
      "_view_count": null,
      "_view_module": "@jupyter-widgets/controls",
      "_view_module_version": "1.5.0",
      "_view_name": "ProgressView",
      "bar_style": "success",
      "description": "",
      "description_tooltip": null,
      "layout": "IPY_MODEL_090cd0276235435f8e973df15afadc62",
      "max": 1,
      "min": 0,
      "orientation": "horizontal",
      "style": "IPY_MODEL_451fb5f128a64e7f973a470148a038c0",
      "value": 1
     }
    },
    "b896afc7397f4b5ea645ff1b29ec9c85": {
     "model_module": "@jupyter-widgets/controls",
     "model_module_version": "1.5.0",
     "model_name": "DescriptionStyleModel",
     "state": {
      "_model_module": "@jupyter-widgets/controls",
      "_model_module_version": "1.5.0",
      "_model_name": "DescriptionStyleModel",
      "_view_count": null,
      "_view_module": "@jupyter-widgets/base",
      "_view_module_version": "1.2.0",
      "_view_name": "StyleView",
      "description_width": ""
     }
    },
    "b9f47e23ed314646ace31737957ef8da": {
     "model_module": "@jupyter-widgets/controls",
     "model_module_version": "1.5.0",
     "model_name": "DescriptionStyleModel",
     "state": {
      "_model_module": "@jupyter-widgets/controls",
      "_model_module_version": "1.5.0",
      "_model_name": "DescriptionStyleModel",
      "_view_count": null,
      "_view_module": "@jupyter-widgets/base",
      "_view_module_version": "1.2.0",
      "_view_name": "StyleView",
      "description_width": ""
     }
    },
    "bd0ee229f1c64563bc705a9551a63fad": {
     "model_module": "@jupyter-widgets/controls",
     "model_module_version": "1.5.0",
     "model_name": "DescriptionStyleModel",
     "state": {
      "_model_module": "@jupyter-widgets/controls",
      "_model_module_version": "1.5.0",
      "_model_name": "DescriptionStyleModel",
      "_view_count": null,
      "_view_module": "@jupyter-widgets/base",
      "_view_module_version": "1.2.0",
      "_view_name": "StyleView",
      "description_width": ""
     }
    },
    "bdc083ab11764324ab7f3db4a3765124": {
     "model_module": "@jupyter-widgets/controls",
     "model_module_version": "1.5.0",
     "model_name": "HBoxModel",
     "state": {
      "_dom_classes": [],
      "_model_module": "@jupyter-widgets/controls",
      "_model_module_version": "1.5.0",
      "_model_name": "HBoxModel",
      "_view_count": null,
      "_view_module": "@jupyter-widgets/controls",
      "_view_module_version": "1.5.0",
      "_view_name": "HBoxView",
      "box_style": "",
      "children": [
       "IPY_MODEL_edc763138dba4dafa73279559b679f4a",
       "IPY_MODEL_6366608dcfb84ebcb44d7aed3ce47d56",
       "IPY_MODEL_5661fc3716434478934868316140f7de"
      ],
      "layout": "IPY_MODEL_007b995972204638844ad5a850fba445"
     }
    },
    "c1cac8514f9940168d5761817b7c73f8": {
     "model_module": "@jupyter-widgets/controls",
     "model_module_version": "1.5.0",
     "model_name": "HBoxModel",
     "state": {
      "_dom_classes": [],
      "_model_module": "@jupyter-widgets/controls",
      "_model_module_version": "1.5.0",
      "_model_name": "HBoxModel",
      "_view_count": null,
      "_view_module": "@jupyter-widgets/controls",
      "_view_module_version": "1.5.0",
      "_view_name": "HBoxView",
      "box_style": "",
      "children": [
       "IPY_MODEL_8839022fb63444508bbeb9c98c0f5a37",
       "IPY_MODEL_a55aa427dede4e5981b07d00ccb82b77",
       "IPY_MODEL_9bc228be77ad43738b9c136adb273d18"
      ],
      "layout": "IPY_MODEL_e7a98fa0f9824d398e70d2f4d17d2e1c"
     }
    },
    "d072c318391b4461950ac426db8b33c2": {
     "model_module": "@jupyter-widgets/controls",
     "model_module_version": "1.5.0",
     "model_name": "HBoxModel",
     "state": {
      "_dom_classes": [],
      "_model_module": "@jupyter-widgets/controls",
      "_model_module_version": "1.5.0",
      "_model_name": "HBoxModel",
      "_view_count": null,
      "_view_module": "@jupyter-widgets/controls",
      "_view_module_version": "1.5.0",
      "_view_name": "HBoxView",
      "box_style": "",
      "children": [
       "IPY_MODEL_5ef62bb0c10247a2b5d6aaef9933acf0",
       "IPY_MODEL_b7e05b2a3684400a8c7f4b515cf37345",
       "IPY_MODEL_d2a9b96b9f1045ceb6c7856d42007043"
      ],
      "layout": "IPY_MODEL_95540b11692a4be885fb442e2bfaf687"
     }
    },
    "d20f5600a7674a7e94c4924765b75066": {
     "model_module": "@jupyter-widgets/controls",
     "model_module_version": "1.5.0",
     "model_name": "HBoxModel",
     "state": {
      "_dom_classes": [],
      "_model_module": "@jupyter-widgets/controls",
      "_model_module_version": "1.5.0",
      "_model_name": "HBoxModel",
      "_view_count": null,
      "_view_module": "@jupyter-widgets/controls",
      "_view_module_version": "1.5.0",
      "_view_name": "HBoxView",
      "box_style": "",
      "children": [
       "IPY_MODEL_a0dcc9fb147a47af9ce022a367136286",
       "IPY_MODEL_67a00930652e4e6dae573bf47dca5284",
       "IPY_MODEL_1a6f67da27c84051a4898de0c78f606c"
      ],
      "layout": "IPY_MODEL_246a7bd5f2934f9dbabcbc95b988f50f"
     }
    },
    "d2a9b96b9f1045ceb6c7856d42007043": {
     "model_module": "@jupyter-widgets/controls",
     "model_module_version": "1.5.0",
     "model_name": "HTMLModel",
     "state": {
      "_dom_classes": [],
      "_model_module": "@jupyter-widgets/controls",
      "_model_module_version": "1.5.0",
      "_model_name": "HTMLModel",
      "_view_count": null,
      "_view_module": "@jupyter-widgets/controls",
      "_view_module_version": "1.5.0",
      "_view_name": "HTMLView",
      "description": "",
      "description_tooltip": null,
      "layout": "IPY_MODEL_8673af492a5b4ba48a2cc1cf05a6dd11",
      "placeholder": "​",
      "style": "IPY_MODEL_a19b04067d424c05a82e08ca99f16065",
      "value": " 1/1 [00:00&lt;00:00, 24.47it/s]"
     }
    },
    "d301653ae4284759b418fb53a241bfcd": {
     "model_module": "@jupyter-widgets/base",
     "model_module_version": "1.2.0",
     "model_name": "LayoutModel",
     "state": {
      "_model_module": "@jupyter-widgets/base",
      "_model_module_version": "1.2.0",
      "_model_name": "LayoutModel",
      "_view_count": null,
      "_view_module": "@jupyter-widgets/base",
      "_view_module_version": "1.2.0",
      "_view_name": "LayoutView",
      "align_content": null,
      "align_items": null,
      "align_self": null,
      "border": null,
      "bottom": null,
      "display": null,
      "flex": null,
      "flex_flow": null,
      "grid_area": null,
      "grid_auto_columns": null,
      "grid_auto_flow": null,
      "grid_auto_rows": null,
      "grid_column": null,
      "grid_gap": null,
      "grid_row": null,
      "grid_template_areas": null,
      "grid_template_columns": null,
      "grid_template_rows": null,
      "height": null,
      "justify_content": null,
      "justify_items": null,
      "left": null,
      "margin": null,
      "max_height": null,
      "max_width": null,
      "min_height": null,
      "min_width": null,
      "object_fit": null,
      "object_position": null,
      "order": null,
      "overflow": null,
      "overflow_x": null,
      "overflow_y": null,
      "padding": null,
      "right": null,
      "top": null,
      "visibility": null,
      "width": null
     }
    },
    "d3251abd8cee40bbbfb883bbd4e987b2": {
     "model_module": "@jupyter-widgets/base",
     "model_module_version": "1.2.0",
     "model_name": "LayoutModel",
     "state": {
      "_model_module": "@jupyter-widgets/base",
      "_model_module_version": "1.2.0",
      "_model_name": "LayoutModel",
      "_view_count": null,
      "_view_module": "@jupyter-widgets/base",
      "_view_module_version": "1.2.0",
      "_view_name": "LayoutView",
      "align_content": null,
      "align_items": null,
      "align_self": null,
      "border": null,
      "bottom": null,
      "display": null,
      "flex": null,
      "flex_flow": null,
      "grid_area": null,
      "grid_auto_columns": null,
      "grid_auto_flow": null,
      "grid_auto_rows": null,
      "grid_column": null,
      "grid_gap": null,
      "grid_row": null,
      "grid_template_areas": null,
      "grid_template_columns": null,
      "grid_template_rows": null,
      "height": null,
      "justify_content": null,
      "justify_items": null,
      "left": null,
      "margin": null,
      "max_height": null,
      "max_width": null,
      "min_height": null,
      "min_width": null,
      "object_fit": null,
      "object_position": null,
      "order": null,
      "overflow": null,
      "overflow_x": null,
      "overflow_y": null,
      "padding": null,
      "right": null,
      "top": null,
      "visibility": null,
      "width": null
     }
    },
    "e7a98fa0f9824d398e70d2f4d17d2e1c": {
     "model_module": "@jupyter-widgets/base",
     "model_module_version": "1.2.0",
     "model_name": "LayoutModel",
     "state": {
      "_model_module": "@jupyter-widgets/base",
      "_model_module_version": "1.2.0",
      "_model_name": "LayoutModel",
      "_view_count": null,
      "_view_module": "@jupyter-widgets/base",
      "_view_module_version": "1.2.0",
      "_view_name": "LayoutView",
      "align_content": null,
      "align_items": null,
      "align_self": null,
      "border": null,
      "bottom": null,
      "display": null,
      "flex": null,
      "flex_flow": null,
      "grid_area": null,
      "grid_auto_columns": null,
      "grid_auto_flow": null,
      "grid_auto_rows": null,
      "grid_column": null,
      "grid_gap": null,
      "grid_row": null,
      "grid_template_areas": null,
      "grid_template_columns": null,
      "grid_template_rows": null,
      "height": null,
      "justify_content": null,
      "justify_items": null,
      "left": null,
      "margin": null,
      "max_height": null,
      "max_width": null,
      "min_height": null,
      "min_width": null,
      "object_fit": null,
      "object_position": null,
      "order": null,
      "overflow": null,
      "overflow_x": null,
      "overflow_y": null,
      "padding": null,
      "right": null,
      "top": null,
      "visibility": null,
      "width": null
     }
    },
    "e9346407c3694cecb2a9529706ef9f2c": {
     "model_module": "@jupyter-widgets/controls",
     "model_module_version": "1.5.0",
     "model_name": "DescriptionStyleModel",
     "state": {
      "_model_module": "@jupyter-widgets/controls",
      "_model_module_version": "1.5.0",
      "_model_name": "DescriptionStyleModel",
      "_view_count": null,
      "_view_module": "@jupyter-widgets/base",
      "_view_module_version": "1.2.0",
      "_view_name": "StyleView",
      "description_width": ""
     }
    },
    "edc763138dba4dafa73279559b679f4a": {
     "model_module": "@jupyter-widgets/controls",
     "model_module_version": "1.5.0",
     "model_name": "HTMLModel",
     "state": {
      "_dom_classes": [],
      "_model_module": "@jupyter-widgets/controls",
      "_model_module_version": "1.5.0",
      "_model_name": "HTMLModel",
      "_view_count": null,
      "_view_module": "@jupyter-widgets/controls",
      "_view_module_version": "1.5.0",
      "_view_name": "HTMLView",
      "description": "",
      "description_tooltip": null,
      "layout": "IPY_MODEL_8adf7e6bac894ed89e50308f406b5e7f",
      "placeholder": "​",
      "style": "IPY_MODEL_bd0ee229f1c64563bc705a9551a63fad",
      "value": "Batches: 100%"
     }
    },
    "f0d09ddd50d0424a9cf3f7a6dbd1a59b": {
     "model_module": "@jupyter-widgets/controls",
     "model_module_version": "1.5.0",
     "model_name": "HTMLModel",
     "state": {
      "_dom_classes": [],
      "_model_module": "@jupyter-widgets/controls",
      "_model_module_version": "1.5.0",
      "_model_name": "HTMLModel",
      "_view_count": null,
      "_view_module": "@jupyter-widgets/controls",
      "_view_module_version": "1.5.0",
      "_view_name": "HTMLView",
      "description": "",
      "description_tooltip": null,
      "layout": "IPY_MODEL_1164cd5bc44d4002b27667b47ef6685d",
      "placeholder": "​",
      "style": "IPY_MODEL_63798820649a4b2c9bc75a1850b43582",
      "value": "Batches: 100%"
     }
    },
    "f89786cf6f5d42f99935a40b1d28477a": {
     "model_module": "@jupyter-widgets/controls",
     "model_module_version": "1.5.0",
     "model_name": "FloatProgressModel",
     "state": {
      "_dom_classes": [],
      "_model_module": "@jupyter-widgets/controls",
      "_model_module_version": "1.5.0",
      "_model_name": "FloatProgressModel",
      "_view_count": null,
      "_view_module": "@jupyter-widgets/controls",
      "_view_module_version": "1.5.0",
      "_view_name": "ProgressView",
      "bar_style": "success",
      "description": "",
      "description_tooltip": null,
      "layout": "IPY_MODEL_a99b8dd7878f400791f807e1356c71b7",
      "max": 1,
      "min": 0,
      "orientation": "horizontal",
      "style": "IPY_MODEL_b55434388b6d4eeb83b015bff2239131",
      "value": 1
     }
    }
   }
  }
 },
 "nbformat": 4,
 "nbformat_minor": 4
}
